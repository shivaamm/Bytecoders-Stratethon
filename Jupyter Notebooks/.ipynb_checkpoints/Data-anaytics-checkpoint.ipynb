{
 "cells": [
  {
   "cell_type": "markdown",
   "id": "437f0e4e",
   "metadata": {},
   "source": [
    "# Data preprocessing and seperation of final test dataset"
   ]
  },
  {
   "cell_type": "code",
   "execution_count": 1,
   "id": "da059504",
   "metadata": {},
   "outputs": [],
   "source": [
    "#importing libraries\n",
    "import pandas as pd\n",
    "import numpy as np\n",
    "import matplotlib.pyplot as plt\n",
    "%matplotlib inline\n",
    "import seaborn as sns\n",
    "\n",
    "pd.options.mode.chained_assignment = None  # default='warn'"
   ]
  },
  {
   "cell_type": "code",
   "execution_count": 2,
   "id": "b0b74c3a",
   "metadata": {},
   "outputs": [
    {
     "name": "stdout",
     "output_type": "stream",
     "text": [
      "Total shape :  (1171, 15)\n"
     ]
    },
    {
     "data": {
      "text/html": [
       "<div>\n",
       "<style scoped>\n",
       "    .dataframe tbody tr th:only-of-type {\n",
       "        vertical-align: middle;\n",
       "    }\n",
       "\n",
       "    .dataframe tbody tr th {\n",
       "        vertical-align: top;\n",
       "    }\n",
       "\n",
       "    .dataframe thead th {\n",
       "        text-align: right;\n",
       "    }\n",
       "</style>\n",
       "<table border=\"1\" class=\"dataframe\">\n",
       "  <thead>\n",
       "    <tr style=\"text-align: right;\">\n",
       "      <th></th>\n",
       "      <th>Id</th>\n",
       "      <th>BIRTHDATE</th>\n",
       "      <th>SSN</th>\n",
       "      <th>FIRST</th>\n",
       "      <th>LAST</th>\n",
       "      <th>RACE</th>\n",
       "      <th>ETHNICITY</th>\n",
       "      <th>GENDER</th>\n",
       "      <th>BIRTHPLACE</th>\n",
       "      <th>CITY</th>\n",
       "      <th>STATE</th>\n",
       "      <th>COUNTY</th>\n",
       "      <th>HEALTHCARE_EXPENSES</th>\n",
       "      <th>HEALTHCARE_COVERAGE</th>\n",
       "      <th>non_adherence</th>\n",
       "    </tr>\n",
       "  </thead>\n",
       "  <tbody>\n",
       "    <tr>\n",
       "      <th>0</th>\n",
       "      <td>1d604da9-9a81-4ba9-80c2-de3375d59b40</td>\n",
       "      <td>1989-05-25</td>\n",
       "      <td>999-76-6866</td>\n",
       "      <td>José Eduardo181</td>\n",
       "      <td>Gómez206</td>\n",
       "      <td>white</td>\n",
       "      <td>hispanic</td>\n",
       "      <td>M</td>\n",
       "      <td>Marigot  Saint Andrew Parish  DM</td>\n",
       "      <td>Chicopee</td>\n",
       "      <td>Massachusetts</td>\n",
       "      <td>Hampden County</td>\n",
       "      <td>271227.08</td>\n",
       "      <td>1334.88</td>\n",
       "      <td>1.0</td>\n",
       "    </tr>\n",
       "    <tr>\n",
       "      <th>1</th>\n",
       "      <td>034e9e3b-2def-4559-bb2a-7850888ae060</td>\n",
       "      <td>1983-11-14</td>\n",
       "      <td>999-73-5361</td>\n",
       "      <td>Milo271</td>\n",
       "      <td>Feil794</td>\n",
       "      <td>white</td>\n",
       "      <td>nonhispanic</td>\n",
       "      <td>M</td>\n",
       "      <td>Danvers  Massachusetts  US</td>\n",
       "      <td>Somerville</td>\n",
       "      <td>Massachusetts</td>\n",
       "      <td>Middlesex County</td>\n",
       "      <td>793946.01</td>\n",
       "      <td>3204.49</td>\n",
       "      <td>0.0</td>\n",
       "    </tr>\n",
       "    <tr>\n",
       "      <th>2</th>\n",
       "      <td>10339b10-3cd1-4ac3-ac13-ec26728cb592</td>\n",
       "      <td>1992-06-02</td>\n",
       "      <td>999-27-3385</td>\n",
       "      <td>Jayson808</td>\n",
       "      <td>Fadel536</td>\n",
       "      <td>white</td>\n",
       "      <td>nonhispanic</td>\n",
       "      <td>M</td>\n",
       "      <td>Springfield  Massachusetts  US</td>\n",
       "      <td>Chicopee</td>\n",
       "      <td>Massachusetts</td>\n",
       "      <td>Hampden County</td>\n",
       "      <td>574111.90</td>\n",
       "      <td>2606.40</td>\n",
       "      <td>0.0</td>\n",
       "    </tr>\n",
       "    <tr>\n",
       "      <th>3</th>\n",
       "      <td>8d4c4326-e9de-4f45-9a4c-f8c36bff89ae</td>\n",
       "      <td>1978-05-27</td>\n",
       "      <td>999-85-4926</td>\n",
       "      <td>Mariana775</td>\n",
       "      <td>Rutherford999</td>\n",
       "      <td>white</td>\n",
       "      <td>nonhispanic</td>\n",
       "      <td>F</td>\n",
       "      <td>Yarmouth  Massachusetts  US</td>\n",
       "      <td>Lowell</td>\n",
       "      <td>Massachusetts</td>\n",
       "      <td>Middlesex County</td>\n",
       "      <td>935630.30</td>\n",
       "      <td>8756.19</td>\n",
       "      <td>0.0</td>\n",
       "    </tr>\n",
       "    <tr>\n",
       "      <th>4</th>\n",
       "      <td>f5dcd418-09fe-4a2f-baa0-3da800bd8c3a</td>\n",
       "      <td>1996-10-18</td>\n",
       "      <td>999-60-7372</td>\n",
       "      <td>Gregorio366</td>\n",
       "      <td>Auer97</td>\n",
       "      <td>white</td>\n",
       "      <td>nonhispanic</td>\n",
       "      <td>M</td>\n",
       "      <td>Patras  Achaea  GR</td>\n",
       "      <td>Boston</td>\n",
       "      <td>Massachusetts</td>\n",
       "      <td>Suffolk County</td>\n",
       "      <td>598763.07</td>\n",
       "      <td>3772.20</td>\n",
       "      <td>0.0</td>\n",
       "    </tr>\n",
       "  </tbody>\n",
       "</table>\n",
       "</div>"
      ],
      "text/plain": [
       "                                     Id   BIRTHDATE          SSN  \\\n",
       "0  1d604da9-9a81-4ba9-80c2-de3375d59b40  1989-05-25  999-76-6866   \n",
       "1  034e9e3b-2def-4559-bb2a-7850888ae060  1983-11-14  999-73-5361   \n",
       "2  10339b10-3cd1-4ac3-ac13-ec26728cb592  1992-06-02  999-27-3385   \n",
       "3  8d4c4326-e9de-4f45-9a4c-f8c36bff89ae  1978-05-27  999-85-4926   \n",
       "4  f5dcd418-09fe-4a2f-baa0-3da800bd8c3a  1996-10-18  999-60-7372   \n",
       "\n",
       "             FIRST           LAST   RACE    ETHNICITY GENDER  \\\n",
       "0  José Eduardo181       Gómez206  white     hispanic      M   \n",
       "1          Milo271        Feil794  white  nonhispanic      M   \n",
       "2        Jayson808       Fadel536  white  nonhispanic      M   \n",
       "3       Mariana775  Rutherford999  white  nonhispanic      F   \n",
       "4      Gregorio366         Auer97  white  nonhispanic      M   \n",
       "\n",
       "                         BIRTHPLACE        CITY          STATE  \\\n",
       "0  Marigot  Saint Andrew Parish  DM    Chicopee  Massachusetts   \n",
       "1        Danvers  Massachusetts  US  Somerville  Massachusetts   \n",
       "2    Springfield  Massachusetts  US    Chicopee  Massachusetts   \n",
       "3       Yarmouth  Massachusetts  US      Lowell  Massachusetts   \n",
       "4                Patras  Achaea  GR      Boston  Massachusetts   \n",
       "\n",
       "             COUNTY  HEALTHCARE_EXPENSES  HEALTHCARE_COVERAGE  non_adherence  \n",
       "0    Hampden County            271227.08              1334.88            1.0  \n",
       "1  Middlesex County            793946.01              3204.49            0.0  \n",
       "2    Hampden County            574111.90              2606.40            0.0  \n",
       "3  Middlesex County            935630.30              8756.19            0.0  \n",
       "4    Suffolk County            598763.07              3772.20            0.0  "
      ]
     },
     "execution_count": 2,
     "metadata": {},
     "output_type": "execute_result"
    }
   ],
   "source": [
    "patients = pd.read_csv('../myCSV/modified_patients.csv')\n",
    "print('Total shape : ',patients.shape)\n",
    "patients.head()"
   ]
  },
  {
   "cell_type": "code",
   "execution_count": 3,
   "id": "7b543c98",
   "metadata": {},
   "outputs": [
    {
     "data": {
      "text/plain": [
       "Id                      0\n",
       "BIRTHDATE               0\n",
       "SSN                     0\n",
       "FIRST                   0\n",
       "LAST                    0\n",
       "RACE                    0\n",
       "ETHNICITY               0\n",
       "GENDER                  0\n",
       "BIRTHPLACE              0\n",
       "CITY                    0\n",
       "STATE                   0\n",
       "COUNTY                  0\n",
       "HEALTHCARE_EXPENSES     0\n",
       "HEALTHCARE_COVERAGE     0\n",
       "non_adherence          19\n",
       "dtype: int64"
      ]
     },
     "execution_count": 3,
     "metadata": {},
     "output_type": "execute_result"
    }
   ],
   "source": [
    "patients.isnull().sum()"
   ]
  },
  {
   "cell_type": "markdown",
   "id": "95cc1154",
   "metadata": {},
   "source": [
    "#### Rows in which non-adherence value is NULL will be treated as final testing dataset. So seperating it in the starting and will be working further with df having no NULL values."
   ]
  },
  {
   "cell_type": "code",
   "execution_count": 4,
   "id": "7da236c5",
   "metadata": {},
   "outputs": [
    {
     "data": {
      "text/plain": [
       "(19, 15)"
      ]
     },
     "execution_count": 4,
     "metadata": {},
     "output_type": "execute_result"
    }
   ],
   "source": [
    "final_testing_dataset = patients[patients['non_adherence'].isnull()]\n",
    "df = patients[patients['non_adherence'].notnull()]\n",
    "df['non_adherence'] = df['non_adherence'].apply(np.int64)\n",
    "final_testing_dataset.shape"
   ]
  },
  {
   "cell_type": "code",
   "execution_count": 5,
   "id": "7b39c14c",
   "metadata": {},
   "outputs": [
    {
     "data": {
      "text/plain": [
       "0"
      ]
     },
     "execution_count": 5,
     "metadata": {},
     "output_type": "execute_result"
    }
   ],
   "source": [
    "# Total number of duplicate rows\n",
    "df.duplicated().sum()"
   ]
  },
  {
   "cell_type": "code",
   "execution_count": 6,
   "id": "acb53ac8",
   "metadata": {},
   "outputs": [
    {
     "name": "stdout",
     "output_type": "stream",
     "text": [
      "Number of unique patients =  1152\n",
      "Number of records =  1152\n"
     ]
    }
   ],
   "source": [
    "print('Number of unique patients = ',df['Id'].nunique())\n",
    "print('Number of records = ',df.shape[0])"
   ]
  },
  {
   "cell_type": "markdown",
   "id": "e63e4b0a",
   "metadata": {},
   "source": [
    "Since, Number of unique patients = Number of records. Hence , each row contains data of a different patient"
   ]
  },
  {
   "cell_type": "markdown",
   "id": "b4de4c5d",
   "metadata": {},
   "source": [
    "# Seperating data into train-test-validation set"
   ]
  },
  {
   "cell_type": "code",
   "execution_count": 7,
   "id": "b4bb1e01",
   "metadata": {},
   "outputs": [],
   "source": [
    "# seperating target column from main dataframe\n",
    "# xtrain = df.drop('non-adherence',axis = 1)\n",
    "# labels = df['non-adherence']\n",
    "# xtrain.shape\n",
    "\n",
    "# from sklearn.model_selection import train_test_split\n",
    "# X_train, X, y_train, y = train_test_split(xtrain,labels,test_size=0.1,train_size=0.9)\n",
    "# X_test, X_valid, y_test, y_valid = train_test_split(X,y,test_size = 0.5,train_size =0.5)\n",
    "\n",
    "# print(X_train.shape), print(y_train.shape)\n",
    "# print(X_valid.shape), print(y_valid.shape)\n",
    "# print(X_test.shape), print(y_test.shape)"
   ]
  },
  {
   "cell_type": "code",
   "execution_count": 8,
   "id": "e045ef89",
   "metadata": {},
   "outputs": [
    {
     "data": {
      "text/plain": [
       "(1152, 15)"
      ]
     },
     "execution_count": 8,
     "metadata": {},
     "output_type": "execute_result"
    }
   ],
   "source": [
    "df.shape"
   ]
  },
  {
   "cell_type": "markdown",
   "id": "219d458c",
   "metadata": {},
   "source": [
    "#### Train test validation ratio = 90% : 5% : 5%"
   ]
  },
  {
   "cell_type": "code",
   "execution_count": 9,
   "id": "bf6dc07f",
   "metadata": {},
   "outputs": [],
   "source": [
    "train, validate, test = np.split(df.sample(frac=1, random_state=42),[int(.9*len(df)), int(.95*len(df))])"
   ]
  },
  {
   "cell_type": "code",
   "execution_count": 10,
   "id": "2f24673c",
   "metadata": {},
   "outputs": [
    {
     "name": "stdout",
     "output_type": "stream",
     "text": [
      "(1036, 15)\n",
      "(58, 15)\n",
      "(58, 15)\n"
     ]
    }
   ],
   "source": [
    "print(train.shape)\n",
    "print(test.shape)\n",
    "print(validate.shape)"
   ]
  },
  {
   "cell_type": "markdown",
   "id": "f5b11958",
   "metadata": {},
   "source": [
    "# Exploratory Data Analysis"
   ]
  },
  {
   "cell_type": "code",
   "execution_count": 11,
   "id": "0d5ceaf7",
   "metadata": {},
   "outputs": [
    {
     "data": {
      "text/html": [
       "<div>\n",
       "<style scoped>\n",
       "    .dataframe tbody tr th:only-of-type {\n",
       "        vertical-align: middle;\n",
       "    }\n",
       "\n",
       "    .dataframe tbody tr th {\n",
       "        vertical-align: top;\n",
       "    }\n",
       "\n",
       "    .dataframe thead th {\n",
       "        text-align: right;\n",
       "    }\n",
       "</style>\n",
       "<table border=\"1\" class=\"dataframe\">\n",
       "  <thead>\n",
       "    <tr style=\"text-align: right;\">\n",
       "      <th></th>\n",
       "      <th>Id</th>\n",
       "      <th>BIRTHDATE</th>\n",
       "      <th>SSN</th>\n",
       "      <th>FIRST</th>\n",
       "      <th>LAST</th>\n",
       "      <th>RACE</th>\n",
       "      <th>ETHNICITY</th>\n",
       "      <th>GENDER</th>\n",
       "      <th>BIRTHPLACE</th>\n",
       "      <th>CITY</th>\n",
       "      <th>STATE</th>\n",
       "      <th>COUNTY</th>\n",
       "      <th>HEALTHCARE_EXPENSES</th>\n",
       "      <th>HEALTHCARE_COVERAGE</th>\n",
       "      <th>non_adherence</th>\n",
       "    </tr>\n",
       "  </thead>\n",
       "  <tbody>\n",
       "    <tr>\n",
       "      <th>181</th>\n",
       "      <td>1c3fea30-6be0-419a-b342-50767fd55440</td>\n",
       "      <td>1984-12-27</td>\n",
       "      <td>999-76-5683</td>\n",
       "      <td>Adela471</td>\n",
       "      <td>Llamas954</td>\n",
       "      <td>white</td>\n",
       "      <td>hispanic</td>\n",
       "      <td>F</td>\n",
       "      <td>Puebla  Puebla  MX</td>\n",
       "      <td>Worcester</td>\n",
       "      <td>Massachusetts</td>\n",
       "      <td>Worcester County</td>\n",
       "      <td>791234.65</td>\n",
       "      <td>4830.05</td>\n",
       "      <td>1</td>\n",
       "    </tr>\n",
       "    <tr>\n",
       "      <th>769</th>\n",
       "      <td>51f196eb-b11e-493e-ad95-254285af055e</td>\n",
       "      <td>1963-08-07</td>\n",
       "      <td>999-89-8579</td>\n",
       "      <td>Cleopatra935</td>\n",
       "      <td>Grant908</td>\n",
       "      <td>white</td>\n",
       "      <td>nonhispanic</td>\n",
       "      <td>F</td>\n",
       "      <td>Lynn  Massachusetts  US</td>\n",
       "      <td>Newton</td>\n",
       "      <td>Massachusetts</td>\n",
       "      <td>Middlesex County</td>\n",
       "      <td>1158561.10</td>\n",
       "      <td>7300.88</td>\n",
       "      <td>1</td>\n",
       "    </tr>\n",
       "    <tr>\n",
       "      <th>597</th>\n",
       "      <td>eaf6eec1-84ec-454e-8a9a-eafd13da4241</td>\n",
       "      <td>1939-01-25</td>\n",
       "      <td>999-17-5888</td>\n",
       "      <td>Jacques50</td>\n",
       "      <td>Swift555</td>\n",
       "      <td>white</td>\n",
       "      <td>nonhispanic</td>\n",
       "      <td>M</td>\n",
       "      <td>New Bedford  Massachusetts  US</td>\n",
       "      <td>Raynham</td>\n",
       "      <td>Massachusetts</td>\n",
       "      <td>Bristol County</td>\n",
       "      <td>1459993.46</td>\n",
       "      <td>7894.17</td>\n",
       "      <td>1</td>\n",
       "    </tr>\n",
       "    <tr>\n",
       "      <th>249</th>\n",
       "      <td>8a9df121-e012-457c-ade0-ead804d93818</td>\n",
       "      <td>1923-05-15</td>\n",
       "      <td>999-25-3475</td>\n",
       "      <td>Juli424</td>\n",
       "      <td>Barton704</td>\n",
       "      <td>white</td>\n",
       "      <td>nonhispanic</td>\n",
       "      <td>F</td>\n",
       "      <td>Ware  Massachusetts  US</td>\n",
       "      <td>West Springfield</td>\n",
       "      <td>Massachusetts</td>\n",
       "      <td>Hampden County</td>\n",
       "      <td>1506442.89</td>\n",
       "      <td>18176.42</td>\n",
       "      <td>1</td>\n",
       "    </tr>\n",
       "    <tr>\n",
       "      <th>730</th>\n",
       "      <td>26ca976d-0b5b-4662-af41-535ff670dd5a</td>\n",
       "      <td>2014-09-22</td>\n",
       "      <td>999-70-4950</td>\n",
       "      <td>Shanti441</td>\n",
       "      <td>Lesch175</td>\n",
       "      <td>white</td>\n",
       "      <td>nonhispanic</td>\n",
       "      <td>F</td>\n",
       "      <td>Boston  Massachusetts  US</td>\n",
       "      <td>Amherst</td>\n",
       "      <td>Massachusetts</td>\n",
       "      <td>Hampshire County</td>\n",
       "      <td>124730.77</td>\n",
       "      <td>2187.36</td>\n",
       "      <td>1</td>\n",
       "    </tr>\n",
       "  </tbody>\n",
       "</table>\n",
       "</div>"
      ],
      "text/plain": [
       "                                       Id   BIRTHDATE          SSN  \\\n",
       "181  1c3fea30-6be0-419a-b342-50767fd55440  1984-12-27  999-76-5683   \n",
       "769  51f196eb-b11e-493e-ad95-254285af055e  1963-08-07  999-89-8579   \n",
       "597  eaf6eec1-84ec-454e-8a9a-eafd13da4241  1939-01-25  999-17-5888   \n",
       "249  8a9df121-e012-457c-ade0-ead804d93818  1923-05-15  999-25-3475   \n",
       "730  26ca976d-0b5b-4662-af41-535ff670dd5a  2014-09-22  999-70-4950   \n",
       "\n",
       "            FIRST       LAST   RACE    ETHNICITY GENDER  \\\n",
       "181      Adela471  Llamas954  white     hispanic      F   \n",
       "769  Cleopatra935   Grant908  white  nonhispanic      F   \n",
       "597     Jacques50   Swift555  white  nonhispanic      M   \n",
       "249       Juli424  Barton704  white  nonhispanic      F   \n",
       "730     Shanti441   Lesch175  white  nonhispanic      F   \n",
       "\n",
       "                         BIRTHPLACE              CITY          STATE  \\\n",
       "181              Puebla  Puebla  MX         Worcester  Massachusetts   \n",
       "769         Lynn  Massachusetts  US            Newton  Massachusetts   \n",
       "597  New Bedford  Massachusetts  US           Raynham  Massachusetts   \n",
       "249         Ware  Massachusetts  US  West Springfield  Massachusetts   \n",
       "730       Boston  Massachusetts  US           Amherst  Massachusetts   \n",
       "\n",
       "               COUNTY  HEALTHCARE_EXPENSES  HEALTHCARE_COVERAGE  non_adherence  \n",
       "181  Worcester County            791234.65              4830.05              1  \n",
       "769  Middlesex County           1158561.10              7300.88              1  \n",
       "597    Bristol County           1459993.46              7894.17              1  \n",
       "249    Hampden County           1506442.89             18176.42              1  \n",
       "730  Hampshire County            124730.77              2187.36              1  "
      ]
     },
     "execution_count": 11,
     "metadata": {},
     "output_type": "execute_result"
    }
   ],
   "source": [
    "train.head()"
   ]
  },
  {
   "cell_type": "code",
   "execution_count": 37,
   "id": "2687eff6",
   "metadata": {},
   "outputs": [],
   "source": [
    "# Printing number of unique values in of each column\n",
    "# for col in df:\n",
    "#     print(col ,' : ' ,df[col].nunique())"
   ]
  },
  {
   "cell_type": "code",
   "execution_count": 27,
   "id": "b15fff20",
   "metadata": {},
   "outputs": [
    {
     "data": {
      "text/plain": [
       "<AxesSubplot:xlabel='RACE', ylabel='count'>"
      ]
     },
     "execution_count": 27,
     "metadata": {},
     "output_type": "execute_result"
    },
    {
     "data": {
      "image/png": "[encoded data removed]",
      "text/plain": [
       "<Figure size 432x432 with 1 Axes>"
      ]
     },
     "metadata": {},
     "output_type": "display_data"
    }
   ],
   "source": [
    "sns.set(rc={'figure.figsize':(6,6)})\n",
    "sns.set_theme(style=\"whitegrid\")\n",
    "sns.countplot(data=train, x='RACE', hue='non_adherence',palette=\"rainbow\")\n",
    "# we can conclude that maximum non_adherence was observed in white Race"
   ]
  },
  {
   "cell_type": "code",
   "execution_count": 14,
   "id": "9e760216",
   "metadata": {},
   "outputs": [
    {
     "data": {
      "text/plain": [
       "<AxesSubplot:xlabel='GENDER', ylabel='non_adherence'>"
      ]
     },
     "execution_count": 14,
     "metadata": {},
     "output_type": "execute_result"
    },
    {
     "data": {
      "image/png": "[encoded data removed]",
      "text/plain": [
       "<Figure size 432x432 with 1 Axes>"
      ]
     },
     "metadata": {},
     "output_type": "display_data"
    }
   ],
   "source": [
    "sns.set_theme(style=\"whitegrid\")\n",
    "sns.barplot(x = train['GENDER'], y = train['non_adherence'],color=\"salmon\",saturation=.8)\n",
    "# Females are slightly more non - adherent than males"
   ]
  },
  {
   "cell_type": "code",
   "execution_count": 36,
   "id": "6c0f7298",
   "metadata": {},
   "outputs": [
    {
     "data": {
      "text/plain": [
       "<seaborn.axisgrid.FacetGrid at 0x1dd2e2cfb20>"
      ]
     },
     "execution_count": 36,
     "metadata": {},
     "output_type": "execute_result"
    },
    {
     "data": {
      "image/png": "[encoded data removed]",
      "text/plain": [
       "<Figure size 360x360 with 1 Axes>"
      ]
     },
     "metadata": {},
     "output_type": "display_data"
    }
   ],
   "source": [
    "sns.set_theme(style=\"whitegrid\")\n",
    "sns.catplot(x=\"non_adherence\", y=\"HEALTHCARE_EXPENSES\", data=train,palette=\"Set1\")\n",
    "#From this graph , we can conclude that the expenses of pateits who are non_adherent are more\n",
    "# Hence cost plays a major role in determining adherence"
   ]
  },
  {
   "cell_type": "code",
   "execution_count": 40,
   "id": "5f3c2ec4",
   "metadata": {},
   "outputs": [
    {
     "data": {
      "text/plain": [
       "<seaborn.axisgrid.FacetGrid at 0x1dd2f43fd30>"
      ]
     },
     "execution_count": 40,
     "metadata": {},
     "output_type": "execute_result"
    },
    {
     "data": {
      "image/png": "[encoded data removed]",
      "text/plain": [
       "<Figure size 452.05x360 with 1 Axes>"
      ]
     },
     "metadata": {},
     "output_type": "display_data"
    }
   ],
   "source": [
    "fig, ax = plt.subplots(figsize=(6, 6))\n",
    "sns.set_theme(style=\"whitegrid\")\n",
    "sns.catplot(y=\"COUNTY\", kind=\"count\", palette=\"Set2\", data=train,hue = \"non_adherence\",ax=ax)\n",
    "# Maximum patients are from Middlesex County"
   ]
  },
  {
   "cell_type": "code",
   "execution_count": null,
   "id": "5d1b5c57",
   "metadata": {},
   "outputs": [],
   "source": []
  }
 ],
 "metadata": {
  "kernelspec": {
   "display_name": "Python 3",
   "language": "python",
   "name": "python3"
  },
  "language_info": {
   "codemirror_mode": {
    "name": "ipython",
    "version": 3
   },
   "file_extension": ".py",
   "mimetype": "text/x-python",
   "name": "python",
   "nbconvert_exporter": "python",
   "pygments_lexer": "ipython3",
   "version": "3.8.8"
  }
 },
 "nbformat": 4,
 "nbformat_minor": 5
}
