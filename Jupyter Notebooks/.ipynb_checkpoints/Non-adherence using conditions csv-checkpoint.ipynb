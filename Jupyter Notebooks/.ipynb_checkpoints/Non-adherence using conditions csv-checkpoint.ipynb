{
 "cells": [
  {
   "cell_type": "code",
   "execution_count": 1,
   "id": "067c8970",
   "metadata": {},
   "outputs": [],
   "source": [
    "import pandas as pd\n",
    "import numpy as np"
   ]
  },
  {
   "cell_type": "code",
   "execution_count": 2,
   "id": "ccf7ebc9",
   "metadata": {},
   "outputs": [
    {
     "name": "stdout",
     "output_type": "stream",
     "text": [
      "Total shape :  (8376, 6)\n"
     ]
    },
    {
     "data": {
      "text/html": [
       "<div>\n",
       "<style scoped>\n",
       "    .dataframe tbody tr th:only-of-type {\n",
       "        vertical-align: middle;\n",
       "    }\n",
       "\n",
       "    .dataframe tbody tr th {\n",
       "        vertical-align: top;\n",
       "    }\n",
       "\n",
       "    .dataframe thead th {\n",
       "        text-align: right;\n",
       "    }\n",
       "</style>\n",
       "<table border=\"1\" class=\"dataframe\">\n",
       "  <thead>\n",
       "    <tr style=\"text-align: right;\">\n",
       "      <th></th>\n",
       "      <th>START</th>\n",
       "      <th>STOP</th>\n",
       "      <th>PATIENT</th>\n",
       "      <th>ENCOUNTER</th>\n",
       "      <th>CODE</th>\n",
       "      <th>DESCRIPTION</th>\n",
       "    </tr>\n",
       "  </thead>\n",
       "  <tbody>\n",
       "    <tr>\n",
       "      <th>0</th>\n",
       "      <td>2001-05-01</td>\n",
       "      <td>NaN</td>\n",
       "      <td>1d604da9-9a81-4ba9-80c2-de3375d59b40</td>\n",
       "      <td>8f104aa7-4ca9-4473-885a-bba2437df588</td>\n",
       "      <td>40055000</td>\n",
       "      <td>Chronic sinusitis (disorder)</td>\n",
       "    </tr>\n",
       "    <tr>\n",
       "      <th>1</th>\n",
       "      <td>2011-08-09</td>\n",
       "      <td>2011-08-16</td>\n",
       "      <td>8d4c4326-e9de-4f45-9a4c-f8c36bff89ae</td>\n",
       "      <td>9d35ec9f-352a-4629-92ef-38eae38437e7</td>\n",
       "      <td>444814009</td>\n",
       "      <td>Viral sinusitis (disorder)</td>\n",
       "    </tr>\n",
       "    <tr>\n",
       "      <th>2</th>\n",
       "      <td>2011-11-16</td>\n",
       "      <td>2011-11-26</td>\n",
       "      <td>8d4c4326-e9de-4f45-9a4c-f8c36bff89ae</td>\n",
       "      <td>ae7555a9-eaff-4c09-98a7-21bc6ed1b1fd</td>\n",
       "      <td>195662009</td>\n",
       "      <td>Acute viral pharyngitis (disorder)</td>\n",
       "    </tr>\n",
       "    <tr>\n",
       "      <th>3</th>\n",
       "      <td>2011-05-13</td>\n",
       "      <td>2011-05-27</td>\n",
       "      <td>10339b10-3cd1-4ac3-ac13-ec26728cb592</td>\n",
       "      <td>e1ab4933-07a1-49f0-b4bd-05500919061d</td>\n",
       "      <td>10509002</td>\n",
       "      <td>Acute bronchitis (disorder)</td>\n",
       "    </tr>\n",
       "    <tr>\n",
       "      <th>4</th>\n",
       "      <td>2011-02-06</td>\n",
       "      <td>2011-02-14</td>\n",
       "      <td>f5dcd418-09fe-4a2f-baa0-3da800bd8c3a</td>\n",
       "      <td>b8f76eba-7795-4dcd-a544-f27ac2ef3d46</td>\n",
       "      <td>195662009</td>\n",
       "      <td>Acute viral pharyngitis (disorder)</td>\n",
       "    </tr>\n",
       "  </tbody>\n",
       "</table>\n",
       "</div>"
      ],
      "text/plain": [
       "        START        STOP                               PATIENT  \\\n",
       "0  2001-05-01         NaN  1d604da9-9a81-4ba9-80c2-de3375d59b40   \n",
       "1  2011-08-09  2011-08-16  8d4c4326-e9de-4f45-9a4c-f8c36bff89ae   \n",
       "2  2011-11-16  2011-11-26  8d4c4326-e9de-4f45-9a4c-f8c36bff89ae   \n",
       "3  2011-05-13  2011-05-27  10339b10-3cd1-4ac3-ac13-ec26728cb592   \n",
       "4  2011-02-06  2011-02-14  f5dcd418-09fe-4a2f-baa0-3da800bd8c3a   \n",
       "\n",
       "                              ENCOUNTER       CODE  \\\n",
       "0  8f104aa7-4ca9-4473-885a-bba2437df588   40055000   \n",
       "1  9d35ec9f-352a-4629-92ef-38eae38437e7  444814009   \n",
       "2  ae7555a9-eaff-4c09-98a7-21bc6ed1b1fd  195662009   \n",
       "3  e1ab4933-07a1-49f0-b4bd-05500919061d   10509002   \n",
       "4  b8f76eba-7795-4dcd-a544-f27ac2ef3d46  195662009   \n",
       "\n",
       "                          DESCRIPTION  \n",
       "0        Chronic sinusitis (disorder)  \n",
       "1          Viral sinusitis (disorder)  \n",
       "2  Acute viral pharyngitis (disorder)  \n",
       "3         Acute bronchitis (disorder)  \n",
       "4  Acute viral pharyngitis (disorder)  "
      ]
     },
     "execution_count": 2,
     "metadata": {},
     "output_type": "execute_result"
    }
   ],
   "source": [
    "conditions = pd.read_csv('../Case Files/sample_date_csv/conditions.csv')\n",
    "print('Total shape : ',conditions.shape)\n",
    "conditions.head()"
   ]
  },
  {
   "cell_type": "code",
   "execution_count": 3,
   "id": "d61afd15",
   "metadata": {},
   "outputs": [],
   "source": [
    "# Start : The date the condition was diagnosed.\n",
    "# Stop : The date the condition resolved, if applicable."
   ]
  },
  {
   "cell_type": "code",
   "execution_count": 4,
   "id": "8c197568",
   "metadata": {},
   "outputs": [
    {
     "data": {
      "text/plain": [
       "3811"
      ]
     },
     "execution_count": 4,
     "metadata": {},
     "output_type": "execute_result"
    }
   ],
   "source": [
    "# calculating number of NULL in STOP\n",
    "conditions['STOP'].isnull().sum()\n",
    "# total 3811 are such records in which stop is NAN\n",
    "# From these records, we can say that here the condition was not resolved, hence it is non - adherence"
   ]
  },
  {
   "cell_type": "code",
   "execution_count": 5,
   "id": "2e974651",
   "metadata": {},
   "outputs": [
    {
     "name": "stdout",
     "output_type": "stream",
     "text": [
      "Total unique patients in conditions.csv :  1152\n",
      "Total unique patients whose condition was not resolved (non - adherent patients) :  922\n",
      "Total unique patients whose condition was resolved (adherent patients) :  230\n"
     ]
    }
   ],
   "source": [
    "total_patients_conditions = conditions['PATIENT'].nunique()\n",
    "total_patients_non_adherant = conditions[conditions['STOP'].isnull()]['PATIENT'].nunique()\n",
    "print('Total unique patients in conditions.csv : ',total_patients_conditions)\n",
    "print('Total unique patients whose condition was not resolved (non - adherent patients) : ',total_patients_non_adherant)\n",
    "print('Total unique patients whose condition was resolved (adherent patients) : ',total_patients_conditions-total_patients_non_adherant)"
   ]
  },
  {
   "cell_type": "code",
   "execution_count": 6,
   "id": "cc65c339",
   "metadata": {},
   "outputs": [],
   "source": [
    "# 230 patients are adherent\n",
    "# 922 patients are non - adherent\n",
    "# creating a new column , isadherent : which will tell is that particular patient is adherent or not"
   ]
  },
  {
   "cell_type": "code",
   "execution_count": 7,
   "id": "7f6ef98a",
   "metadata": {},
   "outputs": [
    {
     "data": {
      "text/html": [
       "<div>\n",
       "<style scoped>\n",
       "    .dataframe tbody tr th:only-of-type {\n",
       "        vertical-align: middle;\n",
       "    }\n",
       "\n",
       "    .dataframe tbody tr th {\n",
       "        vertical-align: top;\n",
       "    }\n",
       "\n",
       "    .dataframe thead th {\n",
       "        text-align: right;\n",
       "    }\n",
       "</style>\n",
       "<table border=\"1\" class=\"dataframe\">\n",
       "  <thead>\n",
       "    <tr style=\"text-align: right;\">\n",
       "      <th></th>\n",
       "      <th>START</th>\n",
       "      <th>STOP</th>\n",
       "      <th>PATIENT</th>\n",
       "      <th>ENCOUNTER</th>\n",
       "      <th>CODE</th>\n",
       "      <th>DESCRIPTION</th>\n",
       "      <th>isadherent</th>\n",
       "    </tr>\n",
       "  </thead>\n",
       "  <tbody>\n",
       "    <tr>\n",
       "      <th>0</th>\n",
       "      <td>2001-05-01</td>\n",
       "      <td>NaN</td>\n",
       "      <td>1d604da9-9a81-4ba9-80c2-de3375d59b40</td>\n",
       "      <td>8f104aa7-4ca9-4473-885a-bba2437df588</td>\n",
       "      <td>40055000</td>\n",
       "      <td>Chronic sinusitis (disorder)</td>\n",
       "      <td>0</td>\n",
       "    </tr>\n",
       "    <tr>\n",
       "      <th>1</th>\n",
       "      <td>2011-08-09</td>\n",
       "      <td>2011-08-16</td>\n",
       "      <td>8d4c4326-e9de-4f45-9a4c-f8c36bff89ae</td>\n",
       "      <td>9d35ec9f-352a-4629-92ef-38eae38437e7</td>\n",
       "      <td>444814009</td>\n",
       "      <td>Viral sinusitis (disorder)</td>\n",
       "      <td>1</td>\n",
       "    </tr>\n",
       "    <tr>\n",
       "      <th>2</th>\n",
       "      <td>2011-11-16</td>\n",
       "      <td>2011-11-26</td>\n",
       "      <td>8d4c4326-e9de-4f45-9a4c-f8c36bff89ae</td>\n",
       "      <td>ae7555a9-eaff-4c09-98a7-21bc6ed1b1fd</td>\n",
       "      <td>195662009</td>\n",
       "      <td>Acute viral pharyngitis (disorder)</td>\n",
       "      <td>1</td>\n",
       "    </tr>\n",
       "    <tr>\n",
       "      <th>3</th>\n",
       "      <td>2011-05-13</td>\n",
       "      <td>2011-05-27</td>\n",
       "      <td>10339b10-3cd1-4ac3-ac13-ec26728cb592</td>\n",
       "      <td>e1ab4933-07a1-49f0-b4bd-05500919061d</td>\n",
       "      <td>10509002</td>\n",
       "      <td>Acute bronchitis (disorder)</td>\n",
       "      <td>1</td>\n",
       "    </tr>\n",
       "    <tr>\n",
       "      <th>4</th>\n",
       "      <td>2011-02-06</td>\n",
       "      <td>2011-02-14</td>\n",
       "      <td>f5dcd418-09fe-4a2f-baa0-3da800bd8c3a</td>\n",
       "      <td>b8f76eba-7795-4dcd-a544-f27ac2ef3d46</td>\n",
       "      <td>195662009</td>\n",
       "      <td>Acute viral pharyngitis (disorder)</td>\n",
       "      <td>1</td>\n",
       "    </tr>\n",
       "  </tbody>\n",
       "</table>\n",
       "</div>"
      ],
      "text/plain": [
       "        START        STOP                               PATIENT  \\\n",
       "0  2001-05-01         NaN  1d604da9-9a81-4ba9-80c2-de3375d59b40   \n",
       "1  2011-08-09  2011-08-16  8d4c4326-e9de-4f45-9a4c-f8c36bff89ae   \n",
       "2  2011-11-16  2011-11-26  8d4c4326-e9de-4f45-9a4c-f8c36bff89ae   \n",
       "3  2011-05-13  2011-05-27  10339b10-3cd1-4ac3-ac13-ec26728cb592   \n",
       "4  2011-02-06  2011-02-14  f5dcd418-09fe-4a2f-baa0-3da800bd8c3a   \n",
       "\n",
       "                              ENCOUNTER       CODE  \\\n",
       "0  8f104aa7-4ca9-4473-885a-bba2437df588   40055000   \n",
       "1  9d35ec9f-352a-4629-92ef-38eae38437e7  444814009   \n",
       "2  ae7555a9-eaff-4c09-98a7-21bc6ed1b1fd  195662009   \n",
       "3  e1ab4933-07a1-49f0-b4bd-05500919061d   10509002   \n",
       "4  b8f76eba-7795-4dcd-a544-f27ac2ef3d46  195662009   \n",
       "\n",
       "                          DESCRIPTION  isadherent  \n",
       "0        Chronic sinusitis (disorder)           0  \n",
       "1          Viral sinusitis (disorder)           1  \n",
       "2  Acute viral pharyngitis (disorder)           1  \n",
       "3         Acute bronchitis (disorder)           1  \n",
       "4  Acute viral pharyngitis (disorder)           1  "
      ]
     },
     "execution_count": 7,
     "metadata": {},
     "output_type": "execute_result"
    }
   ],
   "source": [
    "conditions['isadherent'] = conditions['STOP'].notnull()*1\n",
    "conditions.head()"
   ]
  },
  {
   "cell_type": "code",
   "execution_count": 8,
   "id": "f8630b8f",
   "metadata": {},
   "outputs": [
    {
     "data": {
      "text/html": [
       "<div>\n",
       "<style scoped>\n",
       "    .dataframe tbody tr th:only-of-type {\n",
       "        vertical-align: middle;\n",
       "    }\n",
       "\n",
       "    .dataframe tbody tr th {\n",
       "        vertical-align: top;\n",
       "    }\n",
       "\n",
       "    .dataframe thead th {\n",
       "        text-align: right;\n",
       "    }\n",
       "</style>\n",
       "<table border=\"1\" class=\"dataframe\">\n",
       "  <thead>\n",
       "    <tr style=\"text-align: right;\">\n",
       "      <th></th>\n",
       "      <th>PATIENT</th>\n",
       "      <th>isadherent</th>\n",
       "    </tr>\n",
       "  </thead>\n",
       "  <tbody>\n",
       "    <tr>\n",
       "      <th>0</th>\n",
       "      <td>1d604da9-9a81-4ba9-80c2-de3375d59b40</td>\n",
       "      <td>0</td>\n",
       "    </tr>\n",
       "    <tr>\n",
       "      <th>1</th>\n",
       "      <td>8d4c4326-e9de-4f45-9a4c-f8c36bff89ae</td>\n",
       "      <td>1</td>\n",
       "    </tr>\n",
       "    <tr>\n",
       "      <th>2</th>\n",
       "      <td>8d4c4326-e9de-4f45-9a4c-f8c36bff89ae</td>\n",
       "      <td>1</td>\n",
       "    </tr>\n",
       "    <tr>\n",
       "      <th>3</th>\n",
       "      <td>10339b10-3cd1-4ac3-ac13-ec26728cb592</td>\n",
       "      <td>1</td>\n",
       "    </tr>\n",
       "    <tr>\n",
       "      <th>4</th>\n",
       "      <td>f5dcd418-09fe-4a2f-baa0-3da800bd8c3a</td>\n",
       "      <td>1</td>\n",
       "    </tr>\n",
       "  </tbody>\n",
       "</table>\n",
       "</div>"
      ],
      "text/plain": [
       "                                PATIENT  isadherent\n",
       "0  1d604da9-9a81-4ba9-80c2-de3375d59b40           0\n",
       "1  8d4c4326-e9de-4f45-9a4c-f8c36bff89ae           1\n",
       "2  8d4c4326-e9de-4f45-9a4c-f8c36bff89ae           1\n",
       "3  10339b10-3cd1-4ac3-ac13-ec26728cb592           1\n",
       "4  f5dcd418-09fe-4a2f-baa0-3da800bd8c3a           1"
      ]
     },
     "execution_count": 8,
     "metadata": {},
     "output_type": "execute_result"
    }
   ],
   "source": [
    "# Extracting patients and isadherent columns seperately\n",
    "patients_info = conditions[['PATIENT', 'isadherent']]\n",
    "patients_info.head()"
   ]
  },
  {
   "cell_type": "code",
   "execution_count": 9,
   "id": "fb2dcc43",
   "metadata": {},
   "outputs": [
    {
     "data": {
      "text/plain": [
       "(2041, 2)"
      ]
     },
     "execution_count": 9,
     "metadata": {},
     "output_type": "execute_result"
    }
   ],
   "source": [
    "#removing duplicates\n",
    "patients_info = patients_info.drop_duplicates()\n",
    "patients_info.shape"
   ]
  },
  {
   "cell_type": "code",
   "execution_count": 10,
   "id": "a3049d41",
   "metadata": {},
   "outputs": [
    {
     "name": "stdout",
     "output_type": "stream",
     "text": [
      "But total unique patients in conditions.csv :  1152\n"
     ]
    }
   ],
   "source": [
    "print('But total unique patients in conditions.csv : ',total_patients_conditions)"
   ]
  },
  {
   "cell_type": "code",
   "execution_count": 11,
   "id": "4939a062",
   "metadata": {},
   "outputs": [],
   "source": [
    "# this means that 889(2041 - 1152) are such records in which the patient is sometimes adherent and sometimes not isadherent\n",
    "# if a patient is not adherent even once, he should fall in the category of non-adherent"
   ]
  },
  {
   "cell_type": "code",
   "execution_count": 12,
   "id": "648e3c87",
   "metadata": {},
   "outputs": [],
   "source": [
    "group = patients_info.groupby('PATIENT')\n",
    "patients_info = group.apply(lambda x : x['isadherent'].unique())\n",
    "patients_info = patients_info.reset_index() \n",
    "patients_info.rename(columns = {0:'isadherent'}, inplace = True)"
   ]
  },
  {
   "cell_type": "code",
   "execution_count": 13,
   "id": "d63379d0",
   "metadata": {},
   "outputs": [
    {
     "data": {
      "text/html": [
       "<div>\n",
       "<style scoped>\n",
       "    .dataframe tbody tr th:only-of-type {\n",
       "        vertical-align: middle;\n",
       "    }\n",
       "\n",
       "    .dataframe tbody tr th {\n",
       "        vertical-align: top;\n",
       "    }\n",
       "\n",
       "    .dataframe thead th {\n",
       "        text-align: right;\n",
       "    }\n",
       "</style>\n",
       "<table border=\"1\" class=\"dataframe\">\n",
       "  <thead>\n",
       "    <tr style=\"text-align: right;\">\n",
       "      <th></th>\n",
       "      <th>PATIENT</th>\n",
       "      <th>isadherent</th>\n",
       "    </tr>\n",
       "  </thead>\n",
       "  <tbody>\n",
       "    <tr>\n",
       "      <th>0</th>\n",
       "      <td>00185faa-2760-4218-9bf5-db301acf8274</td>\n",
       "      <td>[1, 0]</td>\n",
       "    </tr>\n",
       "    <tr>\n",
       "      <th>1</th>\n",
       "      <td>0042862c-9889-4a2e-b782-fac1e540ecb4</td>\n",
       "      <td>[1]</td>\n",
       "    </tr>\n",
       "    <tr>\n",
       "      <th>2</th>\n",
       "      <td>0047123f-12e7-486c-82df-53b3a450e365</td>\n",
       "      <td>[1, 0]</td>\n",
       "    </tr>\n",
       "    <tr>\n",
       "      <th>3</th>\n",
       "      <td>010d4a3a-2316-45ed-ae15-16f01c611674</td>\n",
       "      <td>[1, 0]</td>\n",
       "    </tr>\n",
       "    <tr>\n",
       "      <th>4</th>\n",
       "      <td>0149d553-f571-4e99-867e-fcb9625d07c2</td>\n",
       "      <td>[0, 1]</td>\n",
       "    </tr>\n",
       "  </tbody>\n",
       "</table>\n",
       "</div>"
      ],
      "text/plain": [
       "                                PATIENT isadherent\n",
       "0  00185faa-2760-4218-9bf5-db301acf8274     [1, 0]\n",
       "1  0042862c-9889-4a2e-b782-fac1e540ecb4        [1]\n",
       "2  0047123f-12e7-486c-82df-53b3a450e365     [1, 0]\n",
       "3  010d4a3a-2316-45ed-ae15-16f01c611674     [1, 0]\n",
       "4  0149d553-f571-4e99-867e-fcb9625d07c2     [0, 1]"
      ]
     },
     "execution_count": 13,
     "metadata": {},
     "output_type": "execute_result"
    }
   ],
   "source": [
    "patients_info.head()"
   ]
  },
  {
   "cell_type": "code",
   "execution_count": 14,
   "id": "c550fc0f",
   "metadata": {},
   "outputs": [],
   "source": [
    "# columns having value of isadherent are those patients which are sometimes adherent and sometimes not\n",
    "# Hence first calculating the frequency of column and then appending that column"
   ]
  },
  {
   "cell_type": "code",
   "execution_count": 15,
   "id": "263bee55",
   "metadata": {},
   "outputs": [
    {
     "data": {
      "text/html": [
       "<div>\n",
       "<style scoped>\n",
       "    .dataframe tbody tr th:only-of-type {\n",
       "        vertical-align: middle;\n",
       "    }\n",
       "\n",
       "    .dataframe tbody tr th {\n",
       "        vertical-align: top;\n",
       "    }\n",
       "\n",
       "    .dataframe thead th {\n",
       "        text-align: right;\n",
       "    }\n",
       "</style>\n",
       "<table border=\"1\" class=\"dataframe\">\n",
       "  <thead>\n",
       "    <tr style=\"text-align: right;\">\n",
       "      <th></th>\n",
       "      <th>PATIENT</th>\n",
       "      <th>isadherent</th>\n",
       "      <th>freq_isadherent</th>\n",
       "    </tr>\n",
       "  </thead>\n",
       "  <tbody>\n",
       "    <tr>\n",
       "      <th>0</th>\n",
       "      <td>00185faa-2760-4218-9bf5-db301acf8274</td>\n",
       "      <td>[1, 0]</td>\n",
       "      <td>2</td>\n",
       "    </tr>\n",
       "    <tr>\n",
       "      <th>1</th>\n",
       "      <td>0042862c-9889-4a2e-b782-fac1e540ecb4</td>\n",
       "      <td>[1]</td>\n",
       "      <td>1</td>\n",
       "    </tr>\n",
       "    <tr>\n",
       "      <th>2</th>\n",
       "      <td>0047123f-12e7-486c-82df-53b3a450e365</td>\n",
       "      <td>[1, 0]</td>\n",
       "      <td>2</td>\n",
       "    </tr>\n",
       "    <tr>\n",
       "      <th>3</th>\n",
       "      <td>010d4a3a-2316-45ed-ae15-16f01c611674</td>\n",
       "      <td>[1, 0]</td>\n",
       "      <td>2</td>\n",
       "    </tr>\n",
       "    <tr>\n",
       "      <th>4</th>\n",
       "      <td>0149d553-f571-4e99-867e-fcb9625d07c2</td>\n",
       "      <td>[0, 1]</td>\n",
       "      <td>2</td>\n",
       "    </tr>\n",
       "  </tbody>\n",
       "</table>\n",
       "</div>"
      ],
      "text/plain": [
       "                                PATIENT isadherent  freq_isadherent\n",
       "0  00185faa-2760-4218-9bf5-db301acf8274     [1, 0]                2\n",
       "1  0042862c-9889-4a2e-b782-fac1e540ecb4        [1]                1\n",
       "2  0047123f-12e7-486c-82df-53b3a450e365     [1, 0]                2\n",
       "3  010d4a3a-2316-45ed-ae15-16f01c611674     [1, 0]                2\n",
       "4  0149d553-f571-4e99-867e-fcb9625d07c2     [0, 1]                2"
      ]
     },
     "execution_count": 15,
     "metadata": {},
     "output_type": "execute_result"
    }
   ],
   "source": [
    "patients_info1 = group.apply(lambda x : x['isadherent'].nunique())\n",
    "patients_info1 = patients_info1.reset_index() \n",
    "patients_info1.rename(columns = {0:'freq_isadherent'}, inplace = True)\n",
    "freq_isadherent = patients_info1['freq_isadherent']\n",
    "patients_info = pd.concat([patients_info, freq_isadherent], axis=1)\n",
    "patients_info.head()"
   ]
  },
  {
   "cell_type": "code",
   "execution_count": 16,
   "id": "44c39302",
   "metadata": {},
   "outputs": [],
   "source": [
    "# The columns having freq_isadherent mare than 1 are those non adherent patients"
   ]
  },
  {
   "cell_type": "code",
   "execution_count": 17,
   "id": "e8e79fb4",
   "metadata": {},
   "outputs": [
    {
     "name": "stdout",
     "output_type": "stream",
     "text": [
      "0      889\n",
      "[1]    230\n",
      "[0]     33\n",
      "Name: isadherent, dtype: int64\n"
     ]
    }
   ],
   "source": [
    "patients_info.loc[patients_info['freq_isadherent'] > 1, 'isadherent'] = 0\n",
    "patients_info.drop('freq_isadherent',axis = 1,inplace = True)\n",
    "print(patients_info['isadherent'].value_counts())"
   ]
  },
  {
   "cell_type": "code",
   "execution_count": 18,
   "id": "7d4e54e4",
   "metadata": {},
   "outputs": [
    {
     "data": {
      "text/plain": [
       "0    922\n",
       "1    230\n",
       "Name: isadherent, dtype: int64"
      ]
     },
     "execution_count": 18,
     "metadata": {},
     "output_type": "execute_result"
    }
   ],
   "source": [
    "# converting [0] -> 0 and [1] -> 1\n",
    "patients_info.loc[patients_info['isadherent'] == 0, 'isadherent'] = 0\n",
    "patients_info.loc[patients_info['isadherent'] == 1, 'isadherent'] = 1\n",
    "patients_info['isadherent'].value_counts()"
   ]
  },
  {
   "cell_type": "code",
   "execution_count": 19,
   "id": "1d7bdff5",
   "metadata": {},
   "outputs": [],
   "source": [
    "patients_info.to_csv('../myCSV/isadherent.csv',index=False)"
   ]
  }
 ],
 "metadata": {
  "kernelspec": {
   "display_name": "Python 3",
   "language": "python",
   "name": "python3"
  },
  "language_info": {
   "codemirror_mode": {
    "name": "ipython",
    "version": 3
   },
   "file_extension": ".py",
   "mimetype": "text/x-python",
   "name": "python",
   "nbconvert_exporter": "python",
   "pygments_lexer": "ipython3",
   "version": "3.8.8"
  }
 },
 "nbformat": 4,
 "nbformat_minor": 5
}
