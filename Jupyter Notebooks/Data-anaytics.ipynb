{
 "cells": [
  {
   "cell_type": "markdown",
   "id": "437f0e4e",
   "metadata": {},
   "source": [
    "# Data preprocessing ,Data Analysis and training model"
   ]
  },
  {
   "cell_type": "code",
   "execution_count": 1,
   "id": "da059504",
   "metadata": {},
   "outputs": [],
   "source": [
    "#importing libraries\n",
    "import pandas as pd\n",
    "import numpy as np\n",
    "import matplotlib.pyplot as plt\n",
    "%matplotlib inline\n",
    "import seaborn as sns\n",
    "from datetime import datetime, date\n",
    "\n",
    "pd.options.mode.chained_assignment = None  # default='warn'"
   ]
  },
  {
   "cell_type": "code",
   "execution_count": 2,
   "id": "b0b74c3a",
   "metadata": {},
   "outputs": [
    {
     "name": "stdout",
     "output_type": "stream",
     "text": [
      "Total shape :  (1171, 15)\n"
     ]
    },
    {
     "data": {
      "text/html": [
       "<div>\n",
       "<style scoped>\n",
       "    .dataframe tbody tr th:only-of-type {\n",
       "        vertical-align: middle;\n",
       "    }\n",
       "\n",
       "    .dataframe tbody tr th {\n",
       "        vertical-align: top;\n",
       "    }\n",
       "\n",
       "    .dataframe thead th {\n",
       "        text-align: right;\n",
       "    }\n",
       "</style>\n",
       "<table border=\"1\" class=\"dataframe\">\n",
       "  <thead>\n",
       "    <tr style=\"text-align: right;\">\n",
       "      <th></th>\n",
       "      <th>Id</th>\n",
       "      <th>BIRTHDATE</th>\n",
       "      <th>SSN</th>\n",
       "      <th>FIRST</th>\n",
       "      <th>LAST</th>\n",
       "      <th>RACE</th>\n",
       "      <th>ETHNICITY</th>\n",
       "      <th>GENDER</th>\n",
       "      <th>BIRTHPLACE</th>\n",
       "      <th>CITY</th>\n",
       "      <th>STATE</th>\n",
       "      <th>COUNTRY</th>\n",
       "      <th>HEALTHCARE_EXPENSES</th>\n",
       "      <th>HEALTHCARE_COVERAGE</th>\n",
       "      <th>non_adherence</th>\n",
       "    </tr>\n",
       "  </thead>\n",
       "  <tbody>\n",
       "    <tr>\n",
       "      <th>0</th>\n",
       "      <td>1d604da9-9a81-4ba9-80c2-de3375d59b40</td>\n",
       "      <td>1989-05-25</td>\n",
       "      <td>999-76-6866</td>\n",
       "      <td>José Eduardo181</td>\n",
       "      <td>Gómez206</td>\n",
       "      <td>white</td>\n",
       "      <td>hispanic</td>\n",
       "      <td>M</td>\n",
       "      <td>Marigot  Saint Andrew Parish  DM</td>\n",
       "      <td>Chicopee</td>\n",
       "      <td>Massachusetts</td>\n",
       "      <td>Hampden County</td>\n",
       "      <td>271227.08</td>\n",
       "      <td>1334.88</td>\n",
       "      <td>1.0</td>\n",
       "    </tr>\n",
       "    <tr>\n",
       "      <th>1</th>\n",
       "      <td>034e9e3b-2def-4559-bb2a-7850888ae060</td>\n",
       "      <td>1983-11-14</td>\n",
       "      <td>999-73-5361</td>\n",
       "      <td>Milo271</td>\n",
       "      <td>Feil794</td>\n",
       "      <td>white</td>\n",
       "      <td>nonhispanic</td>\n",
       "      <td>M</td>\n",
       "      <td>Danvers  Massachusetts  US</td>\n",
       "      <td>Somerville</td>\n",
       "      <td>Massachusetts</td>\n",
       "      <td>Middlesex County</td>\n",
       "      <td>793946.01</td>\n",
       "      <td>3204.49</td>\n",
       "      <td>0.0</td>\n",
       "    </tr>\n",
       "    <tr>\n",
       "      <th>2</th>\n",
       "      <td>10339b10-3cd1-4ac3-ac13-ec26728cb592</td>\n",
       "      <td>1992-06-02</td>\n",
       "      <td>999-27-3385</td>\n",
       "      <td>Jayson808</td>\n",
       "      <td>Fadel536</td>\n",
       "      <td>white</td>\n",
       "      <td>nonhispanic</td>\n",
       "      <td>M</td>\n",
       "      <td>Springfield  Massachusetts  US</td>\n",
       "      <td>Chicopee</td>\n",
       "      <td>Massachusetts</td>\n",
       "      <td>Hampden County</td>\n",
       "      <td>574111.90</td>\n",
       "      <td>2606.40</td>\n",
       "      <td>0.0</td>\n",
       "    </tr>\n",
       "    <tr>\n",
       "      <th>3</th>\n",
       "      <td>8d4c4326-e9de-4f45-9a4c-f8c36bff89ae</td>\n",
       "      <td>1978-05-27</td>\n",
       "      <td>999-85-4926</td>\n",
       "      <td>Mariana775</td>\n",
       "      <td>Rutherford999</td>\n",
       "      <td>white</td>\n",
       "      <td>nonhispanic</td>\n",
       "      <td>F</td>\n",
       "      <td>Yarmouth  Massachusetts  US</td>\n",
       "      <td>Lowell</td>\n",
       "      <td>Massachusetts</td>\n",
       "      <td>Middlesex County</td>\n",
       "      <td>935630.30</td>\n",
       "      <td>8756.19</td>\n",
       "      <td>0.0</td>\n",
       "    </tr>\n",
       "    <tr>\n",
       "      <th>4</th>\n",
       "      <td>f5dcd418-09fe-4a2f-baa0-3da800bd8c3a</td>\n",
       "      <td>1996-10-18</td>\n",
       "      <td>999-60-7372</td>\n",
       "      <td>Gregorio366</td>\n",
       "      <td>Auer97</td>\n",
       "      <td>white</td>\n",
       "      <td>nonhispanic</td>\n",
       "      <td>M</td>\n",
       "      <td>Patras  Achaea  GR</td>\n",
       "      <td>Boston</td>\n",
       "      <td>Massachusetts</td>\n",
       "      <td>Suffolk County</td>\n",
       "      <td>598763.07</td>\n",
       "      <td>3772.20</td>\n",
       "      <td>0.0</td>\n",
       "    </tr>\n",
       "  </tbody>\n",
       "</table>\n",
       "</div>"
      ],
      "text/plain": [
       "                                     Id   BIRTHDATE          SSN  \\\n",
       "0  1d604da9-9a81-4ba9-80c2-de3375d59b40  1989-05-25  999-76-6866   \n",
       "1  034e9e3b-2def-4559-bb2a-7850888ae060  1983-11-14  999-73-5361   \n",
       "2  10339b10-3cd1-4ac3-ac13-ec26728cb592  1992-06-02  999-27-3385   \n",
       "3  8d4c4326-e9de-4f45-9a4c-f8c36bff89ae  1978-05-27  999-85-4926   \n",
       "4  f5dcd418-09fe-4a2f-baa0-3da800bd8c3a  1996-10-18  999-60-7372   \n",
       "\n",
       "             FIRST           LAST   RACE    ETHNICITY GENDER  \\\n",
       "0  José Eduardo181       Gómez206  white     hispanic      M   \n",
       "1          Milo271        Feil794  white  nonhispanic      M   \n",
       "2        Jayson808       Fadel536  white  nonhispanic      M   \n",
       "3       Mariana775  Rutherford999  white  nonhispanic      F   \n",
       "4      Gregorio366         Auer97  white  nonhispanic      M   \n",
       "\n",
       "                         BIRTHPLACE        CITY          STATE  \\\n",
       "0  Marigot  Saint Andrew Parish  DM    Chicopee  Massachusetts   \n",
       "1        Danvers  Massachusetts  US  Somerville  Massachusetts   \n",
       "2    Springfield  Massachusetts  US    Chicopee  Massachusetts   \n",
       "3       Yarmouth  Massachusetts  US      Lowell  Massachusetts   \n",
       "4                Patras  Achaea  GR      Boston  Massachusetts   \n",
       "\n",
       "            COUNTRY  HEALTHCARE_EXPENSES  HEALTHCARE_COVERAGE  non_adherence  \n",
       "0    Hampden County            271227.08              1334.88            1.0  \n",
       "1  Middlesex County            793946.01              3204.49            0.0  \n",
       "2    Hampden County            574111.90              2606.40            0.0  \n",
       "3  Middlesex County            935630.30              8756.19            0.0  \n",
       "4    Suffolk County            598763.07              3772.20            0.0  "
      ]
     },
     "execution_count": 2,
     "metadata": {},
     "output_type": "execute_result"
    }
   ],
   "source": [
    "patients = pd.read_csv('../myCSV/modified_patients.csv')\n",
    "print('Total shape : ',patients.shape)\n",
    "patients.rename(columns = {'COUNTY':'COUNTRY'}, inplace = True)\n",
    "patients.head()"
   ]
  },
  {
   "cell_type": "markdown",
   "id": "8b5c7e9d",
   "metadata": {},
   "source": [
    "Extracting Age using BIRTHDATE "
   ]
  },
  {
   "cell_type": "code",
   "execution_count": 3,
   "id": "e65d8200",
   "metadata": {},
   "outputs": [],
   "source": [
    "def age(born):\n",
    "    born = datetime.strptime(born, \"%Y-%m-%d\").date()\n",
    "    today = date.today()\n",
    "    return today.year - born.year - ((today.month, today.day) < (born.month, born.day))"
   ]
  },
  {
   "cell_type": "code",
   "execution_count": 4,
   "id": "194950a6",
   "metadata": {},
   "outputs": [
    {
     "data": {
      "text/html": [
       "<div>\n",
       "<style scoped>\n",
       "    .dataframe tbody tr th:only-of-type {\n",
       "        vertical-align: middle;\n",
       "    }\n",
       "\n",
       "    .dataframe tbody tr th {\n",
       "        vertical-align: top;\n",
       "    }\n",
       "\n",
       "    .dataframe thead th {\n",
       "        text-align: right;\n",
       "    }\n",
       "</style>\n",
       "<table border=\"1\" class=\"dataframe\">\n",
       "  <thead>\n",
       "    <tr style=\"text-align: right;\">\n",
       "      <th></th>\n",
       "      <th>BIRTHDATE</th>\n",
       "      <th>Age</th>\n",
       "    </tr>\n",
       "  </thead>\n",
       "  <tbody>\n",
       "    <tr>\n",
       "      <th>0</th>\n",
       "      <td>1989-05-25</td>\n",
       "      <td>32</td>\n",
       "    </tr>\n",
       "    <tr>\n",
       "      <th>1</th>\n",
       "      <td>1983-11-14</td>\n",
       "      <td>38</td>\n",
       "    </tr>\n",
       "    <tr>\n",
       "      <th>2</th>\n",
       "      <td>1992-06-02</td>\n",
       "      <td>29</td>\n",
       "    </tr>\n",
       "    <tr>\n",
       "      <th>3</th>\n",
       "      <td>1978-05-27</td>\n",
       "      <td>43</td>\n",
       "    </tr>\n",
       "    <tr>\n",
       "      <th>4</th>\n",
       "      <td>1996-10-18</td>\n",
       "      <td>25</td>\n",
       "    </tr>\n",
       "  </tbody>\n",
       "</table>\n",
       "</div>"
      ],
      "text/plain": [
       "    BIRTHDATE  Age\n",
       "0  1989-05-25   32\n",
       "1  1983-11-14   38\n",
       "2  1992-06-02   29\n",
       "3  1978-05-27   43\n",
       "4  1996-10-18   25"
      ]
     },
     "execution_count": 4,
     "metadata": {},
     "output_type": "execute_result"
    }
   ],
   "source": [
    "patients['Age'] = patients['BIRTHDATE'].apply(age)\n",
    "patients[['BIRTHDATE','Age']].head()"
   ]
  },
  {
   "cell_type": "code",
   "execution_count": 5,
   "id": "7b543c98",
   "metadata": {},
   "outputs": [
    {
     "data": {
      "text/plain": [
       "Id                      0\n",
       "SSN                     0\n",
       "FIRST                   0\n",
       "LAST                    0\n",
       "RACE                    0\n",
       "ETHNICITY               0\n",
       "GENDER                  0\n",
       "BIRTHPLACE              0\n",
       "CITY                    0\n",
       "STATE                   0\n",
       "COUNTRY                 0\n",
       "HEALTHCARE_EXPENSES     0\n",
       "HEALTHCARE_COVERAGE     0\n",
       "non_adherence          19\n",
       "Age                     0\n",
       "dtype: int64"
      ]
     },
     "execution_count": 5,
     "metadata": {},
     "output_type": "execute_result"
    }
   ],
   "source": [
    "patients.drop('BIRTHDATE',axis = 1 , inplace = True)\n",
    "patients.isnull().sum()"
   ]
  },
  {
   "cell_type": "markdown",
   "id": "95cc1154",
   "metadata": {},
   "source": [
    "#### Rows in which non-adherence value is NULL will be treated as final testing dataset. So seperating it in the starting and will be working further with df having no NULL values."
   ]
  },
  {
   "cell_type": "code",
   "execution_count": 6,
   "id": "7da236c5",
   "metadata": {},
   "outputs": [
    {
     "data": {
      "text/plain": [
       "(19, 15)"
      ]
     },
     "execution_count": 6,
     "metadata": {},
     "output_type": "execute_result"
    }
   ],
   "source": [
    "final_testing_dataset = patients[patients['non_adherence'].isnull()]\n",
    "df = patients[patients['non_adherence'].notnull()]\n",
    "df['non_adherence'] = df['non_adherence'].apply(np.int64)\n",
    "final_testing_dataset.shape"
   ]
  },
  {
   "cell_type": "code",
   "execution_count": 7,
   "id": "7b39c14c",
   "metadata": {},
   "outputs": [
    {
     "data": {
      "text/plain": [
       "0"
      ]
     },
     "execution_count": 7,
     "metadata": {},
     "output_type": "execute_result"
    }
   ],
   "source": [
    "# Total number of duplicate rows\n",
    "df.duplicated().sum()"
   ]
  },
  {
   "cell_type": "code",
   "execution_count": 8,
   "id": "acb53ac8",
   "metadata": {},
   "outputs": [
    {
     "name": "stdout",
     "output_type": "stream",
     "text": [
      "Number of unique patients =  1152\n",
      "Number of records =  1152\n"
     ]
    }
   ],
   "source": [
    "print('Number of unique patients = ',df['Id'].nunique())\n",
    "print('Number of records = ',df.shape[0])"
   ]
  },
  {
   "cell_type": "markdown",
   "id": "e63e4b0a",
   "metadata": {},
   "source": [
    "Since, Number of unique patients = Number of records. Hence , each row contains data of a different patient"
   ]
  },
  {
   "cell_type": "code",
   "execution_count": 9,
   "id": "e045ef89",
   "metadata": {},
   "outputs": [
    {
     "data": {
      "text/plain": [
       "(1152, 15)"
      ]
     },
     "execution_count": 9,
     "metadata": {},
     "output_type": "execute_result"
    }
   ],
   "source": [
    "df.shape"
   ]
  },
  {
   "cell_type": "markdown",
   "id": "08278282",
   "metadata": {},
   "source": [
    "#### Seperating training data set , for performing Exploratory Data Analysis"
   ]
  },
  {
   "cell_type": "code",
   "execution_count": 10,
   "id": "bf6dc07f",
   "metadata": {},
   "outputs": [
    {
     "data": {
      "text/html": [
       "<div>\n",
       "<style scoped>\n",
       "    .dataframe tbody tr th:only-of-type {\n",
       "        vertical-align: middle;\n",
       "    }\n",
       "\n",
       "    .dataframe tbody tr th {\n",
       "        vertical-align: top;\n",
       "    }\n",
       "\n",
       "    .dataframe thead th {\n",
       "        text-align: right;\n",
       "    }\n",
       "</style>\n",
       "<table border=\"1\" class=\"dataframe\">\n",
       "  <thead>\n",
       "    <tr style=\"text-align: right;\">\n",
       "      <th></th>\n",
       "      <th>Id</th>\n",
       "      <th>SSN</th>\n",
       "      <th>FIRST</th>\n",
       "      <th>LAST</th>\n",
       "      <th>RACE</th>\n",
       "      <th>ETHNICITY</th>\n",
       "      <th>GENDER</th>\n",
       "      <th>BIRTHPLACE</th>\n",
       "      <th>CITY</th>\n",
       "      <th>STATE</th>\n",
       "      <th>COUNTRY</th>\n",
       "      <th>HEALTHCARE_EXPENSES</th>\n",
       "      <th>HEALTHCARE_COVERAGE</th>\n",
       "      <th>non_adherence</th>\n",
       "      <th>Age</th>\n",
       "    </tr>\n",
       "  </thead>\n",
       "  <tbody>\n",
       "    <tr>\n",
       "      <th>181</th>\n",
       "      <td>1c3fea30-6be0-419a-b342-50767fd55440</td>\n",
       "      <td>999-76-5683</td>\n",
       "      <td>Adela471</td>\n",
       "      <td>Llamas954</td>\n",
       "      <td>white</td>\n",
       "      <td>hispanic</td>\n",
       "      <td>F</td>\n",
       "      <td>Puebla  Puebla  MX</td>\n",
       "      <td>Worcester</td>\n",
       "      <td>Massachusetts</td>\n",
       "      <td>Worcester County</td>\n",
       "      <td>791234.65</td>\n",
       "      <td>4830.05</td>\n",
       "      <td>1</td>\n",
       "      <td>36</td>\n",
       "    </tr>\n",
       "    <tr>\n",
       "      <th>769</th>\n",
       "      <td>51f196eb-b11e-493e-ad95-254285af055e</td>\n",
       "      <td>999-89-8579</td>\n",
       "      <td>Cleopatra935</td>\n",
       "      <td>Grant908</td>\n",
       "      <td>white</td>\n",
       "      <td>nonhispanic</td>\n",
       "      <td>F</td>\n",
       "      <td>Lynn  Massachusetts  US</td>\n",
       "      <td>Newton</td>\n",
       "      <td>Massachusetts</td>\n",
       "      <td>Middlesex County</td>\n",
       "      <td>1158561.10</td>\n",
       "      <td>7300.88</td>\n",
       "      <td>1</td>\n",
       "      <td>58</td>\n",
       "    </tr>\n",
       "    <tr>\n",
       "      <th>597</th>\n",
       "      <td>eaf6eec1-84ec-454e-8a9a-eafd13da4241</td>\n",
       "      <td>999-17-5888</td>\n",
       "      <td>Jacques50</td>\n",
       "      <td>Swift555</td>\n",
       "      <td>white</td>\n",
       "      <td>nonhispanic</td>\n",
       "      <td>M</td>\n",
       "      <td>New Bedford  Massachusetts  US</td>\n",
       "      <td>Raynham</td>\n",
       "      <td>Massachusetts</td>\n",
       "      <td>Bristol County</td>\n",
       "      <td>1459993.46</td>\n",
       "      <td>7894.17</td>\n",
       "      <td>1</td>\n",
       "      <td>82</td>\n",
       "    </tr>\n",
       "    <tr>\n",
       "      <th>249</th>\n",
       "      <td>8a9df121-e012-457c-ade0-ead804d93818</td>\n",
       "      <td>999-25-3475</td>\n",
       "      <td>Juli424</td>\n",
       "      <td>Barton704</td>\n",
       "      <td>white</td>\n",
       "      <td>nonhispanic</td>\n",
       "      <td>F</td>\n",
       "      <td>Ware  Massachusetts  US</td>\n",
       "      <td>West Springfield</td>\n",
       "      <td>Massachusetts</td>\n",
       "      <td>Hampden County</td>\n",
       "      <td>1506442.89</td>\n",
       "      <td>18176.42</td>\n",
       "      <td>1</td>\n",
       "      <td>98</td>\n",
       "    </tr>\n",
       "    <tr>\n",
       "      <th>730</th>\n",
       "      <td>26ca976d-0b5b-4662-af41-535ff670dd5a</td>\n",
       "      <td>999-70-4950</td>\n",
       "      <td>Shanti441</td>\n",
       "      <td>Lesch175</td>\n",
       "      <td>white</td>\n",
       "      <td>nonhispanic</td>\n",
       "      <td>F</td>\n",
       "      <td>Boston  Massachusetts  US</td>\n",
       "      <td>Amherst</td>\n",
       "      <td>Massachusetts</td>\n",
       "      <td>Hampshire County</td>\n",
       "      <td>124730.77</td>\n",
       "      <td>2187.36</td>\n",
       "      <td>1</td>\n",
       "      <td>7</td>\n",
       "    </tr>\n",
       "  </tbody>\n",
       "</table>\n",
       "</div>"
      ],
      "text/plain": [
       "                                       Id          SSN         FIRST  \\\n",
       "181  1c3fea30-6be0-419a-b342-50767fd55440  999-76-5683      Adela471   \n",
       "769  51f196eb-b11e-493e-ad95-254285af055e  999-89-8579  Cleopatra935   \n",
       "597  eaf6eec1-84ec-454e-8a9a-eafd13da4241  999-17-5888     Jacques50   \n",
       "249  8a9df121-e012-457c-ade0-ead804d93818  999-25-3475       Juli424   \n",
       "730  26ca976d-0b5b-4662-af41-535ff670dd5a  999-70-4950     Shanti441   \n",
       "\n",
       "          LAST   RACE    ETHNICITY GENDER                      BIRTHPLACE  \\\n",
       "181  Llamas954  white     hispanic      F              Puebla  Puebla  MX   \n",
       "769   Grant908  white  nonhispanic      F         Lynn  Massachusetts  US   \n",
       "597   Swift555  white  nonhispanic      M  New Bedford  Massachusetts  US   \n",
       "249  Barton704  white  nonhispanic      F         Ware  Massachusetts  US   \n",
       "730   Lesch175  white  nonhispanic      F       Boston  Massachusetts  US   \n",
       "\n",
       "                 CITY          STATE           COUNTRY  HEALTHCARE_EXPENSES  \\\n",
       "181         Worcester  Massachusetts  Worcester County            791234.65   \n",
       "769            Newton  Massachusetts  Middlesex County           1158561.10   \n",
       "597           Raynham  Massachusetts    Bristol County           1459993.46   \n",
       "249  West Springfield  Massachusetts    Hampden County           1506442.89   \n",
       "730           Amherst  Massachusetts  Hampshire County            124730.77   \n",
       "\n",
       "     HEALTHCARE_COVERAGE  non_adherence  Age  \n",
       "181              4830.05              1   36  \n",
       "769              7300.88              1   58  \n",
       "597              7894.17              1   82  \n",
       "249             18176.42              1   98  \n",
       "730              2187.36              1    7  "
      ]
     },
     "execution_count": 10,
     "metadata": {},
     "output_type": "execute_result"
    }
   ],
   "source": [
    "train, validate, test = np.split(df.sample(frac=1, random_state=42),[int(.9*len(df)), int(.95*len(df))])\n",
    "train.head()"
   ]
  },
  {
   "cell_type": "code",
   "execution_count": 11,
   "id": "2f24673c",
   "metadata": {},
   "outputs": [
    {
     "name": "stdout",
     "output_type": "stream",
     "text": [
      "(1036, 15)\n",
      "(58, 15)\n",
      "(58, 15)\n"
     ]
    }
   ],
   "source": [
    "print(train.shape)\n",
    "print(test.shape)\n",
    "print(validate.shape)"
   ]
  },
  {
   "cell_type": "markdown",
   "id": "f5b11958",
   "metadata": {},
   "source": [
    "# Exploratory Data Analysis"
   ]
  },
  {
   "cell_type": "code",
   "execution_count": 12,
   "id": "2687eff6",
   "metadata": {},
   "outputs": [
    {
     "name": "stdout",
     "output_type": "stream",
     "text": [
      "Id  :  1036\n",
      "SSN  :  1036\n",
      "FIRST  :  887\n",
      "LAST  :  465\n",
      "RACE  :  5\n",
      "ETHNICITY  :  2\n",
      "GENDER  :  2\n",
      "BIRTHPLACE  :  283\n",
      "CITY  :  229\n",
      "STATE  :  1\n",
      "COUNTRY  :  14\n",
      "HEALTHCARE_EXPENSES  :  1036\n",
      "HEALTHCARE_COVERAGE  :  959\n",
      "non_adherence  :  2\n",
      "Age  :  101\n"
     ]
    }
   ],
   "source": [
    "#Printing number of unique values in of each column\n",
    "for col in train:\n",
    "    print(col ,' : ' ,train[col].nunique())"
   ]
  },
  {
   "cell_type": "code",
   "execution_count": 13,
   "id": "b15fff20",
   "metadata": {},
   "outputs": [
    {
     "data": {
      "text/plain": [
       "<AxesSubplot:xlabel='RACE', ylabel='count'>"
      ]
     },
     "execution_count": 13,
     "metadata": {},
     "output_type": "execute_result"
    },
    {
     "data": {
      "image/png": "[encoded data removed]",
      "text/plain": [
       "<Figure size 432x432 with 1 Axes>"
      ]
     },
     "metadata": {},
     "output_type": "display_data"
    }
   ],
   "source": [
    "sns.set(rc={'figure.figsize':(6,6)})\n",
    "sns.set_theme(style=\"whitegrid\")\n",
    "sns.countplot(data=train, x='RACE', hue='non_adherence',palette=\"rainbow\")\n",
    "# we can conclude that maximum non_adherence was observed in white Race\n",
    "# Also we can conclude that people with Race as white are much more than that of other races. \n",
    "# So this can be used while handling Race variable. We will encode White as 1 and non-Whites as 0."
   ]
  },
  {
   "cell_type": "code",
   "execution_count": 14,
   "id": "9e760216",
   "metadata": {},
   "outputs": [
    {
     "data": {
      "text/plain": [
       "<AxesSubplot:xlabel='GENDER', ylabel='non_adherence'>"
      ]
     },
     "execution_count": 14,
     "metadata": {},
     "output_type": "execute_result"
    },
    {
     "data": {
      "image/png": "[encoded data removed]",
      "text/plain": [
       "<Figure size 432x432 with 1 Axes>"
      ]
     },
     "metadata": {},
     "output_type": "display_data"
    }
   ],
   "source": [
    "sns.set_theme(style=\"whitegrid\")\n",
    "sns.barplot(x = train['GENDER'], y = train['non_adherence'],color=\"salmon\",saturation=.8)\n",
    "# Females are slightly more non - adherent than males"
   ]
  },
  {
   "cell_type": "code",
   "execution_count": 15,
   "id": "5f3c2ec4",
   "metadata": {},
   "outputs": [
    {
     "data": {
      "text/plain": [
       "<AxesSubplot:xlabel='count', ylabel='COUNTRY'>"
      ]
     },
     "execution_count": 15,
     "metadata": {},
     "output_type": "execute_result"
    },
    {
     "data": {
      "image/png": "[encoded data removed]",
      "text/plain": [
       "<Figure size 432x432 with 1 Axes>"
      ]
     },
     "metadata": {},
     "output_type": "display_data"
    }
   ],
   "source": [
    "fig, ax = plt.subplots(figsize=(6, 6))\n",
    "sns.set_theme(style=\"whitegrid\")\n",
    "sns.countplot(data=train, y='COUNTRY', hue='non_adherence',palette=\"Accent\")\n",
    "# Maximum patients are from Middlesex COUNTRY"
   ]
  },
  {
   "cell_type": "code",
   "execution_count": 16,
   "id": "9e3ccf03",
   "metadata": {},
   "outputs": [
    {
     "data": {
      "image/png": "[encoded data removed]",
      "text/plain": [
       "<Figure size 432x432 with 1 Axes>"
      ]
     },
     "metadata": {},
     "output_type": "display_data"
    }
   ],
   "source": [
    "def Mapping_delay(x):\n",
    "    temp = []\n",
    "    for i in list(x):\n",
    "        if i >= 60:\n",
    "            temp.append(\"(>= 60)\")\n",
    "        elif (i >= 25 and i < 60):\n",
    "            temp.append(\"(25-60)\")\n",
    "        else:\n",
    "            temp.append(\"(< 25)\")\n",
    "    return temp\n",
    "\n",
    "train['Age_Group'] = Mapping_delay(train['Age'])\n",
    "\n",
    "sns.set(rc={'figure.figsize':(6,6)})\n",
    "sns.set_theme(style=\"whitegrid\")\n",
    "sns.countplot(data=train, x='Age_Group',hue='non_adherence',palette=\"PuRd\")\n",
    "train.drop('Age_Group',axis = 1, inplace = True)\n",
    "#From the graph we can clearly see that the people who age than 60, major portion is non - adherent.\n",
    "# Hence senior citizen are non - adherent"
   ]
  },
  {
   "cell_type": "code",
   "execution_count": 17,
   "id": "6c0f7298",
   "metadata": {},
   "outputs": [
    {
     "data": {
      "text/plain": [
       "<seaborn.axisgrid.FacetGrid at 0x1bba2cca880>"
      ]
     },
     "execution_count": 17,
     "metadata": {},
     "output_type": "execute_result"
    },
    {
     "data": {
      "image/png": "[encoded data removed]",
      "text/plain": [
       "<Figure size 360x360 with 1 Axes>"
      ]
     },
     "metadata": {},
     "output_type": "display_data"
    }
   ],
   "source": [
    "sns.set_theme(style=\"whitegrid\")\n",
    "sns.catplot(x=\"non_adherence\", y=\"HEALTHCARE_EXPENSES\", data=train,palette=\"Set1\")\n",
    "#From this graph , we can conclude that the expenses of pateits who are non_adherent are more\n",
    "# Hence cost plays a major role in determining adherence"
   ]
  },
  {
   "cell_type": "markdown",
   "id": "e6bc11a9",
   "metadata": {},
   "source": [
    "#### Determining Outliers "
   ]
  },
  {
   "cell_type": "code",
   "execution_count": 18,
   "id": "652a9855",
   "metadata": {},
   "outputs": [
    {
     "data": {
      "text/plain": [
       "<AxesSubplot:xlabel='HEALTHCARE_EXPENSES'>"
      ]
     },
     "execution_count": 18,
     "metadata": {},
     "output_type": "execute_result"
    },
    {
     "data": {
      "image/png": "[encoded data removed]",
      "text/plain": [
       "<Figure size 720x432 with 1 Axes>"
      ]
     },
     "metadata": {},
     "output_type": "display_data"
    }
   ],
   "source": [
    "plt.figure(figsize=(10,6))\n",
    "sns.boxplot(x=df[\"HEALTHCARE_EXPENSES\"])\n",
    "#No such outliers"
   ]
  },
  {
   "cell_type": "code",
   "execution_count": 19,
   "id": "1a54ffdb",
   "metadata": {},
   "outputs": [
    {
     "data": {
      "image/png": "[encoded data removed]",
      "text/plain": [
       "<Figure size 720x432 with 1 Axes>"
      ]
     },
     "metadata": {},
     "output_type": "display_data"
    }
   ],
   "source": [
    "sns.set(style=\"ticks\")\n",
    "plt.figure(figsize=(10,6))\n",
    "sns.boxplot(x=train[\"HEALTHCARE_COVERAGE\"])\n",
    "plt.xlim(0, 22000)\n",
    "plt.grid()\n",
    "plt.show()"
   ]
  },
  {
   "cell_type": "code",
   "execution_count": 20,
   "id": "df77324a",
   "metadata": {},
   "outputs": [],
   "source": [
    "# Droping records from dataframe having HEALTHCARE_COVERAGE outside outliers\n",
    "df.drop(df[df['HEALTHCARE_COVERAGE'] > 22000].index, inplace = True)"
   ]
  },
  {
   "cell_type": "markdown",
   "id": "6f264660",
   "metadata": {},
   "source": [
    "# Handling Categorical DataTypes"
   ]
  },
  {
   "cell_type": "code",
   "execution_count": 21,
   "id": "189bfc65",
   "metadata": {},
   "outputs": [
    {
     "name": "stdout",
     "output_type": "stream",
     "text": [
      "Index(['Id', 'SSN', 'FIRST', 'LAST', 'RACE', 'ETHNICITY', 'GENDER',\n",
      "       'BIRTHPLACE', 'CITY', 'STATE', 'COUNTRY', 'HEALTHCARE_EXPENSES',\n",
      "       'HEALTHCARE_COVERAGE', 'non_adherence', 'Age'],\n",
      "      dtype='object')\n"
     ]
    }
   ],
   "source": [
    "print(df.columns)"
   ]
  },
  {
   "cell_type": "markdown",
   "id": "623d438e",
   "metadata": {},
   "source": [
    "#### First droping columns that would be not play any role in training model <br> Hence droping columns -> Id , SSN , FIRST ,LAST"
   ]
  },
  {
   "cell_type": "code",
   "execution_count": 22,
   "id": "5833b7d7",
   "metadata": {},
   "outputs": [],
   "source": [
    "df.drop(['Id','SSN','FIRST','LAST'], axis = 1, inplace = True)"
   ]
  },
  {
   "cell_type": "code",
   "execution_count": 23,
   "id": "3fc21e83",
   "metadata": {},
   "outputs": [
    {
     "name": "stdout",
     "output_type": "stream",
     "text": [
      "RACE  :  5  , Dtype :  object\n",
      "ETHNICITY  :  2  , Dtype :  object\n",
      "GENDER  :  2  , Dtype :  object\n",
      "BIRTHPLACE  :  281  , Dtype :  object\n",
      "CITY  :  233  , Dtype :  object\n",
      "STATE  :  1  , Dtype :  object\n",
      "COUNTRY  :  14  , Dtype :  object\n",
      "HEALTHCARE_EXPENSES  :  1053  , Dtype :  float64\n",
      "HEALTHCARE_COVERAGE  :  964  , Dtype :  float64\n",
      "non_adherence  :  2  , Dtype :  int64\n",
      "Age  :  98  , Dtype :  int64\n"
     ]
    }
   ],
   "source": [
    "for col in df:\n",
    "    print(col ,' : ' ,df[col].nunique() , ' , Dtype : ', df[col].dtypes)"
   ]
  },
  {
   "cell_type": "code",
   "execution_count": 24,
   "id": "5a1cecd1",
   "metadata": {},
   "outputs": [],
   "source": [
    "# Since STATE only has one value throught the column (Massachusetts), it would be useless to use it in training model.\n",
    "# Hence, droping STATE\n",
    "df.drop(['STATE'], axis = 1, inplace = True)"
   ]
  },
  {
   "cell_type": "code",
   "execution_count": 25,
   "id": "3d41af70",
   "metadata": {},
   "outputs": [],
   "source": [
    "# Since GENDER only has 2 unique values -> M and F. So we can simply use One-Hot encoding using pandas get_dummies method\n",
    "gender_encoded=pd.get_dummies(data=df['GENDER'],prefix='GENDER',drop_first=True)\n",
    "df.drop('GENDER',axis = 1,inplace=True)\n",
    "df = pd.concat([gender_encoded,df],axis = 1)"
   ]
  },
  {
   "cell_type": "code",
   "execution_count": 26,
   "id": "cccb34c0",
   "metadata": {},
   "outputs": [],
   "source": [
    "#Since ETHNICITY only has 2 unique values, we can simply use One-Hot encoding using pandas get_dummies method\n",
    "ETHNICITY_encoded=pd.get_dummies(data=df['ETHNICITY'],prefix='ETHNICITY',drop_first=True)\n",
    "df.drop('ETHNICITY',axis = 1,inplace=True)\n",
    "df = pd.concat([ETHNICITY_encoded,df],axis = 1)"
   ]
  },
  {
   "cell_type": "code",
   "execution_count": 27,
   "id": "c2b43954",
   "metadata": {},
   "outputs": [
    {
     "data": {
      "text/html": [
       "<div>\n",
       "<style scoped>\n",
       "    .dataframe tbody tr th:only-of-type {\n",
       "        vertical-align: middle;\n",
       "    }\n",
       "\n",
       "    .dataframe tbody tr th {\n",
       "        vertical-align: top;\n",
       "    }\n",
       "\n",
       "    .dataframe thead th {\n",
       "        text-align: right;\n",
       "    }\n",
       "</style>\n",
       "<table border=\"1\" class=\"dataframe\">\n",
       "  <thead>\n",
       "    <tr style=\"text-align: right;\">\n",
       "      <th></th>\n",
       "      <th>RACE_white</th>\n",
       "      <th>ETHNICITY_nonhispanic</th>\n",
       "      <th>GENDER_M</th>\n",
       "      <th>BIRTHPLACE</th>\n",
       "      <th>CITY</th>\n",
       "      <th>COUNTRY</th>\n",
       "      <th>HEALTHCARE_EXPENSES</th>\n",
       "      <th>HEALTHCARE_COVERAGE</th>\n",
       "      <th>non_adherence</th>\n",
       "      <th>Age</th>\n",
       "    </tr>\n",
       "  </thead>\n",
       "  <tbody>\n",
       "    <tr>\n",
       "      <th>0</th>\n",
       "      <td>1</td>\n",
       "      <td>0</td>\n",
       "      <td>1</td>\n",
       "      <td>Marigot  Saint Andrew Parish  DM</td>\n",
       "      <td>Chicopee</td>\n",
       "      <td>Hampden County</td>\n",
       "      <td>271227.08</td>\n",
       "      <td>1334.88</td>\n",
       "      <td>1</td>\n",
       "      <td>32</td>\n",
       "    </tr>\n",
       "    <tr>\n",
       "      <th>1</th>\n",
       "      <td>1</td>\n",
       "      <td>1</td>\n",
       "      <td>1</td>\n",
       "      <td>Danvers  Massachusetts  US</td>\n",
       "      <td>Somerville</td>\n",
       "      <td>Middlesex County</td>\n",
       "      <td>793946.01</td>\n",
       "      <td>3204.49</td>\n",
       "      <td>0</td>\n",
       "      <td>38</td>\n",
       "    </tr>\n",
       "    <tr>\n",
       "      <th>2</th>\n",
       "      <td>1</td>\n",
       "      <td>1</td>\n",
       "      <td>1</td>\n",
       "      <td>Springfield  Massachusetts  US</td>\n",
       "      <td>Chicopee</td>\n",
       "      <td>Hampden County</td>\n",
       "      <td>574111.90</td>\n",
       "      <td>2606.40</td>\n",
       "      <td>0</td>\n",
       "      <td>29</td>\n",
       "    </tr>\n",
       "    <tr>\n",
       "      <th>3</th>\n",
       "      <td>1</td>\n",
       "      <td>1</td>\n",
       "      <td>0</td>\n",
       "      <td>Yarmouth  Massachusetts  US</td>\n",
       "      <td>Lowell</td>\n",
       "      <td>Middlesex County</td>\n",
       "      <td>935630.30</td>\n",
       "      <td>8756.19</td>\n",
       "      <td>0</td>\n",
       "      <td>43</td>\n",
       "    </tr>\n",
       "    <tr>\n",
       "      <th>4</th>\n",
       "      <td>1</td>\n",
       "      <td>1</td>\n",
       "      <td>1</td>\n",
       "      <td>Patras  Achaea  GR</td>\n",
       "      <td>Boston</td>\n",
       "      <td>Suffolk County</td>\n",
       "      <td>598763.07</td>\n",
       "      <td>3772.20</td>\n",
       "      <td>0</td>\n",
       "      <td>25</td>\n",
       "    </tr>\n",
       "  </tbody>\n",
       "</table>\n",
       "</div>"
      ],
      "text/plain": [
       "   RACE_white  ETHNICITY_nonhispanic  GENDER_M  \\\n",
       "0           1                      0         1   \n",
       "1           1                      1         1   \n",
       "2           1                      1         1   \n",
       "3           1                      1         0   \n",
       "4           1                      1         1   \n",
       "\n",
       "                         BIRTHPLACE        CITY           COUNTRY  \\\n",
       "0  Marigot  Saint Andrew Parish  DM    Chicopee    Hampden County   \n",
       "1        Danvers  Massachusetts  US  Somerville  Middlesex County   \n",
       "2    Springfield  Massachusetts  US    Chicopee    Hampden County   \n",
       "3       Yarmouth  Massachusetts  US      Lowell  Middlesex County   \n",
       "4                Patras  Achaea  GR      Boston    Suffolk County   \n",
       "\n",
       "   HEALTHCARE_EXPENSES  HEALTHCARE_COVERAGE  non_adherence  Age  \n",
       "0            271227.08              1334.88              1   32  \n",
       "1            793946.01              3204.49              0   38  \n",
       "2            574111.90              2606.40              0   29  \n",
       "3            935630.30              8756.19              0   43  \n",
       "4            598763.07              3772.20              0   25  "
      ]
     },
     "execution_count": 27,
     "metadata": {},
     "output_type": "execute_result"
    }
   ],
   "source": [
    "#As number of White has much values as compared to that of others, we would be performing one hot encoding,\n",
    "#and then droping all categories except White. \n",
    "\n",
    "#Doing this we will successfull encode our model into 2 categories -> White and rest.\n",
    "\n",
    "RACE_encoded=pd.get_dummies(data=df['RACE'],prefix='RACE',drop_first=True)\n",
    "df.drop('RACE',axis = 1,inplace=True)\n",
    "df = pd.concat([RACE_encoded,df],axis = 1)\n",
    "df.drop(['RACE_black','RACE_native','RACE_other'],axis = 1, inplace = True)\n",
    "df.head()"
   ]
  },
  {
   "cell_type": "markdown",
   "id": "810c9e5b",
   "metadata": {},
   "source": [
    "#### Frequency Encoding on CITY,  COUNTRY, BIRTHPLACE"
   ]
  },
  {
   "cell_type": "code",
   "execution_count": 28,
   "id": "188cdf9a",
   "metadata": {},
   "outputs": [],
   "source": [
    "fe = df.groupby('CITY').size()/len(df)\n",
    "df['CITY_Encoded'] = df['CITY'].map(fe)"
   ]
  },
  {
   "cell_type": "code",
   "execution_count": 29,
   "id": "6bffbc30",
   "metadata": {},
   "outputs": [],
   "source": [
    "fe = df.groupby('COUNTRY').size()/len(df)\n",
    "df['COUNTRY_Encoded'] = df['COUNTRY'].map(fe)"
   ]
  },
  {
   "cell_type": "code",
   "execution_count": 30,
   "id": "5c7a0d63",
   "metadata": {},
   "outputs": [],
   "source": [
    "fe = df.groupby('BIRTHPLACE').size()/len(df)\n",
    "df['BIRTHPLACE_Encoded'] = df['BIRTHPLACE'].map(fe)"
   ]
  },
  {
   "cell_type": "code",
   "execution_count": 31,
   "id": "592ba152",
   "metadata": {},
   "outputs": [
    {
     "data": {
      "text/html": [
       "<div>\n",
       "<style scoped>\n",
       "    .dataframe tbody tr th:only-of-type {\n",
       "        vertical-align: middle;\n",
       "    }\n",
       "\n",
       "    .dataframe tbody tr th {\n",
       "        vertical-align: top;\n",
       "    }\n",
       "\n",
       "    .dataframe thead th {\n",
       "        text-align: right;\n",
       "    }\n",
       "</style>\n",
       "<table border=\"1\" class=\"dataframe\">\n",
       "  <thead>\n",
       "    <tr style=\"text-align: right;\">\n",
       "      <th></th>\n",
       "      <th>RACE_white</th>\n",
       "      <th>ETHNICITY_nonhispanic</th>\n",
       "      <th>GENDER_M</th>\n",
       "      <th>HEALTHCARE_EXPENSES</th>\n",
       "      <th>HEALTHCARE_COVERAGE</th>\n",
       "      <th>non_adherence</th>\n",
       "      <th>Age</th>\n",
       "      <th>CITY_Encoded</th>\n",
       "      <th>COUNTRY_Encoded</th>\n",
       "      <th>BIRTHPLACE_Encoded</th>\n",
       "    </tr>\n",
       "  </thead>\n",
       "  <tbody>\n",
       "    <tr>\n",
       "      <th>0</th>\n",
       "      <td>1</td>\n",
       "      <td>0</td>\n",
       "      <td>1</td>\n",
       "      <td>271227.08</td>\n",
       "      <td>1334.88</td>\n",
       "      <td>1</td>\n",
       "      <td>32</td>\n",
       "      <td>0.011396</td>\n",
       "      <td>0.066477</td>\n",
       "      <td>0.001899</td>\n",
       "    </tr>\n",
       "    <tr>\n",
       "      <th>1</th>\n",
       "      <td>1</td>\n",
       "      <td>1</td>\n",
       "      <td>1</td>\n",
       "      <td>793946.01</td>\n",
       "      <td>3204.49</td>\n",
       "      <td>0</td>\n",
       "      <td>38</td>\n",
       "      <td>0.012346</td>\n",
       "      <td>0.218424</td>\n",
       "      <td>0.007597</td>\n",
       "    </tr>\n",
       "    <tr>\n",
       "      <th>2</th>\n",
       "      <td>1</td>\n",
       "      <td>1</td>\n",
       "      <td>1</td>\n",
       "      <td>574111.90</td>\n",
       "      <td>2606.40</td>\n",
       "      <td>0</td>\n",
       "      <td>29</td>\n",
       "      <td>0.011396</td>\n",
       "      <td>0.066477</td>\n",
       "      <td>0.020893</td>\n",
       "    </tr>\n",
       "    <tr>\n",
       "      <th>3</th>\n",
       "      <td>1</td>\n",
       "      <td>1</td>\n",
       "      <td>0</td>\n",
       "      <td>935630.30</td>\n",
       "      <td>8756.19</td>\n",
       "      <td>0</td>\n",
       "      <td>43</td>\n",
       "      <td>0.016144</td>\n",
       "      <td>0.218424</td>\n",
       "      <td>0.001899</td>\n",
       "    </tr>\n",
       "    <tr>\n",
       "      <th>4</th>\n",
       "      <td>1</td>\n",
       "      <td>1</td>\n",
       "      <td>1</td>\n",
       "      <td>598763.07</td>\n",
       "      <td>3772.20</td>\n",
       "      <td>0</td>\n",
       "      <td>25</td>\n",
       "      <td>0.096866</td>\n",
       "      <td>0.112061</td>\n",
       "      <td>0.001899</td>\n",
       "    </tr>\n",
       "  </tbody>\n",
       "</table>\n",
       "</div>"
      ],
      "text/plain": [
       "   RACE_white  ETHNICITY_nonhispanic  GENDER_M  HEALTHCARE_EXPENSES  \\\n",
       "0           1                      0         1            271227.08   \n",
       "1           1                      1         1            793946.01   \n",
       "2           1                      1         1            574111.90   \n",
       "3           1                      1         0            935630.30   \n",
       "4           1                      1         1            598763.07   \n",
       "\n",
       "   HEALTHCARE_COVERAGE  non_adherence  Age  CITY_Encoded  COUNTRY_Encoded  \\\n",
       "0              1334.88              1   32      0.011396         0.066477   \n",
       "1              3204.49              0   38      0.012346         0.218424   \n",
       "2              2606.40              0   29      0.011396         0.066477   \n",
       "3              8756.19              0   43      0.016144         0.218424   \n",
       "4              3772.20              0   25      0.096866         0.112061   \n",
       "\n",
       "   BIRTHPLACE_Encoded  \n",
       "0            0.001899  \n",
       "1            0.007597  \n",
       "2            0.020893  \n",
       "3            0.001899  \n",
       "4            0.001899  "
      ]
     },
     "execution_count": 31,
     "metadata": {},
     "output_type": "execute_result"
    }
   ],
   "source": [
    "df.drop(['CITY','COUNTRY','BIRTHPLACE'],axis = 1,inplace=True)\n",
    "df.head()"
   ]
  },
  {
   "cell_type": "markdown",
   "id": "e00d1673",
   "metadata": {},
   "source": [
    "# Feature Selection"
   ]
  },
  {
   "cell_type": "code",
   "execution_count": 32,
   "id": "962a1903",
   "metadata": {},
   "outputs": [
    {
     "name": "stdout",
     "output_type": "stream",
     "text": [
      "(947, 10)\n",
      "(53, 10)\n",
      "(53, 10)\n"
     ]
    }
   ],
   "source": [
    "train, validate, test = np.split(df.sample(frac=1, random_state=42),[int(.9*len(df)), int(.95*len(df))])\n",
    "print(train.shape)\n",
    "print(test.shape)\n",
    "print(validate.shape)"
   ]
  },
  {
   "cell_type": "code",
   "execution_count": 33,
   "id": "d8a29b15",
   "metadata": {},
   "outputs": [
    {
     "data": {
      "text/html": [
       "<div>\n",
       "<style scoped>\n",
       "    .dataframe tbody tr th:only-of-type {\n",
       "        vertical-align: middle;\n",
       "    }\n",
       "\n",
       "    .dataframe tbody tr th {\n",
       "        vertical-align: top;\n",
       "    }\n",
       "\n",
       "    .dataframe thead th {\n",
       "        text-align: right;\n",
       "    }\n",
       "</style>\n",
       "<table border=\"1\" class=\"dataframe\">\n",
       "  <thead>\n",
       "    <tr style=\"text-align: right;\">\n",
       "      <th></th>\n",
       "      <th>RACE_white</th>\n",
       "      <th>ETHNICITY_nonhispanic</th>\n",
       "      <th>GENDER_M</th>\n",
       "      <th>HEALTHCARE_EXPENSES</th>\n",
       "      <th>HEALTHCARE_COVERAGE</th>\n",
       "      <th>Age</th>\n",
       "      <th>CITY_Encoded</th>\n",
       "      <th>COUNTRY_Encoded</th>\n",
       "      <th>BIRTHPLACE_Encoded</th>\n",
       "    </tr>\n",
       "  </thead>\n",
       "  <tbody>\n",
       "    <tr>\n",
       "      <th>431</th>\n",
       "      <td>1</td>\n",
       "      <td>1</td>\n",
       "      <td>0</td>\n",
       "      <td>247832.53</td>\n",
       "      <td>2868.16</td>\n",
       "      <td>12</td>\n",
       "      <td>0.018044</td>\n",
       "      <td>0.093067</td>\n",
       "      <td>0.000950</td>\n",
       "    </tr>\n",
       "    <tr>\n",
       "      <th>104</th>\n",
       "      <td>1</td>\n",
       "      <td>0</td>\n",
       "      <td>1</td>\n",
       "      <td>808765.24</td>\n",
       "      <td>8690.64</td>\n",
       "      <td>40</td>\n",
       "      <td>0.096866</td>\n",
       "      <td>0.112061</td>\n",
       "      <td>0.002849</td>\n",
       "    </tr>\n",
       "    <tr>\n",
       "      <th>1072</th>\n",
       "      <td>1</td>\n",
       "      <td>1</td>\n",
       "      <td>1</td>\n",
       "      <td>1238871.62</td>\n",
       "      <td>4107.92</td>\n",
       "      <td>58</td>\n",
       "      <td>0.016144</td>\n",
       "      <td>0.093067</td>\n",
       "      <td>0.078822</td>\n",
       "    </tr>\n",
       "    <tr>\n",
       "      <th>1169</th>\n",
       "      <td>1</td>\n",
       "      <td>1</td>\n",
       "      <td>0</td>\n",
       "      <td>1375833.47</td>\n",
       "      <td>13157.00</td>\n",
       "      <td>107</td>\n",
       "      <td>0.006648</td>\n",
       "      <td>0.107312</td>\n",
       "      <td>0.020893</td>\n",
       "    </tr>\n",
       "    <tr>\n",
       "      <th>64</th>\n",
       "      <td>1</td>\n",
       "      <td>1</td>\n",
       "      <td>0</td>\n",
       "      <td>626389.54</td>\n",
       "      <td>6614.40</td>\n",
       "      <td>29</td>\n",
       "      <td>0.003799</td>\n",
       "      <td>0.218424</td>\n",
       "      <td>0.005698</td>\n",
       "    </tr>\n",
       "  </tbody>\n",
       "</table>\n",
       "</div>"
      ],
      "text/plain": [
       "      RACE_white  ETHNICITY_nonhispanic  GENDER_M  HEALTHCARE_EXPENSES  \\\n",
       "431            1                      1         0            247832.53   \n",
       "104            1                      0         1            808765.24   \n",
       "1072           1                      1         1           1238871.62   \n",
       "1169           1                      1         0           1375833.47   \n",
       "64             1                      1         0            626389.54   \n",
       "\n",
       "      HEALTHCARE_COVERAGE  Age  CITY_Encoded  COUNTRY_Encoded  \\\n",
       "431               2868.16   12      0.018044         0.093067   \n",
       "104               8690.64   40      0.096866         0.112061   \n",
       "1072              4107.92   58      0.016144         0.093067   \n",
       "1169             13157.00  107      0.006648         0.107312   \n",
       "64                6614.40   29      0.003799         0.218424   \n",
       "\n",
       "      BIRTHPLACE_Encoded  \n",
       "431             0.000950  \n",
       "104             0.002849  \n",
       "1072            0.078822  \n",
       "1169            0.020893  \n",
       "64              0.005698  "
      ]
     },
     "execution_count": 33,
     "metadata": {},
     "output_type": "execute_result"
    }
   ],
   "source": [
    "X_train = train.drop('non_adherence',axis = 1)\n",
    "y_train = train['non_adherence']\n",
    "X_train.head()\n",
    "X_test = test.drop('non_adherence',axis = 1)\n",
    "y_test = test['non_adherence']\n",
    "\n",
    "X_validate = validate.drop('non_adherence',axis = 1)\n",
    "y_validate = validate['non_adherence']\n",
    "\n",
    "X_train.head()"
   ]
  },
  {
   "cell_type": "code",
   "execution_count": 34,
   "id": "e5533526",
   "metadata": {},
   "outputs": [],
   "source": [
    "from sklearn.ensemble import RandomForestClassifier\n",
    "\n",
    "model = RandomForestClassifier(n_estimators = 20 ,random_state = 10)\n",
    "model.fit(X_train, y_train)\n",
    "importances = pd.DataFrame(data={\n",
    "    'Attribute': X_train.columns,\n",
    "    'Importance': model.feature_importances_\n",
    "})\n",
    "importances = importances.sort_values(by='Importance', ascending=False)"
   ]
  },
  {
   "cell_type": "code",
   "execution_count": 35,
   "id": "f6c86204",
   "metadata": {},
   "outputs": [
    {
     "data": {
      "image/png": "[encoded data removed]",
      "text/plain": [
       "<Figure size 432x360 with 1 Axes>"
      ]
     },
     "metadata": {},
     "output_type": "display_data"
    }
   ],
   "source": [
    "sns.set(rc={'figure.figsize':(6,5)})\n",
    "plt.bar(x=importances['Attribute'], height=importances['Importance'], color='#7FFFD4')\n",
    "plt.title('Feature importances obtained from coefficients', size=20)\n",
    "plt.xticks(rotation='vertical')\n",
    "plt.show()"
   ]
  },
  {
   "cell_type": "markdown",
   "id": "c010a076",
   "metadata": {},
   "source": [
    "### From the above observation, we can see that there is no such column that does'nt play role in training."
   ]
  },
  {
   "cell_type": "markdown",
   "id": "6b5ef6b0",
   "metadata": {},
   "source": [
    "# Selecting correct Model"
   ]
  },
  {
   "cell_type": "markdown",
   "id": "635b94be",
   "metadata": {},
   "source": [
    "#### Logistic Regression"
   ]
  },
  {
   "cell_type": "code",
   "execution_count": 36,
   "id": "8d09718d",
   "metadata": {},
   "outputs": [
    {
     "name": "stdout",
     "output_type": "stream",
     "text": [
      "0.8113207547169812\n"
     ]
    }
   ],
   "source": [
    "from sklearn.linear_model import LogisticRegression\n",
    "from sklearn.metrics import accuracy_score\n",
    "model_logistic = LogisticRegression()\n",
    "model_logistic.fit(X_train, y_train)\n",
    "y_predict = model_logistic.predict(X_validate)\n",
    "print(accuracy_score(y_validate, y_predict))"
   ]
  },
  {
   "cell_type": "markdown",
   "id": "89c8c80a",
   "metadata": {},
   "source": [
    "#### Naive Bayes"
   ]
  },
  {
   "cell_type": "code",
   "execution_count": 37,
   "id": "b07c546b",
   "metadata": {},
   "outputs": [
    {
     "name": "stdout",
     "output_type": "stream",
     "text": [
      "0.7924528301886793\n"
     ]
    }
   ],
   "source": [
    "from sklearn.naive_bayes import GaussianNB\n",
    "Naive_Bayes = GaussianNB()\n",
    "Naive_Bayes.fit(X_train, y_train)\n",
    "y_predict = Naive_Bayes.predict(X_validate)  \n",
    "print(accuracy_score(y_validate, y_predict))"
   ]
  },
  {
   "cell_type": "markdown",
   "id": "25339c40",
   "metadata": {},
   "source": [
    "#### K-Nearest Neighbor Algorithm"
   ]
  },
  {
   "cell_type": "code",
   "execution_count": 38,
   "id": "ef1ffc3a",
   "metadata": {},
   "outputs": [
    {
     "name": "stdout",
     "output_type": "stream",
     "text": [
      "0.7547169811320755\n"
     ]
    }
   ],
   "source": [
    "from sklearn.neighbors import KNeighborsClassifier\n",
    "knn = KNeighborsClassifier(n_neighbors=3)\n",
    "knn.fit(X_train, y_train)\n",
    "y_predict = knn.predict(X_validate)  \n",
    "print(accuracy_score(y_validate, y_predict))"
   ]
  },
  {
   "cell_type": "markdown",
   "id": "f9ed36c0",
   "metadata": {},
   "source": [
    "#### SVM"
   ]
  },
  {
   "cell_type": "code",
   "execution_count": 39,
   "id": "6f7fac36",
   "metadata": {},
   "outputs": [
    {
     "name": "stdout",
     "output_type": "stream",
     "text": [
      "0.7547169811320755\n"
     ]
    }
   ],
   "source": [
    "from sklearn import svm\n",
    "svm_clf = svm.SVC()\n",
    "svm_clf.fit(X_train, y_train)\n",
    "y_predict = knn.predict(X_validate)  \n",
    "print(accuracy_score(y_validate, y_predict))"
   ]
  },
  {
   "cell_type": "markdown",
   "id": "a2bddd3e",
   "metadata": {},
   "source": [
    "#### Decision Tree"
   ]
  },
  {
   "cell_type": "code",
   "execution_count": 40,
   "id": "2ec0a050",
   "metadata": {},
   "outputs": [
    {
     "name": "stdout",
     "output_type": "stream",
     "text": [
      "0.8490566037735849\n"
     ]
    }
   ],
   "source": [
    "from sklearn import tree\n",
    "dtc = tree.DecisionTreeClassifier(max_depth=2)\n",
    "dtc.fit(X_train, y_train)\n",
    "y_predict = dtc.predict(X_validate)  \n",
    "print(accuracy_score(y_validate, y_predict))"
   ]
  },
  {
   "cell_type": "markdown",
   "id": "582a16e2",
   "metadata": {},
   "source": [
    "#### Random Forest"
   ]
  },
  {
   "cell_type": "code",
   "execution_count": 41,
   "id": "53ea5a39",
   "metadata": {},
   "outputs": [
    {
     "name": "stdout",
     "output_type": "stream",
     "text": [
      "0.8490566037735849\n"
     ]
    }
   ],
   "source": [
    "from sklearn.ensemble import RandomForestClassifier\n",
    "from sklearn.datasets import make_classification\n",
    "rf = RandomForestClassifier(max_depth=2)\n",
    "rf.fit(X_train, y_train)\n",
    "y_predict = rf.predict(X_validate)  \n",
    "print(accuracy_score(y_validate, y_predict))"
   ]
  },
  {
   "cell_type": "markdown",
   "id": "4e143e0c",
   "metadata": {},
   "source": [
    "### From above accuracy score, we can conclude that both decision tree and random forest classifier performs the best\n"
   ]
  },
  {
   "cell_type": "markdown",
   "id": "eaaab728",
   "metadata": {},
   "source": [
    "# Preparing and Prediction of final_testing_dataset"
   ]
  },
  {
   "cell_type": "code",
   "execution_count": 42,
   "id": "40978879",
   "metadata": {},
   "outputs": [
    {
     "data": {
      "text/html": [
       "<div>\n",
       "<style scoped>\n",
       "    .dataframe tbody tr th:only-of-type {\n",
       "        vertical-align: middle;\n",
       "    }\n",
       "\n",
       "    .dataframe tbody tr th {\n",
       "        vertical-align: top;\n",
       "    }\n",
       "\n",
       "    .dataframe thead th {\n",
       "        text-align: right;\n",
       "    }\n",
       "</style>\n",
       "<table border=\"1\" class=\"dataframe\">\n",
       "  <thead>\n",
       "    <tr style=\"text-align: right;\">\n",
       "      <th></th>\n",
       "      <th>Id</th>\n",
       "      <th>SSN</th>\n",
       "      <th>FIRST</th>\n",
       "      <th>LAST</th>\n",
       "      <th>RACE</th>\n",
       "      <th>ETHNICITY</th>\n",
       "      <th>GENDER</th>\n",
       "      <th>BIRTHPLACE</th>\n",
       "      <th>CITY</th>\n",
       "      <th>STATE</th>\n",
       "      <th>COUNTRY</th>\n",
       "      <th>HEALTHCARE_EXPENSES</th>\n",
       "      <th>HEALTHCARE_COVERAGE</th>\n",
       "      <th>non_adherence</th>\n",
       "      <th>Age</th>\n",
       "    </tr>\n",
       "  </thead>\n",
       "  <tbody>\n",
       "    <tr>\n",
       "      <th>7</th>\n",
       "      <td>01207ecd-9dff-4754-8887-4652eda231e2</td>\n",
       "      <td>999-81-4349</td>\n",
       "      <td>Karyn217</td>\n",
       "      <td>Mueller846</td>\n",
       "      <td>white</td>\n",
       "      <td>nonhispanic</td>\n",
       "      <td>F</td>\n",
       "      <td>New Bedford  Massachusetts  US</td>\n",
       "      <td>Colrain</td>\n",
       "      <td>Massachusetts</td>\n",
       "      <td>Franklin County</td>\n",
       "      <td>26400.0</td>\n",
       "      <td>774.96</td>\n",
       "      <td>NaN</td>\n",
       "      <td>2</td>\n",
       "    </tr>\n",
       "    <tr>\n",
       "      <th>36</th>\n",
       "      <td>f592e861-6e2e-46bc-a19d-5485fcbf0d80</td>\n",
       "      <td>999-65-5107</td>\n",
       "      <td>Dorothea248</td>\n",
       "      <td>Ward668</td>\n",
       "      <td>white</td>\n",
       "      <td>nonhispanic</td>\n",
       "      <td>F</td>\n",
       "      <td>New Bedford  Massachusetts  US</td>\n",
       "      <td>Lowell</td>\n",
       "      <td>Massachusetts</td>\n",
       "      <td>Middlesex County</td>\n",
       "      <td>39600.0</td>\n",
       "      <td>1033.28</td>\n",
       "      <td>NaN</td>\n",
       "      <td>3</td>\n",
       "    </tr>\n",
       "    <tr>\n",
       "      <th>57</th>\n",
       "      <td>b44d4f15-d604-4e24-8114-dc0dc12651d2</td>\n",
       "      <td>999-72-2409</td>\n",
       "      <td>Leslee214</td>\n",
       "      <td>Schumm995</td>\n",
       "      <td>white</td>\n",
       "      <td>nonhispanic</td>\n",
       "      <td>F</td>\n",
       "      <td>Springfield  Massachusetts  US</td>\n",
       "      <td>Boston</td>\n",
       "      <td>Massachusetts</td>\n",
       "      <td>Suffolk County</td>\n",
       "      <td>6300.0</td>\n",
       "      <td>258.32</td>\n",
       "      <td>NaN</td>\n",
       "      <td>1</td>\n",
       "    </tr>\n",
       "  </tbody>\n",
       "</table>\n",
       "</div>"
      ],
      "text/plain": [
       "                                      Id          SSN        FIRST  \\\n",
       "7   01207ecd-9dff-4754-8887-4652eda231e2  999-81-4349     Karyn217   \n",
       "36  f592e861-6e2e-46bc-a19d-5485fcbf0d80  999-65-5107  Dorothea248   \n",
       "57  b44d4f15-d604-4e24-8114-dc0dc12651d2  999-72-2409    Leslee214   \n",
       "\n",
       "          LAST   RACE    ETHNICITY GENDER                      BIRTHPLACE  \\\n",
       "7   Mueller846  white  nonhispanic      F  New Bedford  Massachusetts  US   \n",
       "36     Ward668  white  nonhispanic      F  New Bedford  Massachusetts  US   \n",
       "57   Schumm995  white  nonhispanic      F  Springfield  Massachusetts  US   \n",
       "\n",
       "       CITY          STATE           COUNTRY  HEALTHCARE_EXPENSES  \\\n",
       "7   Colrain  Massachusetts   Franklin County              26400.0   \n",
       "36   Lowell  Massachusetts  Middlesex County              39600.0   \n",
       "57   Boston  Massachusetts    Suffolk County               6300.0   \n",
       "\n",
       "    HEALTHCARE_COVERAGE  non_adherence  Age  \n",
       "7                774.96            NaN    2  \n",
       "36              1033.28            NaN    3  \n",
       "57               258.32            NaN    1  "
      ]
     },
     "execution_count": 42,
     "metadata": {},
     "output_type": "execute_result"
    }
   ],
   "source": [
    "# Dataset had all the values of non_adherence as Nan\n",
    "final_testing_dataset.head(3)"
   ]
  },
  {
   "cell_type": "code",
   "execution_count": 43,
   "id": "7b3aee2c",
   "metadata": {},
   "outputs": [],
   "source": [
    "final_testing_dataset.drop(['Id','SSN','FIRST','LAST','STATE','non_adherence'], axis = 1, inplace = True)"
   ]
  },
  {
   "cell_type": "markdown",
   "id": "75a557d7",
   "metadata": {},
   "source": [
    "#### Handling Categorical DataTypes"
   ]
  },
  {
   "cell_type": "code",
   "execution_count": 44,
   "id": "86cf57a7",
   "metadata": {},
   "outputs": [
    {
     "data": {
      "text/html": [
       "<div>\n",
       "<style scoped>\n",
       "    .dataframe tbody tr th:only-of-type {\n",
       "        vertical-align: middle;\n",
       "    }\n",
       "\n",
       "    .dataframe tbody tr th {\n",
       "        vertical-align: top;\n",
       "    }\n",
       "\n",
       "    .dataframe thead th {\n",
       "        text-align: right;\n",
       "    }\n",
       "</style>\n",
       "<table border=\"1\" class=\"dataframe\">\n",
       "  <thead>\n",
       "    <tr style=\"text-align: right;\">\n",
       "      <th></th>\n",
       "      <th>RACE_white</th>\n",
       "      <th>ETHNICITY_nonhispanic</th>\n",
       "      <th>GENDER_M</th>\n",
       "      <th>HEALTHCARE_EXPENSES</th>\n",
       "      <th>HEALTHCARE_COVERAGE</th>\n",
       "      <th>Age</th>\n",
       "      <th>CITY_Encoded</th>\n",
       "      <th>COUNTRY_Encoded</th>\n",
       "      <th>BIRTHPLACE_Encoded</th>\n",
       "    </tr>\n",
       "  </thead>\n",
       "  <tbody>\n",
       "    <tr>\n",
       "      <th>7</th>\n",
       "      <td>1</td>\n",
       "      <td>1</td>\n",
       "      <td>0</td>\n",
       "      <td>26400.0</td>\n",
       "      <td>774.96</td>\n",
       "      <td>2</td>\n",
       "      <td>0.052632</td>\n",
       "      <td>0.052632</td>\n",
       "      <td>0.105263</td>\n",
       "    </tr>\n",
       "    <tr>\n",
       "      <th>36</th>\n",
       "      <td>1</td>\n",
       "      <td>1</td>\n",
       "      <td>0</td>\n",
       "      <td>39600.0</td>\n",
       "      <td>1033.28</td>\n",
       "      <td>3</td>\n",
       "      <td>0.052632</td>\n",
       "      <td>0.263158</td>\n",
       "      <td>0.105263</td>\n",
       "    </tr>\n",
       "    <tr>\n",
       "      <th>57</th>\n",
       "      <td>1</td>\n",
       "      <td>1</td>\n",
       "      <td>0</td>\n",
       "      <td>6300.0</td>\n",
       "      <td>258.32</td>\n",
       "      <td>1</td>\n",
       "      <td>0.157895</td>\n",
       "      <td>0.157895</td>\n",
       "      <td>0.052632</td>\n",
       "    </tr>\n",
       "    <tr>\n",
       "      <th>98</th>\n",
       "      <td>1</td>\n",
       "      <td>0</td>\n",
       "      <td>0</td>\n",
       "      <td>5400.0</td>\n",
       "      <td>258.32</td>\n",
       "      <td>1</td>\n",
       "      <td>0.157895</td>\n",
       "      <td>0.157895</td>\n",
       "      <td>0.052632</td>\n",
       "    </tr>\n",
       "    <tr>\n",
       "      <th>146</th>\n",
       "      <td>1</td>\n",
       "      <td>1</td>\n",
       "      <td>0</td>\n",
       "      <td>56700.0</td>\n",
       "      <td>1162.44</td>\n",
       "      <td>3</td>\n",
       "      <td>0.052632</td>\n",
       "      <td>0.263158</td>\n",
       "      <td>0.052632</td>\n",
       "    </tr>\n",
       "  </tbody>\n",
       "</table>\n",
       "</div>"
      ],
      "text/plain": [
       "     RACE_white  ETHNICITY_nonhispanic  GENDER_M  HEALTHCARE_EXPENSES  \\\n",
       "7             1                      1         0              26400.0   \n",
       "36            1                      1         0              39600.0   \n",
       "57            1                      1         0               6300.0   \n",
       "98            1                      0         0               5400.0   \n",
       "146           1                      1         0              56700.0   \n",
       "\n",
       "     HEALTHCARE_COVERAGE  Age  CITY_Encoded  COUNTRY_Encoded  \\\n",
       "7                 774.96    2      0.052632         0.052632   \n",
       "36               1033.28    3      0.052632         0.263158   \n",
       "57                258.32    1      0.157895         0.157895   \n",
       "98                258.32    1      0.157895         0.157895   \n",
       "146              1162.44    3      0.052632         0.263158   \n",
       "\n",
       "     BIRTHPLACE_Encoded  \n",
       "7              0.105263  \n",
       "36             0.105263  \n",
       "57             0.052632  \n",
       "98             0.052632  \n",
       "146            0.052632  "
      ]
     },
     "execution_count": 44,
     "metadata": {},
     "output_type": "execute_result"
    }
   ],
   "source": [
    "#### One Hot encoding on GENDER, ETHNICITY, RACE\n",
    "gender_encoded=pd.get_dummies(data=final_testing_dataset['GENDER'],prefix='GENDER',drop_first=True)\n",
    "final_testing_dataset.drop('GENDER',axis = 1,inplace=True)\n",
    "final_testing_dataset = pd.concat([gender_encoded,final_testing_dataset],axis = 1)\n",
    "\n",
    "ETHNICITY_encoded=pd.get_dummies(data=final_testing_dataset['ETHNICITY'],prefix='ETHNICITY',drop_first=True)\n",
    "final_testing_dataset.drop('ETHNICITY',axis = 1,inplace=True)\n",
    "final_testing_dataset = pd.concat([ETHNICITY_encoded,final_testing_dataset],axis = 1)\n",
    "\n",
    "RACE_encoded=pd.get_dummies(data=final_testing_dataset['RACE'],prefix='RACE',drop_first=True)\n",
    "final_testing_dataset.drop('RACE',axis = 1,inplace=True)\n",
    "final_testing_dataset = pd.concat([RACE_encoded,final_testing_dataset],axis = 1)\n",
    "final_testing_dataset.head()\n",
    "\n",
    "#### Frequency Encoding on CITY, COUNTRY, BIRTHPLACE\n",
    "\n",
    "fe = final_testing_dataset.groupby('CITY').size()/len(final_testing_dataset)\n",
    "final_testing_dataset['CITY_Encoded'] = final_testing_dataset['CITY'].map(fe)\n",
    "\n",
    "fe = final_testing_dataset.groupby('COUNTRY').size()/len(final_testing_dataset)\n",
    "final_testing_dataset['COUNTRY_Encoded'] = final_testing_dataset['COUNTRY'].map(fe)\n",
    "\n",
    "fe = final_testing_dataset.groupby('BIRTHPLACE').size()/len(final_testing_dataset)\n",
    "final_testing_dataset['BIRTHPLACE_Encoded'] = final_testing_dataset['BIRTHPLACE'].map(fe)\n",
    "\n",
    "final_testing_dataset.drop(['CITY','COUNTRY','BIRTHPLACE'],axis = 1,inplace=True)\n",
    "final_testing_dataset.head()"
   ]
  },
  {
   "cell_type": "markdown",
   "id": "0009598c",
   "metadata": {},
   "source": [
    "#### Performance of X_test data set"
   ]
  },
  {
   "cell_type": "code",
   "execution_count": 45,
   "id": "e71acf7f",
   "metadata": {},
   "outputs": [
    {
     "name": "stdout",
     "output_type": "stream",
     "text": [
      "0.7169811320754716\n"
     ]
    }
   ],
   "source": [
    "y_predict = dtc.predict(X_test)  \n",
    "print(accuracy_score(y_test, y_predict))"
   ]
  },
  {
   "cell_type": "markdown",
   "id": "10aa5703",
   "metadata": {},
   "source": [
    "#### Predicting values on final_testing_dataset"
   ]
  },
  {
   "cell_type": "code",
   "execution_count": 46,
   "id": "8b38df24",
   "metadata": {},
   "outputs": [],
   "source": [
    "final_testing_dataset['Predicted_non_adherence'] = dtc.predict(final_testing_dataset)  "
   ]
  },
  {
   "cell_type": "code",
   "execution_count": 47,
   "id": "b89302c6",
   "metadata": {},
   "outputs": [
    {
     "data": {
      "text/plain": [
       "7       0\n",
       "36      0\n",
       "57      0\n",
       "98      0\n",
       "146     0\n",
       "154     0\n",
       "162     0\n",
       "201     0\n",
       "213     0\n",
       "313     0\n",
       "430     0\n",
       "499     0\n",
       "528     0\n",
       "612     1\n",
       "678     0\n",
       "773     0\n",
       "849     0\n",
       "987     0\n",
       "1157    0\n",
       "Name: Predicted_non_adherence, dtype: int64"
      ]
     },
     "execution_count": 47,
     "metadata": {},
     "output_type": "execute_result"
    }
   ],
   "source": [
    "# Predicted values\n",
    "final_testing_dataset['Predicted_non_adherence']"
   ]
  },
  {
   "cell_type": "markdown",
   "id": "5332e701",
   "metadata": {},
   "source": [
    "#### Dumping Model as .pickle"
   ]
  },
  {
   "cell_type": "code",
   "execution_count": 48,
   "id": "d02ad94e",
   "metadata": {},
   "outputs": [],
   "source": [
    "# import pickle\n",
    "# pickle.dump(dtc, open('../Trained Model/AdherenceModel', 'wb'))"
   ]
  },
  {
   "cell_type": "code",
   "execution_count": 51,
   "id": "ecf51b15",
   "metadata": {},
   "outputs": [],
   "source": [
    "#Taking an example \n",
    "# Name : Shivam\n",
    "# Age : 21\n",
    "# Race : Asian\n",
    "# ethnicity: nonhispanic\n",
    "# gender : Male\n",
    "# HEALTHCARE_EXPENSES : 200000\n",
    "# HEALTHCARE_COVERAGE : 10000\n",
    "#CITY :0.052632\n",
    "#COUNTRY : 0.052632\n",
    "#BIRTHPLACE : 0.105263"
   ]
  },
  {
   "cell_type": "code",
   "execution_count": 54,
   "id": "237ba7ae",
   "metadata": {},
   "outputs": [
    {
     "data": {
      "text/html": [
       "<div>\n",
       "<style scoped>\n",
       "    .dataframe tbody tr th:only-of-type {\n",
       "        vertical-align: middle;\n",
       "    }\n",
       "\n",
       "    .dataframe tbody tr th {\n",
       "        vertical-align: top;\n",
       "    }\n",
       "\n",
       "    .dataframe thead th {\n",
       "        text-align: right;\n",
       "    }\n",
       "</style>\n",
       "<table border=\"1\" class=\"dataframe\">\n",
       "  <thead>\n",
       "    <tr style=\"text-align: right;\">\n",
       "      <th></th>\n",
       "      <th>RACE_white</th>\n",
       "      <th>ETHNICITY_nonhispanic</th>\n",
       "      <th>GENDER_M</th>\n",
       "      <th>HEALTHCARE_EXPENSES</th>\n",
       "      <th>HEALTHCARE_COVERAGE</th>\n",
       "      <th>Age</th>\n",
       "      <th>CITY_Encoded</th>\n",
       "      <th>COUNTRY_Encoded</th>\n",
       "      <th>BIRTHPLACE_Encoded</th>\n",
       "    </tr>\n",
       "  </thead>\n",
       "  <tbody>\n",
       "    <tr>\n",
       "      <th>0</th>\n",
       "      <td>1</td>\n",
       "      <td>1</td>\n",
       "      <td>1</td>\n",
       "      <td>200000</td>\n",
       "      <td>10000</td>\n",
       "      <td>21</td>\n",
       "      <td>0.052632</td>\n",
       "      <td>0.052632</td>\n",
       "      <td>0.105263</td>\n",
       "    </tr>\n",
       "  </tbody>\n",
       "</table>\n",
       "</div>"
      ],
      "text/plain": [
       "   RACE_white  ETHNICITY_nonhispanic  GENDER_M  HEALTHCARE_EXPENSES  \\\n",
       "0           1                      1         1               200000   \n",
       "\n",
       "   HEALTHCARE_COVERAGE  Age  CITY_Encoded  COUNTRY_Encoded  BIRTHPLACE_Encoded  \n",
       "0                10000   21      0.052632         0.052632            0.105263  "
      ]
     },
     "execution_count": 54,
     "metadata": {},
     "output_type": "execute_result"
    }
   ],
   "source": [
    "df_user = pd.DataFrame({\"RACE_white\":[1],\"ETHNICITY_nonhispanic\":[1], \"GENDER_M\":[1],\"HEALTHCARE_EXPENSES\":[200000],\"HEALTHCARE_COVERAGE\":[10000],\"Age\":[21],\"CITY_Encoded\":[0.052632],\"COUNTRY_Encoded\":[0.052632],\"BIRTHPLACE_Encoded\":[0.105263]})\n",
    "df_user.head()"
   ]
  },
  {
   "cell_type": "code",
   "execution_count": 55,
   "id": "216daa4c",
   "metadata": {},
   "outputs": [
    {
     "data": {
      "text/plain": [
       "array([1], dtype=int64)"
      ]
     },
     "execution_count": 55,
     "metadata": {},
     "output_type": "execute_result"
    }
   ],
   "source": [
    "dtc.predict(df_user)  "
   ]
  }
 ],
 "metadata": {
  "kernelspec": {
   "display_name": "Python 3",
   "language": "python",
   "name": "python3"
  },
  "language_info": {
   "codemirror_mode": {
    "name": "ipython",
    "version": 3
   },
   "file_extension": ".py",
   "mimetype": "text/x-python",
   "name": "python",
   "nbconvert_exporter": "python",
   "pygments_lexer": "ipython3",
   "version": "3.8.8"
  }
 },
 "nbformat": 4,
 "nbformat_minor": 5
}
