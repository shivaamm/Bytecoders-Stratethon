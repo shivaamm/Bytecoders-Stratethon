{
 "cells": [
  {
   "cell_type": "markdown",
   "metadata": {},
   "source": [
    "# Data preprocessing ,Data Analysis and training model"
   ]
  },
  {
   "cell_type": "code",
   "execution_count": 1,
   "metadata": {},
   "outputs": [],
   "source": [
    "#importing libraries\n",
    "import pandas as pd\n",
    "import numpy as np\n",
    "import matplotlib.pyplot as plt\n",
    "%matplotlib inline\n",
    "import seaborn as sns\n",
    "from datetime import datetime, date\n",
    "\n",
    "pd.options.mode.chained_assignment = None  # default='warn'"
   ]
  },
  {
   "cell_type": "code",
   "execution_count": 2,
   "metadata": {},
   "outputs": [
    {
     "name": "stdout",
     "output_type": "stream",
     "text": [
      "Total shape :  (1171, 15)\n"
     ]
    },
    {
     "data": {
      "text/html": [
       "<div>\n",
       "<style scoped>\n",
       "    .dataframe tbody tr th:only-of-type {\n",
       "        vertical-align: middle;\n",
       "    }\n",
       "\n",
       "    .dataframe tbody tr th {\n",
       "        vertical-align: top;\n",
       "    }\n",
       "\n",
       "    .dataframe thead th {\n",
       "        text-align: right;\n",
       "    }\n",
       "</style>\n",
       "<table border=\"1\" class=\"dataframe\">\n",
       "  <thead>\n",
       "    <tr style=\"text-align: right;\">\n",
       "      <th></th>\n",
       "      <th>Id</th>\n",
       "      <th>BIRTHDATE</th>\n",
       "      <th>SSN</th>\n",
       "      <th>FIRST</th>\n",
       "      <th>LAST</th>\n",
       "      <th>RACE</th>\n",
       "      <th>ETHNICITY</th>\n",
       "      <th>GENDER</th>\n",
       "      <th>BIRTHPLACE</th>\n",
       "      <th>CITY</th>\n",
       "      <th>STATE</th>\n",
       "      <th>COUNTRY</th>\n",
       "      <th>HEALTHCARE_EXPENSES</th>\n",
       "      <th>HEALTHCARE_COVERAGE</th>\n",
       "      <th>non_adherence</th>\n",
       "    </tr>\n",
       "  </thead>\n",
       "  <tbody>\n",
       "    <tr>\n",
       "      <th>0</th>\n",
       "      <td>1d604da9-9a81-4ba9-80c2-de3375d59b40</td>\n",
       "      <td>1989-05-25</td>\n",
       "      <td>999-76-6866</td>\n",
       "      <td>José Eduardo181</td>\n",
       "      <td>Gómez206</td>\n",
       "      <td>white</td>\n",
       "      <td>hispanic</td>\n",
       "      <td>M</td>\n",
       "      <td>Marigot  Saint Andrew Parish  DM</td>\n",
       "      <td>Chicopee</td>\n",
       "      <td>Massachusetts</td>\n",
       "      <td>Hampden County</td>\n",
       "      <td>271227.08</td>\n",
       "      <td>1334.88</td>\n",
       "      <td>1.0</td>\n",
       "    </tr>\n",
       "    <tr>\n",
       "      <th>1</th>\n",
       "      <td>034e9e3b-2def-4559-bb2a-7850888ae060</td>\n",
       "      <td>1983-11-14</td>\n",
       "      <td>999-73-5361</td>\n",
       "      <td>Milo271</td>\n",
       "      <td>Feil794</td>\n",
       "      <td>white</td>\n",
       "      <td>nonhispanic</td>\n",
       "      <td>M</td>\n",
       "      <td>Danvers  Massachusetts  US</td>\n",
       "      <td>Somerville</td>\n",
       "      <td>Massachusetts</td>\n",
       "      <td>Middlesex County</td>\n",
       "      <td>793946.01</td>\n",
       "      <td>3204.49</td>\n",
       "      <td>0.0</td>\n",
       "    </tr>\n",
       "    <tr>\n",
       "      <th>2</th>\n",
       "      <td>10339b10-3cd1-4ac3-ac13-ec26728cb592</td>\n",
       "      <td>1992-06-02</td>\n",
       "      <td>999-27-3385</td>\n",
       "      <td>Jayson808</td>\n",
       "      <td>Fadel536</td>\n",
       "      <td>white</td>\n",
       "      <td>nonhispanic</td>\n",
       "      <td>M</td>\n",
       "      <td>Springfield  Massachusetts  US</td>\n",
       "      <td>Chicopee</td>\n",
       "      <td>Massachusetts</td>\n",
       "      <td>Hampden County</td>\n",
       "      <td>574111.90</td>\n",
       "      <td>2606.40</td>\n",
       "      <td>0.0</td>\n",
       "    </tr>\n",
       "    <tr>\n",
       "      <th>3</th>\n",
       "      <td>8d4c4326-e9de-4f45-9a4c-f8c36bff89ae</td>\n",
       "      <td>1978-05-27</td>\n",
       "      <td>999-85-4926</td>\n",
       "      <td>Mariana775</td>\n",
       "      <td>Rutherford999</td>\n",
       "      <td>white</td>\n",
       "      <td>nonhispanic</td>\n",
       "      <td>F</td>\n",
       "      <td>Yarmouth  Massachusetts  US</td>\n",
       "      <td>Lowell</td>\n",
       "      <td>Massachusetts</td>\n",
       "      <td>Middlesex County</td>\n",
       "      <td>935630.30</td>\n",
       "      <td>8756.19</td>\n",
       "      <td>0.0</td>\n",
       "    </tr>\n",
       "    <tr>\n",
       "      <th>4</th>\n",
       "      <td>f5dcd418-09fe-4a2f-baa0-3da800bd8c3a</td>\n",
       "      <td>1996-10-18</td>\n",
       "      <td>999-60-7372</td>\n",
       "      <td>Gregorio366</td>\n",
       "      <td>Auer97</td>\n",
       "      <td>white</td>\n",
       "      <td>nonhispanic</td>\n",
       "      <td>M</td>\n",
       "      <td>Patras  Achaea  GR</td>\n",
       "      <td>Boston</td>\n",
       "      <td>Massachusetts</td>\n",
       "      <td>Suffolk County</td>\n",
       "      <td>598763.07</td>\n",
       "      <td>3772.20</td>\n",
       "      <td>0.0</td>\n",
       "    </tr>\n",
       "  </tbody>\n",
       "</table>\n",
       "</div>"
      ],
      "text/plain": [
       "                                     Id   BIRTHDATE          SSN  \\\n",
       "0  1d604da9-9a81-4ba9-80c2-de3375d59b40  1989-05-25  999-76-6866   \n",
       "1  034e9e3b-2def-4559-bb2a-7850888ae060  1983-11-14  999-73-5361   \n",
       "2  10339b10-3cd1-4ac3-ac13-ec26728cb592  1992-06-02  999-27-3385   \n",
       "3  8d4c4326-e9de-4f45-9a4c-f8c36bff89ae  1978-05-27  999-85-4926   \n",
       "4  f5dcd418-09fe-4a2f-baa0-3da800bd8c3a  1996-10-18  999-60-7372   \n",
       "\n",
       "             FIRST           LAST   RACE    ETHNICITY GENDER  \\\n",
       "0  José Eduardo181       Gómez206  white     hispanic      M   \n",
       "1          Milo271        Feil794  white  nonhispanic      M   \n",
       "2        Jayson808       Fadel536  white  nonhispanic      M   \n",
       "3       Mariana775  Rutherford999  white  nonhispanic      F   \n",
       "4      Gregorio366         Auer97  white  nonhispanic      M   \n",
       "\n",
       "                         BIRTHPLACE        CITY          STATE  \\\n",
       "0  Marigot  Saint Andrew Parish  DM    Chicopee  Massachusetts   \n",
       "1        Danvers  Massachusetts  US  Somerville  Massachusetts   \n",
       "2    Springfield  Massachusetts  US    Chicopee  Massachusetts   \n",
       "3       Yarmouth  Massachusetts  US      Lowell  Massachusetts   \n",
       "4                Patras  Achaea  GR      Boston  Massachusetts   \n",
       "\n",
       "            COUNTRY  HEALTHCARE_EXPENSES  HEALTHCARE_COVERAGE  non_adherence  \n",
       "0    Hampden County            271227.08              1334.88            1.0  \n",
       "1  Middlesex County            793946.01              3204.49            0.0  \n",
       "2    Hampden County            574111.90              2606.40            0.0  \n",
       "3  Middlesex County            935630.30              8756.19            0.0  \n",
       "4    Suffolk County            598763.07              3772.20            0.0  "
      ]
     },
     "execution_count": 2,
     "metadata": {},
     "output_type": "execute_result"
    }
   ],
   "source": [
    "patients = pd.read_csv('../myCSV/modified_patients.csv')\n",
    "print('Total shape : ',patients.shape)\n",
    "patients.rename(columns = {'COUNTY':'COUNTRY'}, inplace = True)\n",
    "patients.head()"
   ]
  },
  {
   "cell_type": "markdown",
   "metadata": {},
   "source": [
    "Extracting Age using BIRTHDATE "
   ]
  },
  {
   "cell_type": "code",
   "execution_count": 3,
   "metadata": {},
   "outputs": [],
   "source": [
    "def age(born):\n",
    "    born = datetime.strptime(born, \"%Y-%m-%d\").date()\n",
    "    today = date.today()\n",
    "    return today.year - born.year - ((today.month, today.day) < (born.month, born.day))"
   ]
  },
  {
   "cell_type": "code",
   "execution_count": 4,
   "metadata": {},
   "outputs": [
    {
     "data": {
      "text/html": [
       "<div>\n",
       "<style scoped>\n",
       "    .dataframe tbody tr th:only-of-type {\n",
       "        vertical-align: middle;\n",
       "    }\n",
       "\n",
       "    .dataframe tbody tr th {\n",
       "        vertical-align: top;\n",
       "    }\n",
       "\n",
       "    .dataframe thead th {\n",
       "        text-align: right;\n",
       "    }\n",
       "</style>\n",
       "<table border=\"1\" class=\"dataframe\">\n",
       "  <thead>\n",
       "    <tr style=\"text-align: right;\">\n",
       "      <th></th>\n",
       "      <th>BIRTHDATE</th>\n",
       "      <th>Age</th>\n",
       "    </tr>\n",
       "  </thead>\n",
       "  <tbody>\n",
       "    <tr>\n",
       "      <th>0</th>\n",
       "      <td>1989-05-25</td>\n",
       "      <td>32</td>\n",
       "    </tr>\n",
       "    <tr>\n",
       "      <th>1</th>\n",
       "      <td>1983-11-14</td>\n",
       "      <td>38</td>\n",
       "    </tr>\n",
       "    <tr>\n",
       "      <th>2</th>\n",
       "      <td>1992-06-02</td>\n",
       "      <td>29</td>\n",
       "    </tr>\n",
       "    <tr>\n",
       "      <th>3</th>\n",
       "      <td>1978-05-27</td>\n",
       "      <td>43</td>\n",
       "    </tr>\n",
       "    <tr>\n",
       "      <th>4</th>\n",
       "      <td>1996-10-18</td>\n",
       "      <td>25</td>\n",
       "    </tr>\n",
       "  </tbody>\n",
       "</table>\n",
       "</div>"
      ],
      "text/plain": [
       "    BIRTHDATE  Age\n",
       "0  1989-05-25   32\n",
       "1  1983-11-14   38\n",
       "2  1992-06-02   29\n",
       "3  1978-05-27   43\n",
       "4  1996-10-18   25"
      ]
     },
     "execution_count": 4,
     "metadata": {},
     "output_type": "execute_result"
    }
   ],
   "source": [
    "patients['Age'] = patients['BIRTHDATE'].apply(age)\n",
    "patients[['BIRTHDATE','Age']].head()"
   ]
  },
  {
   "cell_type": "code",
   "execution_count": 5,
   "metadata": {},
   "outputs": [
    {
     "data": {
      "text/plain": [
       "Id                      0\n",
       "SSN                     0\n",
       "FIRST                   0\n",
       "LAST                    0\n",
       "RACE                    0\n",
       "ETHNICITY               0\n",
       "GENDER                  0\n",
       "BIRTHPLACE              0\n",
       "CITY                    0\n",
       "STATE                   0\n",
       "COUNTRY                 0\n",
       "HEALTHCARE_EXPENSES     0\n",
       "HEALTHCARE_COVERAGE     0\n",
       "non_adherence          19\n",
       "Age                     0\n",
       "dtype: int64"
      ]
     },
     "execution_count": 5,
     "metadata": {},
     "output_type": "execute_result"
    }
   ],
   "source": [
    "patients.drop('BIRTHDATE',axis = 1 , inplace = True)\n",
    "patients.isnull().sum()"
   ]
  },
  {
   "cell_type": "markdown",
   "metadata": {},
   "source": [
    "#### Rows in which non-adherence value is NULL will be treated as final testing dataset. So seperating it in the starting and will be working further with df having no NULL values."
   ]
  },
  {
   "cell_type": "code",
   "execution_count": 6,
   "metadata": {},
   "outputs": [
    {
     "data": {
      "text/plain": [
       "(19, 15)"
      ]
     },
     "execution_count": 6,
     "metadata": {},
     "output_type": "execute_result"
    }
   ],
   "source": [
    "final_testing_dataset = patients[patients['non_adherence'].isnull()]\n",
    "df = patients[patients['non_adherence'].notnull()]\n",
    "df['non_adherence'] = df['non_adherence'].apply(np.int64)\n",
    "final_testing_dataset.shape"
   ]
  },
  {
   "cell_type": "code",
   "execution_count": 7,
   "metadata": {},
   "outputs": [
    {
     "data": {
      "text/plain": [
       "0"
      ]
     },
     "execution_count": 7,
     "metadata": {},
     "output_type": "execute_result"
    }
   ],
   "source": [
    "# Total number of duplicate rows\n",
    "df.duplicated().sum()"
   ]
  },
  {
   "cell_type": "code",
   "execution_count": 8,
   "metadata": {},
   "outputs": [
    {
     "name": "stdout",
     "output_type": "stream",
     "text": [
      "Number of unique patients =  1152\n",
      "Number of records =  1152\n"
     ]
    }
   ],
   "source": [
    "print('Number of unique patients = ',df['Id'].nunique())\n",
    "print('Number of records = ',df.shape[0])"
   ]
  },
  {
   "cell_type": "markdown",
   "metadata": {},
   "source": [
    "Since, Number of unique patients = Number of records. Hence , each row contains data of a different patient"
   ]
  },
  {
   "cell_type": "code",
   "execution_count": 9,
<<<<<<< HEAD
   "metadata": {},
   "outputs": [],
   "source": [
    "# seperating target column from main dataframe\n",
    "# xtrain = df.drop('non-adherence',axis = 1)\n",
    "# labels = df['non-adherence']\n",
    "# xtrain.shape\n",
    "\n",
    "# from sklearn.model_selection import train_test_split\n",
    "# X_train, X, y_train, y = train_test_split(xtrain,labels,test_size=0.1,train_size=0.9)\n",
    "# X_test, X_valid, y_test, y_valid = train_test_split(X,y,test_size = 0.5,train_size =0.5)\n",
    "\n",
    "# print(X_train.shape), print(y_train.shape)\n",
    "# print(X_valid.shape), print(y_valid.shape)\n",
    "# print(X_test.shape), print(y_test.shape)"
   ]
  },
  {
   "cell_type": "code",
   "execution_count": 10,
=======
   "id": "e045ef89",
>>>>>>> 2173f37ef736c8a39b2fb8f041f5c55cb05905c7
   "metadata": {},
   "outputs": [
    {
     "data": {
      "text/plain": [
       "(1152, 15)"
      ]
     },
     "execution_count": 9,
     "metadata": {},
     "output_type": "execute_result"
    }
   ],
   "source": [
    "df.shape"
   ]
  },
  {
<<<<<<< HEAD
   "cell_type": "code",
   "execution_count": 11,
   "metadata": {},
   "outputs": [],
   "source": [
    "#### Train test validation ratio = 90% : 5% : 5%"
   ]
  },
  {
=======
>>>>>>> 2173f37ef736c8a39b2fb8f041f5c55cb05905c7
   "cell_type": "markdown",
   "metadata": {},
   "source": [
    "#### Seperating training data set , for performing Exploratory Data Analysis"
   ]
  },
  {
   "cell_type": "code",
<<<<<<< HEAD
   "execution_count": 12,
=======
   "execution_count": 10,
   "id": "bf6dc07f",
>>>>>>> 2173f37ef736c8a39b2fb8f041f5c55cb05905c7
   "metadata": {},
   "outputs": [
    {
     "data": {
      "text/html": [
       "<div>\n",
       "<style scoped>\n",
       "    .dataframe tbody tr th:only-of-type {\n",
       "        vertical-align: middle;\n",
       "    }\n",
       "\n",
       "    .dataframe tbody tr th {\n",
       "        vertical-align: top;\n",
       "    }\n",
       "\n",
       "    .dataframe thead th {\n",
       "        text-align: right;\n",
       "    }\n",
       "</style>\n",
       "<table border=\"1\" class=\"dataframe\">\n",
       "  <thead>\n",
       "    <tr style=\"text-align: right;\">\n",
       "      <th></th>\n",
       "      <th>Id</th>\n",
       "      <th>SSN</th>\n",
       "      <th>FIRST</th>\n",
       "      <th>LAST</th>\n",
       "      <th>RACE</th>\n",
       "      <th>ETHNICITY</th>\n",
       "      <th>GENDER</th>\n",
       "      <th>BIRTHPLACE</th>\n",
       "      <th>CITY</th>\n",
       "      <th>STATE</th>\n",
       "      <th>COUNTRY</th>\n",
       "      <th>HEALTHCARE_EXPENSES</th>\n",
       "      <th>HEALTHCARE_COVERAGE</th>\n",
       "      <th>non_adherence</th>\n",
       "      <th>Age</th>\n",
       "    </tr>\n",
       "  </thead>\n",
       "  <tbody>\n",
       "    <tr>\n",
       "      <th>181</th>\n",
       "      <td>1c3fea30-6be0-419a-b342-50767fd55440</td>\n",
       "      <td>999-76-5683</td>\n",
       "      <td>Adela471</td>\n",
       "      <td>Llamas954</td>\n",
       "      <td>white</td>\n",
       "      <td>hispanic</td>\n",
       "      <td>F</td>\n",
       "      <td>Puebla  Puebla  MX</td>\n",
       "      <td>Worcester</td>\n",
       "      <td>Massachusetts</td>\n",
       "      <td>Worcester County</td>\n",
       "      <td>791234.65</td>\n",
       "      <td>4830.05</td>\n",
       "      <td>1</td>\n",
       "      <td>36</td>\n",
       "    </tr>\n",
       "    <tr>\n",
       "      <th>769</th>\n",
       "      <td>51f196eb-b11e-493e-ad95-254285af055e</td>\n",
       "      <td>999-89-8579</td>\n",
       "      <td>Cleopatra935</td>\n",
       "      <td>Grant908</td>\n",
       "      <td>white</td>\n",
       "      <td>nonhispanic</td>\n",
       "      <td>F</td>\n",
       "      <td>Lynn  Massachusetts  US</td>\n",
       "      <td>Newton</td>\n",
       "      <td>Massachusetts</td>\n",
       "      <td>Middlesex County</td>\n",
       "      <td>1158561.10</td>\n",
       "      <td>7300.88</td>\n",
       "      <td>1</td>\n",
       "      <td>58</td>\n",
       "    </tr>\n",
       "    <tr>\n",
       "      <th>597</th>\n",
       "      <td>eaf6eec1-84ec-454e-8a9a-eafd13da4241</td>\n",
       "      <td>999-17-5888</td>\n",
       "      <td>Jacques50</td>\n",
       "      <td>Swift555</td>\n",
       "      <td>white</td>\n",
       "      <td>nonhispanic</td>\n",
       "      <td>M</td>\n",
       "      <td>New Bedford  Massachusetts  US</td>\n",
       "      <td>Raynham</td>\n",
       "      <td>Massachusetts</td>\n",
       "      <td>Bristol County</td>\n",
       "      <td>1459993.46</td>\n",
       "      <td>7894.17</td>\n",
       "      <td>1</td>\n",
       "      <td>82</td>\n",
       "    </tr>\n",
       "    <tr>\n",
       "      <th>249</th>\n",
       "      <td>8a9df121-e012-457c-ade0-ead804d93818</td>\n",
       "      <td>999-25-3475</td>\n",
       "      <td>Juli424</td>\n",
       "      <td>Barton704</td>\n",
       "      <td>white</td>\n",
       "      <td>nonhispanic</td>\n",
       "      <td>F</td>\n",
       "      <td>Ware  Massachusetts  US</td>\n",
       "      <td>West Springfield</td>\n",
       "      <td>Massachusetts</td>\n",
       "      <td>Hampden County</td>\n",
       "      <td>1506442.89</td>\n",
       "      <td>18176.42</td>\n",
       "      <td>1</td>\n",
       "      <td>98</td>\n",
       "    </tr>\n",
       "    <tr>\n",
       "      <th>730</th>\n",
       "      <td>26ca976d-0b5b-4662-af41-535ff670dd5a</td>\n",
       "      <td>999-70-4950</td>\n",
       "      <td>Shanti441</td>\n",
       "      <td>Lesch175</td>\n",
       "      <td>white</td>\n",
       "      <td>nonhispanic</td>\n",
       "      <td>F</td>\n",
       "      <td>Boston  Massachusetts  US</td>\n",
       "      <td>Amherst</td>\n",
       "      <td>Massachusetts</td>\n",
       "      <td>Hampshire County</td>\n",
       "      <td>124730.77</td>\n",
       "      <td>2187.36</td>\n",
       "      <td>1</td>\n",
       "      <td>7</td>\n",
       "    </tr>\n",
       "  </tbody>\n",
       "</table>\n",
       "</div>"
      ],
      "text/plain": [
       "                                       Id          SSN         FIRST  \\\n",
       "181  1c3fea30-6be0-419a-b342-50767fd55440  999-76-5683      Adela471   \n",
       "769  51f196eb-b11e-493e-ad95-254285af055e  999-89-8579  Cleopatra935   \n",
       "597  eaf6eec1-84ec-454e-8a9a-eafd13da4241  999-17-5888     Jacques50   \n",
       "249  8a9df121-e012-457c-ade0-ead804d93818  999-25-3475       Juli424   \n",
       "730  26ca976d-0b5b-4662-af41-535ff670dd5a  999-70-4950     Shanti441   \n",
       "\n",
       "          LAST   RACE    ETHNICITY GENDER                      BIRTHPLACE  \\\n",
       "181  Llamas954  white     hispanic      F              Puebla  Puebla  MX   \n",
       "769   Grant908  white  nonhispanic      F         Lynn  Massachusetts  US   \n",
       "597   Swift555  white  nonhispanic      M  New Bedford  Massachusetts  US   \n",
       "249  Barton704  white  nonhispanic      F         Ware  Massachusetts  US   \n",
       "730   Lesch175  white  nonhispanic      F       Boston  Massachusetts  US   \n",
       "\n",
       "                 CITY          STATE           COUNTRY  HEALTHCARE_EXPENSES  \\\n",
       "181         Worcester  Massachusetts  Worcester County            791234.65   \n",
       "769            Newton  Massachusetts  Middlesex County           1158561.10   \n",
       "597           Raynham  Massachusetts    Bristol County           1459993.46   \n",
       "249  West Springfield  Massachusetts    Hampden County           1506442.89   \n",
       "730           Amherst  Massachusetts  Hampshire County            124730.77   \n",
       "\n",
       "     HEALTHCARE_COVERAGE  non_adherence  Age  \n",
       "181              4830.05              1   36  \n",
       "769              7300.88              1   58  \n",
       "597              7894.17              1   82  \n",
       "249             18176.42              1   98  \n",
       "730              2187.36              1    7  "
      ]
     },
     "execution_count": 10,
     "metadata": {},
     "output_type": "execute_result"
    }
   ],
   "source": [
    "train, validate, test = np.split(df.sample(frac=1, random_state=42),[int(.9*len(df)), int(.95*len(df))])\n",
    "train.head()"
   ]
  },
  {
   "cell_type": "code",
<<<<<<< HEAD
   "execution_count": 13,
=======
   "execution_count": 11,
   "id": "2f24673c",
>>>>>>> 2173f37ef736c8a39b2fb8f041f5c55cb05905c7
   "metadata": {},
   "outputs": [
    {
     "name": "stdout",
     "output_type": "stream",
     "text": [
      "(1036, 15)\n",
      "(58, 15)\n",
      "(58, 15)\n"
     ]
    }
   ],
   "source": [
    "print(train.shape)\n",
    "print(test.shape)\n",
    "print(validate.shape)"
   ]
  },
  {
   "cell_type": "markdown",
   "metadata": {},
   "source": [
    "# Exploratory Data Analysis"
   ]
  },
  {
   "cell_type": "code",
<<<<<<< HEAD
   "execution_count": 14,
=======
   "execution_count": 12,
   "id": "2687eff6",
>>>>>>> 2173f37ef736c8a39b2fb8f041f5c55cb05905c7
   "metadata": {},
   "outputs": [
    {
     "name": "stdout",
     "output_type": "stream",
     "text": [
      "Id  :  1036\n",
      "SSN  :  1036\n",
      "FIRST  :  887\n",
      "LAST  :  465\n",
      "RACE  :  5\n",
      "ETHNICITY  :  2\n",
      "GENDER  :  2\n",
      "BIRTHPLACE  :  283\n",
      "CITY  :  229\n",
      "STATE  :  1\n",
      "COUNTRY  :  14\n",
      "HEALTHCARE_EXPENSES  :  1036\n",
      "HEALTHCARE_COVERAGE  :  959\n",
      "non_adherence  :  2\n",
      "Age  :  101\n"
     ]
    }
   ],
   "source": [
    "#Printing number of unique values in of each column\n",
    "for col in train:\n",
    "    print(col ,' : ' ,train[col].nunique())"
   ]
  },
  {
   "cell_type": "code",
<<<<<<< HEAD
   "execution_count": 15,
=======
   "execution_count": 13,
   "id": "b15fff20",
>>>>>>> 2173f37ef736c8a39b2fb8f041f5c55cb05905c7
   "metadata": {},
   "outputs": [
    {
     "data": {
      "text/plain": [
       "<AxesSubplot:xlabel='RACE', ylabel='count'>"
      ]
     },
     "execution_count": 13,
     "metadata": {},
     "output_type": "execute_result"
    },
    {
     "data": {
      "image/png": "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\n",
      "text/plain": [
       "<Figure size 432x432 with 1 Axes>"
      ]
     },
     "metadata": {},
     "output_type": "display_data"
    }
   ],
   "source": [
    "sns.set(rc={'figure.figsize':(6,6)})\n",
    "sns.set_theme(style=\"whitegrid\")\n",
    "sns.countplot(data=train, x='RACE', hue='non_adherence',palette=\"rainbow\")\n",
    "# we can conclude that maximum non_adherence was observed in white Race\n",
    "# Also we can conclude that people with Race as white are much more than that of other races. \n",
    "# So this can be used while handling Race variable. We will encode White as 1 and non-Whites as 0."
   ]
  },
  {
   "cell_type": "code",
<<<<<<< HEAD
   "execution_count": 16,
=======
   "execution_count": 14,
   "id": "9e760216",
>>>>>>> 2173f37ef736c8a39b2fb8f041f5c55cb05905c7
   "metadata": {},
   "outputs": [
    {
     "data": {
      "text/plain": [
       "<AxesSubplot:xlabel='GENDER', ylabel='non_adherence'>"
      ]
     },
     "execution_count": 14,
     "metadata": {},
     "output_type": "execute_result"
    },
    {
     "data": {
      "image/png": "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\n",
      "text/plain": [
       "<Figure size 432x432 with 1 Axes>"
      ]
     },
     "metadata": {},
     "output_type": "display_data"
    }
   ],
   "source": [
    "sns.set_theme(style=\"whitegrid\")\n",
    "sns.barplot(x = train['GENDER'], y = train['non_adherence'],color=\"salmon\",saturation=.8)\n",
    "# Females are slightly more non - adherent than males"
   ]
  },
  {
   "cell_type": "code",
<<<<<<< HEAD
   "execution_count": 17,
=======
   "execution_count": 15,
   "id": "5f3c2ec4",
>>>>>>> 2173f37ef736c8a39b2fb8f041f5c55cb05905c7
   "metadata": {},
   "outputs": [
    {
     "data": {
      "text/plain": [
       "<AxesSubplot:xlabel='count', ylabel='COUNTRY'>"
      ]
     },
     "execution_count": 15,
     "metadata": {},
     "output_type": "execute_result"
    },
    {
     "data": {
      "image/png": "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\n",
      "text/plain": [
       "<Figure size 432x432 with 1 Axes>"
      ]
     },
     "metadata": {},
     "output_type": "display_data"
    }
   ],
   "source": [
    "fig, ax = plt.subplots(figsize=(6, 6))\n",
    "sns.set_theme(style=\"whitegrid\")\n",
    "sns.countplot(data=train, y='COUNTRY', hue='non_adherence',palette=\"Accent\")\n",
    "# Maximum patients are from Middlesex COUNTRY"
   ]
  },
  {
   "cell_type": "code",
<<<<<<< HEAD
   "execution_count": 18,
=======
   "execution_count": 16,
   "id": "9e3ccf03",
>>>>>>> 2173f37ef736c8a39b2fb8f041f5c55cb05905c7
   "metadata": {},
   "outputs": [
    {
     "data": {
      "image/png": "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\n",
      "text/plain": [
       "<Figure size 432x432 with 1 Axes>"
      ]
     },
     "metadata": {},
     "output_type": "display_data"
    }
   ],
   "source": [
    "def Mapping_delay(x):\n",
    "    temp = []\n",
    "    for i in list(x):\n",
    "        if i >= 60:\n",
    "            temp.append(\"(>= 60)\")\n",
    "        elif (i >= 25 and i < 60):\n",
    "            temp.append(\"(25-60)\")\n",
    "        else:\n",
    "            temp.append(\"(< 25)\")\n",
    "    return temp\n",
    "\n",
    "train['Age_Group'] = Mapping_delay(train['Age'])\n",
    "\n",
    "sns.set(rc={'figure.figsize':(6,6)})\n",
    "sns.set_theme(style=\"whitegrid\")\n",
    "sns.countplot(data=train, x='Age_Group',hue='non_adherence',palette=\"PuRd\")\n",
    "train.drop('Age_Group',axis = 1, inplace = True)\n",
    "#From the graph we can clearly see that the people who age than 60, major portion is non - adherent.\n",
    "# Hence senior citizen are non - adherent"
   ]
  },
  {
   "cell_type": "code",
<<<<<<< HEAD
   "execution_count": 19,
=======
   "execution_count": 17,
   "id": "6c0f7298",
>>>>>>> 2173f37ef736c8a39b2fb8f041f5c55cb05905c7
   "metadata": {},
   "outputs": [
    {
     "data": {
      "text/plain": [
       "<seaborn.axisgrid.FacetGrid at 0x29a4af32850>"
      ]
     },
     "execution_count": 17,
     "metadata": {},
     "output_type": "execute_result"
    },
    {
     "data": {
      "image/png": "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\n",
      "text/plain": [
       "<Figure size 360x360 with 1 Axes>"
      ]
     },
     "metadata": {},
     "output_type": "display_data"
    }
   ],
   "source": [
    "sns.set_theme(style=\"whitegrid\")\n",
    "sns.catplot(x=\"non_adherence\", y=\"HEALTHCARE_EXPENSES\", data=train,palette=\"Set1\")\n",
    "#From this graph , we can conclude that the expenses of pateits who are non_adherent are more\n",
    "# Hence cost plays a major role in determining adherencemore e"
   ]
  },
  {
   "cell_type": "markdown",
   "metadata": {},
   "source": [
    "#### Determining Outliers "
   ]
  },
  {
   "cell_type": "code",
<<<<<<< HEAD
   "execution_count": 20,
=======
   "execution_count": 18,
   "id": "652a9855",
>>>>>>> 2173f37ef736c8a39b2fb8f041f5c55cb05905c7
   "metadata": {},
   "outputs": [
    {
     "data": {
      "text/plain": [
       "<AxesSubplot:xlabel='HEALTHCARE_EXPENSES'>"
      ]
     },
     "execution_count": 18,
     "metadata": {},
     "output_type": "execute_result"
    },
    {
     "data": {
      "image/png": "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\n",
      "text/plain": [
       "<Figure size 720x432 with 1 Axes>"
      ]
     },
     "metadata": {},
     "output_type": "display_data"
    }
   ],
   "source": [
    "plt.figure(figsize=(10,6))\n",
    "sns.boxplot(x=df[\"HEALTHCARE_EXPENSES\"])\n",
    "#No such outliers"
   ]
  },
  {
   "cell_type": "code",
<<<<<<< HEAD
   "execution_count": 21,
=======
   "execution_count": 19,
   "id": "1a54ffdb",
>>>>>>> 2173f37ef736c8a39b2fb8f041f5c55cb05905c7
   "metadata": {},
   "outputs": [
    {
     "data": {
      "image/png": "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\n",
      "text/plain": [
       "<Figure size 720x432 with 1 Axes>"
      ]
     },
     "metadata": {},
     "output_type": "display_data"
    }
   ],
   "source": [
    "sns.set(style=\"ticks\")\n",
    "plt.figure(figsize=(10,6))\n",
    "sns.boxplot(x=train[\"HEALTHCARE_COVERAGE\"])\n",
    "plt.xlim(0, 22000)\n",
    "plt.grid()\n",
    "plt.show()"
   ]
  },
  {
   "cell_type": "code",
<<<<<<< HEAD
   "execution_count": 22,
=======
   "execution_count": 20,
   "id": "df77324a",
>>>>>>> 2173f37ef736c8a39b2fb8f041f5c55cb05905c7
   "metadata": {},
   "outputs": [],
   "source": [
    "# Droping records from dataframe having HEALTHCARE_COVERAGE outside outliers\n",
    "df.drop(df[df['HEALTHCARE_COVERAGE'] > 22000].index, inplace = True)"
   ]
  },
  {
   "cell_type": "markdown",
   "metadata": {},
   "source": [
    "# Handling Categorical DataTypes"
   ]
  },
  {
   "cell_type": "code",
<<<<<<< HEAD
   "execution_count": 23,
=======
   "execution_count": 21,
   "id": "189bfc65",
>>>>>>> 2173f37ef736c8a39b2fb8f041f5c55cb05905c7
   "metadata": {},
   "outputs": [
    {
     "name": "stdout",
     "output_type": "stream",
     "text": [
      "Index(['Id', 'SSN', 'FIRST', 'LAST', 'RACE', 'ETHNICITY', 'GENDER',\n",
      "       'BIRTHPLACE', 'CITY', 'STATE', 'COUNTRY', 'HEALTHCARE_EXPENSES',\n",
      "       'HEALTHCARE_COVERAGE', 'non_adherence', 'Age'],\n",
      "      dtype='object')\n"
     ]
    }
   ],
   "source": [
    "print(df.columns)"
   ]
  },
  {
   "cell_type": "markdown",
   "metadata": {},
   "source": [
    "#### First droping columns that would be not play any role in training model <br> Hence droping columns -> Id , SSN , FIRST ,LAST"
   ]
  },
  {
   "cell_type": "code",
<<<<<<< HEAD
   "execution_count": 24,
=======
   "execution_count": 22,
   "id": "5833b7d7",
>>>>>>> 2173f37ef736c8a39b2fb8f041f5c55cb05905c7
   "metadata": {},
   "outputs": [],
   "source": [
    "df.drop(['Id','SSN','FIRST','LAST'], axis = 1, inplace = True)"
   ]
  },
  {
   "cell_type": "code",
<<<<<<< HEAD
   "execution_count": 25,
=======
   "execution_count": 23,
   "id": "3fc21e83",
>>>>>>> 2173f37ef736c8a39b2fb8f041f5c55cb05905c7
   "metadata": {},
   "outputs": [
    {
     "name": "stdout",
     "output_type": "stream",
     "text": [
      "RACE  :  5  , Dtype :  object\n",
      "ETHNICITY  :  2  , Dtype :  object\n",
      "GENDER  :  2  , Dtype :  object\n",
      "BIRTHPLACE  :  281  , Dtype :  object\n",
      "CITY  :  233  , Dtype :  object\n",
      "STATE  :  1  , Dtype :  object\n",
      "COUNTRY  :  14  , Dtype :  object\n",
      "HEALTHCARE_EXPENSES  :  1053  , Dtype :  float64\n",
      "HEALTHCARE_COVERAGE  :  964  , Dtype :  float64\n",
      "non_adherence  :  2  , Dtype :  int64\n",
      "Age  :  98  , Dtype :  int64\n"
     ]
    }
   ],
   "source": [
    "for col in df:\n",
    "    print(col ,' : ' ,df[col].nunique() , ' , Dtype : ', df[col].dtypes)"
   ]
  },
  {
   "cell_type": "code",
<<<<<<< HEAD
   "execution_count": 26,
=======
   "execution_count": 24,
   "id": "5a1cecd1",
>>>>>>> 2173f37ef736c8a39b2fb8f041f5c55cb05905c7
   "metadata": {},
   "outputs": [],
   "source": [
    "# Since STATE only has one value throught the column (Massachusetts), it would be useless to use it in training model.\n",
    "# Hence, droping STATE\n",
    "df.drop(['STATE'], axis = 1, inplace = True)"
   ]
  },
  {
   "cell_type": "code",
<<<<<<< HEAD
   "execution_count": 27,
=======
   "execution_count": 25,
   "id": "3d41af70",
>>>>>>> 2173f37ef736c8a39b2fb8f041f5c55cb05905c7
   "metadata": {},
   "outputs": [],
   "source": [
    "# Since GENDER only has 2 unique values -> M and F. So we can simply use One-Hot encoding using pandas get_dummies method\n",
    "gender_encoded=pd.get_dummies(data=df['GENDER'],prefix='GENDER',drop_first=True)\n",
    "df.drop('GENDER',axis = 1,inplace=True)\n",
    "df = pd.concat([gender_encoded,df],axis = 1)"
   ]
  },
  {
   "cell_type": "code",
<<<<<<< HEAD
   "execution_count": 28,
=======
   "execution_count": 26,
   "id": "cccb34c0",
>>>>>>> 2173f37ef736c8a39b2fb8f041f5c55cb05905c7
   "metadata": {},
   "outputs": [],
   "source": [
    "#Since ETHNICITY only has 2 unique values, we can simply use One-Hot encoding using pandas get_dummies method\n",
    "ETHNICITY_encoded=pd.get_dummies(data=df['ETHNICITY'],prefix='ETHNICITY',drop_first=True)\n",
    "df.drop('ETHNICITY',axis = 1,inplace=True)\n",
    "df = pd.concat([ETHNICITY_encoded,df],axis = 1)"
   ]
  },
  {
   "cell_type": "code",
<<<<<<< HEAD
   "execution_count": 29,
=======
   "execution_count": 27,
   "id": "c2b43954",
>>>>>>> 2173f37ef736c8a39b2fb8f041f5c55cb05905c7
   "metadata": {},
   "outputs": [
    {
     "data": {
      "text/html": [
       "<div>\n",
       "<style scoped>\n",
       "    .dataframe tbody tr th:only-of-type {\n",
       "        vertical-align: middle;\n",
       "    }\n",
       "\n",
       "    .dataframe tbody tr th {\n",
       "        vertical-align: top;\n",
       "    }\n",
       "\n",
       "    .dataframe thead th {\n",
       "        text-align: right;\n",
       "    }\n",
       "</style>\n",
       "<table border=\"1\" class=\"dataframe\">\n",
       "  <thead>\n",
       "    <tr style=\"text-align: right;\">\n",
       "      <th></th>\n",
       "      <th>RACE_white</th>\n",
       "      <th>ETHNICITY_nonhispanic</th>\n",
       "      <th>GENDER_M</th>\n",
       "      <th>BIRTHPLACE</th>\n",
       "      <th>CITY</th>\n",
       "      <th>COUNTRY</th>\n",
       "      <th>HEALTHCARE_EXPENSES</th>\n",
       "      <th>HEALTHCARE_COVERAGE</th>\n",
       "      <th>non_adherence</th>\n",
       "      <th>Age</th>\n",
       "    </tr>\n",
       "  </thead>\n",
       "  <tbody>\n",
       "    <tr>\n",
       "      <th>0</th>\n",
       "      <td>1</td>\n",
       "      <td>0</td>\n",
       "      <td>1</td>\n",
       "      <td>Marigot  Saint Andrew Parish  DM</td>\n",
       "      <td>Chicopee</td>\n",
       "      <td>Hampden County</td>\n",
       "      <td>271227.08</td>\n",
       "      <td>1334.88</td>\n",
       "      <td>1</td>\n",
       "      <td>32</td>\n",
       "    </tr>\n",
       "    <tr>\n",
       "      <th>1</th>\n",
       "      <td>1</td>\n",
       "      <td>1</td>\n",
       "      <td>1</td>\n",
       "      <td>Danvers  Massachusetts  US</td>\n",
       "      <td>Somerville</td>\n",
       "      <td>Middlesex County</td>\n",
       "      <td>793946.01</td>\n",
       "      <td>3204.49</td>\n",
       "      <td>0</td>\n",
       "      <td>38</td>\n",
       "    </tr>\n",
       "    <tr>\n",
       "      <th>2</th>\n",
       "      <td>1</td>\n",
       "      <td>1</td>\n",
       "      <td>1</td>\n",
       "      <td>Springfield  Massachusetts  US</td>\n",
       "      <td>Chicopee</td>\n",
       "      <td>Hampden County</td>\n",
       "      <td>574111.90</td>\n",
       "      <td>2606.40</td>\n",
       "      <td>0</td>\n",
       "      <td>29</td>\n",
       "    </tr>\n",
       "    <tr>\n",
       "      <th>3</th>\n",
       "      <td>1</td>\n",
       "      <td>1</td>\n",
       "      <td>0</td>\n",
       "      <td>Yarmouth  Massachusetts  US</td>\n",
       "      <td>Lowell</td>\n",
       "      <td>Middlesex County</td>\n",
       "      <td>935630.30</td>\n",
       "      <td>8756.19</td>\n",
       "      <td>0</td>\n",
       "      <td>43</td>\n",
       "    </tr>\n",
       "    <tr>\n",
       "      <th>4</th>\n",
       "      <td>1</td>\n",
       "      <td>1</td>\n",
       "      <td>1</td>\n",
       "      <td>Patras  Achaea  GR</td>\n",
       "      <td>Boston</td>\n",
       "      <td>Suffolk County</td>\n",
       "      <td>598763.07</td>\n",
       "      <td>3772.20</td>\n",
       "      <td>0</td>\n",
       "      <td>25</td>\n",
       "    </tr>\n",
       "  </tbody>\n",
       "</table>\n",
       "</div>"
      ],
      "text/plain": [
       "   RACE_white  ETHNICITY_nonhispanic  GENDER_M  \\\n",
       "0           1                      0         1   \n",
       "1           1                      1         1   \n",
       "2           1                      1         1   \n",
       "3           1                      1         0   \n",
       "4           1                      1         1   \n",
       "\n",
       "                         BIRTHPLACE        CITY           COUNTRY  \\\n",
       "0  Marigot  Saint Andrew Parish  DM    Chicopee    Hampden County   \n",
       "1        Danvers  Massachusetts  US  Somerville  Middlesex County   \n",
       "2    Springfield  Massachusetts  US    Chicopee    Hampden County   \n",
       "3       Yarmouth  Massachusetts  US      Lowell  Middlesex County   \n",
       "4                Patras  Achaea  GR      Boston    Suffolk County   \n",
       "\n",
       "   HEALTHCARE_EXPENSES  HEALTHCARE_COVERAGE  non_adherence  Age  \n",
       "0            271227.08              1334.88              1   32  \n",
       "1            793946.01              3204.49              0   38  \n",
       "2            574111.90              2606.40              0   29  \n",
       "3            935630.30              8756.19              0   43  \n",
       "4            598763.07              3772.20              0   25  "
      ]
     },
     "execution_count": 27,
     "metadata": {},
     "output_type": "execute_result"
    }
   ],
   "source": [
    "#As number of White has much values as compared to that of others, we would be performing one hot encoding,\n",
    "#and then droping all categories except White. \n",
    "\n",
    "#Doing this we will successfull encode our model into 2 categories -> White and rest.\n",
    "\n",
    "RACE_encoded=pd.get_dummies(data=df['RACE'],prefix='RACE',drop_first=True)\n",
    "df.drop('RACE',axis = 1,inplace=True)\n",
    "df = pd.concat([RACE_encoded,df],axis = 1)\n",
    "df.drop(['RACE_black','RACE_native','RACE_other'],axis = 1, inplace = True)\n",
    "df.head()"
   ]
  },
  {
   "cell_type": "markdown",
   "metadata": {},
   "source": [
    "#### Frequency Encoding on CITY,  COUNTRY, BIRTHPLACE"
   ]
  },
  {
   "cell_type": "code",
<<<<<<< HEAD
   "execution_count": 30,
=======
   "execution_count": 28,
   "id": "188cdf9a",
>>>>>>> 2173f37ef736c8a39b2fb8f041f5c55cb05905c7
   "metadata": {},
   "outputs": [],
   "source": [
    "fe = df.groupby('CITY').size()/len(df)\n",
    "df['CITY_Encoded'] = df['CITY'].map(fe)"
   ]
  },
  {
   "cell_type": "code",
<<<<<<< HEAD
   "execution_count": 31,
=======
   "execution_count": 29,
   "id": "6bffbc30",
>>>>>>> 2173f37ef736c8a39b2fb8f041f5c55cb05905c7
   "metadata": {},
   "outputs": [],
   "source": [
    "fe = df.groupby('COUNTRY').size()/len(df)\n",
    "df['COUNTRY_Encoded'] = df['COUNTRY'].map(fe)"
   ]
  },
  {
   "cell_type": "code",
<<<<<<< HEAD
   "execution_count": 32,
=======
   "execution_count": 30,
   "id": "6620314d",
   "metadata": {},
   "outputs": [],
   "source": [
    "fe = df.groupby('BIRTHPLACE').size()/len(df)\n",
    "df['BIRTHPLACE_Encoded'] = df['BIRTHPLACE'].map(fe)"
   ]
  },
  {
   "cell_type": "code",
   "execution_count": 31,
   "id": "592ba152",
>>>>>>> 2173f37ef736c8a39b2fb8f041f5c55cb05905c7
   "metadata": {},
   "outputs": [
    {
     "data": {
      "text/html": [
       "<div>\n",
       "<style scoped>\n",
       "    .dataframe tbody tr th:only-of-type {\n",
       "        vertical-align: middle;\n",
       "    }\n",
       "\n",
       "    .dataframe tbody tr th {\n",
       "        vertical-align: top;\n",
       "    }\n",
       "\n",
       "    .dataframe thead th {\n",
       "        text-align: right;\n",
       "    }\n",
       "</style>\n",
       "<table border=\"1\" class=\"dataframe\">\n",
       "  <thead>\n",
       "    <tr style=\"text-align: right;\">\n",
       "      <th></th>\n",
       "      <th>RACE_white</th>\n",
       "      <th>ETHNICITY_nonhispanic</th>\n",
       "      <th>GENDER_M</th>\n",
       "      <th>HEALTHCARE_EXPENSES</th>\n",
       "      <th>HEALTHCARE_COVERAGE</th>\n",
       "      <th>non_adherence</th>\n",
       "      <th>Age</th>\n",
       "      <th>CITY_Encoded</th>\n",
       "      <th>COUNTRY_Encoded</th>\n",
       "      <th>BIRTHPLACE_Encoded</th>\n",
       "    </tr>\n",
       "  </thead>\n",
       "  <tbody>\n",
       "    <tr>\n",
       "      <th>0</th>\n",
       "      <td>1</td>\n",
       "      <td>0</td>\n",
       "      <td>1</td>\n",
       "      <td>271227.08</td>\n",
       "      <td>1334.88</td>\n",
       "      <td>1</td>\n",
       "      <td>32</td>\n",
       "      <td>0.011396</td>\n",
       "      <td>0.066477</td>\n",
       "      <td>0.001899</td>\n",
       "    </tr>\n",
       "    <tr>\n",
       "      <th>1</th>\n",
       "      <td>1</td>\n",
       "      <td>1</td>\n",
       "      <td>1</td>\n",
       "      <td>793946.01</td>\n",
       "      <td>3204.49</td>\n",
       "      <td>0</td>\n",
       "      <td>38</td>\n",
       "      <td>0.012346</td>\n",
       "      <td>0.218424</td>\n",
       "      <td>0.007597</td>\n",
       "    </tr>\n",
       "    <tr>\n",
       "      <th>2</th>\n",
       "      <td>1</td>\n",
       "      <td>1</td>\n",
       "      <td>1</td>\n",
       "      <td>574111.90</td>\n",
       "      <td>2606.40</td>\n",
       "      <td>0</td>\n",
       "      <td>29</td>\n",
       "      <td>0.011396</td>\n",
       "      <td>0.066477</td>\n",
       "      <td>0.020893</td>\n",
       "    </tr>\n",
       "    <tr>\n",
       "      <th>3</th>\n",
       "      <td>1</td>\n",
       "      <td>1</td>\n",
       "      <td>0</td>\n",
       "      <td>935630.30</td>\n",
       "      <td>8756.19</td>\n",
       "      <td>0</td>\n",
       "      <td>43</td>\n",
       "      <td>0.016144</td>\n",
       "      <td>0.218424</td>\n",
       "      <td>0.001899</td>\n",
       "    </tr>\n",
       "    <tr>\n",
       "      <th>4</th>\n",
       "      <td>1</td>\n",
       "      <td>1</td>\n",
       "      <td>1</td>\n",
       "      <td>598763.07</td>\n",
       "      <td>3772.20</td>\n",
       "      <td>0</td>\n",
       "      <td>25</td>\n",
       "      <td>0.096866</td>\n",
       "      <td>0.112061</td>\n",
       "      <td>0.001899</td>\n",
       "    </tr>\n",
       "  </tbody>\n",
       "</table>\n",
       "</div>"
      ],
      "text/plain": [
       "   RACE_white  ETHNICITY_nonhispanic  GENDER_M  HEALTHCARE_EXPENSES  \\\n",
       "0           1                      0         1            271227.08   \n",
       "1           1                      1         1            793946.01   \n",
       "2           1                      1         1            574111.90   \n",
       "3           1                      1         0            935630.30   \n",
       "4           1                      1         1            598763.07   \n",
       "\n",
       "   HEALTHCARE_COVERAGE  non_adherence  Age  CITY_Encoded  COUNTRY_Encoded  \\\n",
       "0              1334.88              1   32      0.011396         0.066477   \n",
       "1              3204.49              0   38      0.012346         0.218424   \n",
       "2              2606.40              0   29      0.011396         0.066477   \n",
       "3              8756.19              0   43      0.016144         0.218424   \n",
       "4              3772.20              0   25      0.096866         0.112061   \n",
       "\n",
       "   BIRTHPLACE_Encoded  \n",
       "0            0.001899  \n",
       "1            0.007597  \n",
       "2            0.020893  \n",
       "3            0.001899  \n",
       "4            0.001899  "
      ]
     },
     "execution_count": 31,
     "metadata": {},
     "output_type": "execute_result"
    }
   ],
   "source": [
    "df.drop(['CITY','COUNTRY','BIRTHPLACE'],axis = 1,inplace=True)\n",
    "df.head()"
   ]
  },
  {
   "cell_type": "markdown",
   "metadata": {},
   "source": [
    "# Feature Selection"
   ]
  },
  {
   "cell_type": "code",
<<<<<<< HEAD
   "execution_count": 33,
=======
   "execution_count": 32,
   "id": "962a1903",
>>>>>>> 2173f37ef736c8a39b2fb8f041f5c55cb05905c7
   "metadata": {},
   "outputs": [
    {
     "name": "stdout",
     "output_type": "stream",
     "text": [
      "(947, 10)\n",
      "(53, 10)\n",
      "(53, 10)\n"
     ]
    }
   ],
   "source": [
    "train, validate, test = np.split(df.sample(frac=1, random_state=42),[int(.9*len(df)), int(.95*len(df))])\n",
    "print(train.shape)\n",
    "print(test.shape)\n",
    "print(validate.shape)"
   ]
  },
  {
   "cell_type": "code",
<<<<<<< HEAD
   "execution_count": 34,
=======
   "execution_count": 33,
   "id": "d8a29b15",
>>>>>>> 2173f37ef736c8a39b2fb8f041f5c55cb05905c7
   "metadata": {},
   "outputs": [
    {
     "data": {
      "text/html": [
       "<div>\n",
       "<style scoped>\n",
       "    .dataframe tbody tr th:only-of-type {\n",
       "        vertical-align: middle;\n",
       "    }\n",
       "\n",
       "    .dataframe tbody tr th {\n",
       "        vertical-align: top;\n",
       "    }\n",
       "\n",
       "    .dataframe thead th {\n",
       "        text-align: right;\n",
       "    }\n",
       "</style>\n",
       "<table border=\"1\" class=\"dataframe\">\n",
       "  <thead>\n",
       "    <tr style=\"text-align: right;\">\n",
       "      <th></th>\n",
       "      <th>RACE_white</th>\n",
       "      <th>ETHNICITY_nonhispanic</th>\n",
       "      <th>GENDER_M</th>\n",
       "      <th>HEALTHCARE_EXPENSES</th>\n",
       "      <th>HEALTHCARE_COVERAGE</th>\n",
       "      <th>Age</th>\n",
       "      <th>CITY_Encoded</th>\n",
       "      <th>COUNTRY_Encoded</th>\n",
       "      <th>BIRTHPLACE_Encoded</th>\n",
       "    </tr>\n",
       "  </thead>\n",
       "  <tbody>\n",
       "    <tr>\n",
       "      <th>431</th>\n",
       "      <td>1</td>\n",
       "      <td>1</td>\n",
       "      <td>0</td>\n",
       "      <td>247832.53</td>\n",
       "      <td>2868.16</td>\n",
       "      <td>12</td>\n",
       "      <td>0.018044</td>\n",
       "      <td>0.093067</td>\n",
       "      <td>0.000950</td>\n",
       "    </tr>\n",
       "    <tr>\n",
       "      <th>104</th>\n",
       "      <td>1</td>\n",
       "      <td>0</td>\n",
       "      <td>1</td>\n",
       "      <td>808765.24</td>\n",
       "      <td>8690.64</td>\n",
       "      <td>40</td>\n",
       "      <td>0.096866</td>\n",
       "      <td>0.112061</td>\n",
       "      <td>0.002849</td>\n",
       "    </tr>\n",
       "    <tr>\n",
       "      <th>1072</th>\n",
       "      <td>1</td>\n",
       "      <td>1</td>\n",
       "      <td>1</td>\n",
       "      <td>1238871.62</td>\n",
       "      <td>4107.92</td>\n",
       "      <td>58</td>\n",
       "      <td>0.016144</td>\n",
       "      <td>0.093067</td>\n",
       "      <td>0.078822</td>\n",
       "    </tr>\n",
       "    <tr>\n",
       "      <th>1169</th>\n",
       "      <td>1</td>\n",
       "      <td>1</td>\n",
       "      <td>0</td>\n",
       "      <td>1375833.47</td>\n",
       "      <td>13157.00</td>\n",
       "      <td>107</td>\n",
       "      <td>0.006648</td>\n",
       "      <td>0.107312</td>\n",
       "      <td>0.020893</td>\n",
       "    </tr>\n",
       "    <tr>\n",
       "      <th>64</th>\n",
       "      <td>1</td>\n",
       "      <td>1</td>\n",
       "      <td>0</td>\n",
       "      <td>626389.54</td>\n",
       "      <td>6614.40</td>\n",
       "      <td>29</td>\n",
       "      <td>0.003799</td>\n",
       "      <td>0.218424</td>\n",
       "      <td>0.005698</td>\n",
       "    </tr>\n",
       "  </tbody>\n",
       "</table>\n",
       "</div>"
      ],
      "text/plain": [
       "      RACE_white  ETHNICITY_nonhispanic  GENDER_M  HEALTHCARE_EXPENSES  \\\n",
       "431            1                      1         0            247832.53   \n",
       "104            1                      0         1            808765.24   \n",
       "1072           1                      1         1           1238871.62   \n",
       "1169           1                      1         0           1375833.47   \n",
       "64             1                      1         0            626389.54   \n",
       "\n",
       "      HEALTHCARE_COVERAGE  Age  CITY_Encoded  COUNTRY_Encoded  \\\n",
       "431               2868.16   12      0.018044         0.093067   \n",
       "104               8690.64   40      0.096866         0.112061   \n",
       "1072              4107.92   58      0.016144         0.093067   \n",
       "1169             13157.00  107      0.006648         0.107312   \n",
       "64                6614.40   29      0.003799         0.218424   \n",
       "\n",
       "      BIRTHPLACE_Encoded  \n",
       "431             0.000950  \n",
       "104             0.002849  \n",
       "1072            0.078822  \n",
       "1169            0.020893  \n",
       "64              0.005698  "
      ]
     },
     "execution_count": 33,
     "metadata": {},
     "output_type": "execute_result"
    }
   ],
   "source": [
    "X_train = train.drop('non_adherence',axis = 1)\n",
    "y_train = train['non_adherence']\n",
    "X_train.head()\n",
    "X_test = test.drop('non_adherence',axis = 1)\n",
    "y_test = test['non_adherence']\n",
    "\n",
    "X_validate = validate.drop('non_adherence',axis = 1)\n",
    "y_validate = validate['non_adherence']\n",
    "\n",
    "X_train.head()"
   ]
  },
  {
   "cell_type": "code",
<<<<<<< HEAD
   "execution_count": 35,
   "metadata": {},
   "outputs": [],
   "source": [
    "# X_train.drop(['RACE_native','RACE_other'],inplace = True, axis = 1)\n",
    "# X_test.drop(['RACE_native','RACE_other'],inplace = True, axis = 1)"
   ]
  },
  {
   "cell_type": "code",
   "execution_count": 36,
=======
   "execution_count": 34,
   "id": "e5533526",
>>>>>>> 2173f37ef736c8a39b2fb8f041f5c55cb05905c7
   "metadata": {},
   "outputs": [],
   "source": [
    "from sklearn.ensemble import RandomForestClassifier\n",
    "\n",
    "model = RandomForestClassifier(n_estimators = 20 ,random_state = 10)\n",
    "model.fit(X_train, y_train)\n",
    "importances = pd.DataFrame(data={\n",
    "    'Attribute': X_train.columns,\n",
    "    'Importance': model.feature_importances_\n",
    "})\n",
    "importances = importances.sort_values(by='Importance', ascending=False)"
   ]
  },
  {
   "cell_type": "code",
<<<<<<< HEAD
   "execution_count": 37,
=======
   "execution_count": 35,
   "id": "f6c86204",
>>>>>>> 2173f37ef736c8a39b2fb8f041f5c55cb05905c7
   "metadata": {},
   "outputs": [
    {
     "data": {
      "image/png": "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\n",
      "text/plain": [
       "<Figure size 432x360 with 1 Axes>"
      ]
     },
     "metadata": {},
     "output_type": "display_data"
    }
   ],
   "source": [
    "sns.set(rc={'figure.figsize':(6,5)})\n",
    "plt.bar(x=importances['Attribute'], height=importances['Importance'], color='#7FFFD4')\n",
    "plt.title('Feature importances obtained from coefficients', size=20)\n",
    "plt.xticks(rotation='vertical')\n",
    "plt.show()"
   ]
  },
  {
   "cell_type": "markdown",
   "metadata": {},
   "source": [
    "### From the above observation, we can see that there is no such column that does'nt play role in training."
   ]
  },
  {
   "cell_type": "markdown",
   "metadata": {},
   "source": [
    "# Selecting correct Model"
   ]
  },
  {
   "cell_type": "markdown",
   "metadata": {},
   "source": [
    "#### Logistic Regression"
   ]
  },
  {
   "cell_type": "code",
<<<<<<< HEAD
   "execution_count": 38,
=======
   "execution_count": 36,
   "id": "8d09718d",
>>>>>>> 2173f37ef736c8a39b2fb8f041f5c55cb05905c7
   "metadata": {},
   "outputs": [
    {
     "name": "stdout",
     "output_type": "stream",
     "text": [
      "0.8113207547169812\n"
     ]
    }
   ],
   "source": [
    "from sklearn.linear_model import LogisticRegression\n",
    "from sklearn.metrics import accuracy_score\n",
    "model_logistic = LogisticRegression()\n",
    "model_logistic.fit(X_train, y_train)\n",
    "y_predict = model_logistic.predict(X_validate)\n",
    "print(accuracy_score(y_validate, y_predict))"
   ]
  },
  {
   "cell_type": "markdown",
   "metadata": {},
   "source": [
    "#### Naive Bayes"
   ]
  },
  {
   "cell_type": "code",
<<<<<<< HEAD
   "execution_count": 39,
=======
   "execution_count": 37,
   "id": "b07c546b",
>>>>>>> 2173f37ef736c8a39b2fb8f041f5c55cb05905c7
   "metadata": {},
   "outputs": [
    {
     "name": "stdout",
     "output_type": "stream",
     "text": [
      "0.7924528301886793\n"
     ]
    }
   ],
   "source": [
    "from sklearn.naive_bayes import GaussianNB\n",
    "Naive_Bayes = GaussianNB()\n",
    "Naive_Bayes.fit(X_train, y_train)\n",
    "y_predict = Naive_Bayes.predict(X_validate)  \n",
    "print(accuracy_score(y_validate, y_predict))"
   ]
  },
  {
   "cell_type": "markdown",
   "metadata": {},
   "source": [
    "#### K-Nearest Neighbor Algorithm"
   ]
  },
  {
   "cell_type": "code",
<<<<<<< HEAD
   "execution_count": 40,
=======
   "execution_count": 38,
   "id": "ef1ffc3a",
>>>>>>> 2173f37ef736c8a39b2fb8f041f5c55cb05905c7
   "metadata": {},
   "outputs": [
    {
     "name": "stdout",
     "output_type": "stream",
     "text": [
      "0.7547169811320755\n"
     ]
    }
   ],
   "source": [
    "from sklearn.neighbors import KNeighborsClassifier\n",
    "knn = KNeighborsClassifier(n_neighbors=3)\n",
    "knn.fit(X_train, y_train)\n",
    "y_predict = knn.predict(X_validate)  \n",
    "print(accuracy_score(y_validate, y_predict))"
   ]
  },
  {
   "cell_type": "markdown",
   "metadata": {},
   "source": [
    "#### SVM"
   ]
  },
  {
   "cell_type": "code",
<<<<<<< HEAD
   "execution_count": 41,
=======
   "execution_count": 39,
   "id": "6f7fac36",
>>>>>>> 2173f37ef736c8a39b2fb8f041f5c55cb05905c7
   "metadata": {},
   "outputs": [
    {
     "name": "stdout",
     "output_type": "stream",
     "text": [
      "0.7547169811320755\n"
     ]
    }
   ],
   "source": [
    "from sklearn import svm\n",
    "svm_clf = svm.SVC()\n",
    "svm_clf.fit(X_train, y_train)\n",
    "y_predict = knn.predict(X_validate)  \n",
    "print(accuracy_score(y_validate, y_predict))"
   ]
  },
  {
   "cell_type": "markdown",
   "metadata": {},
   "source": [
    "#### Decision Tree"
   ]
  },
  {
   "cell_type": "code",
<<<<<<< HEAD
   "execution_count": 42,
=======
   "execution_count": 40,
   "id": "2ec0a050",
>>>>>>> 2173f37ef736c8a39b2fb8f041f5c55cb05905c7
   "metadata": {},
   "outputs": [
    {
     "name": "stdout",
     "output_type": "stream",
     "text": [
      "0.8490566037735849\n"
     ]
    }
   ],
   "source": [
    "from sklearn import tree\n",
    "dtc = tree.DecisionTreeClassifier(max_depth=2)\n",
    "dtc.fit(X_train, y_train)\n",
    "y_predict = dtc.predict(X_validate)  \n",
    "print(accuracy_score(y_validate, y_predict))"
   ]
  },
  {
   "cell_type": "markdown",
   "metadata": {},
   "source": [
    "#### Random Forest"
   ]
  },
  {
   "cell_type": "code",
<<<<<<< HEAD
   "execution_count": 43,
=======
   "execution_count": 41,
   "id": "53ea5a39",
>>>>>>> 2173f37ef736c8a39b2fb8f041f5c55cb05905c7
   "metadata": {},
   "outputs": [
    {
     "name": "stdout",
     "output_type": "stream",
     "text": [
      "0.8490566037735849\n"
     ]
    }
   ],
   "source": [
    "from sklearn.ensemble import RandomForestClassifier\n",
    "from sklearn.datasets import make_classification\n",
    "rf = RandomForestClassifier(max_depth=2)\n",
    "rf.fit(X_train, y_train)\n",
    "y_predict = rf.predict(X_validate)  \n",
    "print(accuracy_score(y_validate, y_predict))"
   ]
  },
  {
   "cell_type": "markdown",
   "metadata": {},
   "source": [
    "### From above accuracy score, we can conclude that both decision tree and random forest classifier performs the best\n"
   ]
  },
  {
   "cell_type": "markdown",
   "metadata": {},
   "source": [
    "# Preparing and Prediction of final_testing_dataset"
   ]
  },
  {
   "cell_type": "code",
<<<<<<< HEAD
   "execution_count": 44,
=======
   "execution_count": 42,
   "id": "40978879",
>>>>>>> 2173f37ef736c8a39b2fb8f041f5c55cb05905c7
   "metadata": {},
   "outputs": [
    {
     "data": {
      "text/html": [
       "<div>\n",
       "<style scoped>\n",
       "    .dataframe tbody tr th:only-of-type {\n",
       "        vertical-align: middle;\n",
       "    }\n",
       "\n",
       "    .dataframe tbody tr th {\n",
       "        vertical-align: top;\n",
       "    }\n",
       "\n",
       "    .dataframe thead th {\n",
       "        text-align: right;\n",
       "    }\n",
       "</style>\n",
       "<table border=\"1\" class=\"dataframe\">\n",
       "  <thead>\n",
       "    <tr style=\"text-align: right;\">\n",
       "      <th></th>\n",
       "      <th>Id</th>\n",
       "      <th>SSN</th>\n",
       "      <th>FIRST</th>\n",
       "      <th>LAST</th>\n",
       "      <th>RACE</th>\n",
       "      <th>ETHNICITY</th>\n",
       "      <th>GENDER</th>\n",
       "      <th>BIRTHPLACE</th>\n",
       "      <th>CITY</th>\n",
       "      <th>STATE</th>\n",
       "      <th>COUNTRY</th>\n",
       "      <th>HEALTHCARE_EXPENSES</th>\n",
       "      <th>HEALTHCARE_COVERAGE</th>\n",
       "      <th>non_adherence</th>\n",
       "      <th>Age</th>\n",
       "    </tr>\n",
       "  </thead>\n",
       "  <tbody>\n",
       "    <tr>\n",
       "      <th>7</th>\n",
       "      <td>01207ecd-9dff-4754-8887-4652eda231e2</td>\n",
       "      <td>999-81-4349</td>\n",
       "      <td>Karyn217</td>\n",
       "      <td>Mueller846</td>\n",
       "      <td>white</td>\n",
       "      <td>nonhispanic</td>\n",
       "      <td>F</td>\n",
       "      <td>New Bedford  Massachusetts  US</td>\n",
       "      <td>Colrain</td>\n",
       "      <td>Massachusetts</td>\n",
       "      <td>Franklin County</td>\n",
       "      <td>26400.0</td>\n",
       "      <td>774.96</td>\n",
       "      <td>NaN</td>\n",
       "      <td>2</td>\n",
       "    </tr>\n",
       "    <tr>\n",
       "      <th>36</th>\n",
       "      <td>f592e861-6e2e-46bc-a19d-5485fcbf0d80</td>\n",
       "      <td>999-65-5107</td>\n",
       "      <td>Dorothea248</td>\n",
       "      <td>Ward668</td>\n",
       "      <td>white</td>\n",
       "      <td>nonhispanic</td>\n",
       "      <td>F</td>\n",
       "      <td>New Bedford  Massachusetts  US</td>\n",
       "      <td>Lowell</td>\n",
       "      <td>Massachusetts</td>\n",
       "      <td>Middlesex County</td>\n",
       "      <td>39600.0</td>\n",
       "      <td>1033.28</td>\n",
       "      <td>NaN</td>\n",
       "      <td>3</td>\n",
       "    </tr>\n",
       "    <tr>\n",
       "      <th>57</th>\n",
       "      <td>b44d4f15-d604-4e24-8114-dc0dc12651d2</td>\n",
       "      <td>999-72-2409</td>\n",
       "      <td>Leslee214</td>\n",
       "      <td>Schumm995</td>\n",
       "      <td>white</td>\n",
       "      <td>nonhispanic</td>\n",
       "      <td>F</td>\n",
       "      <td>Springfield  Massachusetts  US</td>\n",
       "      <td>Boston</td>\n",
       "      <td>Massachusetts</td>\n",
       "      <td>Suffolk County</td>\n",
       "      <td>6300.0</td>\n",
       "      <td>258.32</td>\n",
       "      <td>NaN</td>\n",
       "      <td>1</td>\n",
       "    </tr>\n",
       "  </tbody>\n",
       "</table>\n",
       "</div>"
      ],
      "text/plain": [
       "                                      Id          SSN        FIRST  \\\n",
       "7   01207ecd-9dff-4754-8887-4652eda231e2  999-81-4349     Karyn217   \n",
       "36  f592e861-6e2e-46bc-a19d-5485fcbf0d80  999-65-5107  Dorothea248   \n",
       "57  b44d4f15-d604-4e24-8114-dc0dc12651d2  999-72-2409    Leslee214   \n",
       "\n",
       "          LAST   RACE    ETHNICITY GENDER                      BIRTHPLACE  \\\n",
       "7   Mueller846  white  nonhispanic      F  New Bedford  Massachusetts  US   \n",
       "36     Ward668  white  nonhispanic      F  New Bedford  Massachusetts  US   \n",
       "57   Schumm995  white  nonhispanic      F  Springfield  Massachusetts  US   \n",
       "\n",
       "       CITY          STATE           COUNTRY  HEALTHCARE_EXPENSES  \\\n",
       "7   Colrain  Massachusetts   Franklin County              26400.0   \n",
       "36   Lowell  Massachusetts  Middlesex County              39600.0   \n",
       "57   Boston  Massachusetts    Suffolk County               6300.0   \n",
       "\n",
       "    HEALTHCARE_COVERAGE  non_adherence  Age  \n",
       "7                774.96            NaN    2  \n",
       "36              1033.28            NaN    3  \n",
       "57               258.32            NaN    1  "
      ]
     },
     "execution_count": 42,
     "metadata": {},
     "output_type": "execute_result"
    }
   ],
   "source": [
    "# Dataset had all the values of non_adherence as Nan\n",
    "final_testing_dataset.head(3)"
   ]
  },
  {
   "cell_type": "code",
<<<<<<< HEAD
   "execution_count": 45,
=======
   "execution_count": 43,
   "id": "7b3aee2c",
>>>>>>> 2173f37ef736c8a39b2fb8f041f5c55cb05905c7
   "metadata": {},
   "outputs": [],
   "source": [
    "final_testing_dataset.drop(['Id','SSN','FIRST','LAST','STATE','non_adherence'], axis = 1, inplace = True)"
   ]
  },
  {
   "cell_type": "markdown",
   "metadata": {},
   "source": [
    "#### Handling Categorical DataTypes"
   ]
  },
  {
   "cell_type": "code",
<<<<<<< HEAD
   "execution_count": 46,
=======
   "execution_count": 44,
   "id": "86cf57a7",
>>>>>>> 2173f37ef736c8a39b2fb8f041f5c55cb05905c7
   "metadata": {},
   "outputs": [
    {
     "data": {
      "text/html": [
       "<div>\n",
       "<style scoped>\n",
       "    .dataframe tbody tr th:only-of-type {\n",
       "        vertical-align: middle;\n",
       "    }\n",
       "\n",
       "    .dataframe tbody tr th {\n",
       "        vertical-align: top;\n",
       "    }\n",
       "\n",
       "    .dataframe thead th {\n",
       "        text-align: right;\n",
       "    }\n",
       "</style>\n",
       "<table border=\"1\" class=\"dataframe\">\n",
       "  <thead>\n",
       "    <tr style=\"text-align: right;\">\n",
       "      <th></th>\n",
       "      <th>RACE_white</th>\n",
       "      <th>ETHNICITY_nonhispanic</th>\n",
       "      <th>GENDER_M</th>\n",
       "      <th>HEALTHCARE_EXPENSES</th>\n",
       "      <th>HEALTHCARE_COVERAGE</th>\n",
       "      <th>Age</th>\n",
       "      <th>CITY_Encoded</th>\n",
       "      <th>COUNTRY_Encoded</th>\n",
       "      <th>BIRTHPLACE_Encoded</th>\n",
       "    </tr>\n",
       "  </thead>\n",
       "  <tbody>\n",
       "    <tr>\n",
       "      <th>7</th>\n",
       "      <td>1</td>\n",
       "      <td>1</td>\n",
       "      <td>0</td>\n",
       "      <td>26400.0</td>\n",
       "      <td>774.96</td>\n",
       "      <td>2</td>\n",
       "      <td>0.052632</td>\n",
       "      <td>0.052632</td>\n",
       "      <td>0.105263</td>\n",
       "    </tr>\n",
       "    <tr>\n",
       "      <th>36</th>\n",
       "      <td>1</td>\n",
       "      <td>1</td>\n",
       "      <td>0</td>\n",
       "      <td>39600.0</td>\n",
       "      <td>1033.28</td>\n",
       "      <td>3</td>\n",
       "      <td>0.052632</td>\n",
       "      <td>0.263158</td>\n",
       "      <td>0.105263</td>\n",
       "    </tr>\n",
       "    <tr>\n",
       "      <th>57</th>\n",
       "      <td>1</td>\n",
       "      <td>1</td>\n",
       "      <td>0</td>\n",
       "      <td>6300.0</td>\n",
       "      <td>258.32</td>\n",
       "      <td>1</td>\n",
       "      <td>0.157895</td>\n",
       "      <td>0.157895</td>\n",
       "      <td>0.052632</td>\n",
       "    </tr>\n",
       "    <tr>\n",
       "      <th>98</th>\n",
       "      <td>1</td>\n",
       "      <td>0</td>\n",
       "      <td>0</td>\n",
       "      <td>5400.0</td>\n",
       "      <td>258.32</td>\n",
       "      <td>1</td>\n",
       "      <td>0.157895</td>\n",
       "      <td>0.157895</td>\n",
       "      <td>0.052632</td>\n",
       "    </tr>\n",
       "    <tr>\n",
       "      <th>146</th>\n",
       "      <td>1</td>\n",
       "      <td>1</td>\n",
       "      <td>0</td>\n",
       "      <td>56700.0</td>\n",
       "      <td>1162.44</td>\n",
       "      <td>3</td>\n",
       "      <td>0.052632</td>\n",
       "      <td>0.263158</td>\n",
       "      <td>0.052632</td>\n",
       "    </tr>\n",
       "  </tbody>\n",
       "</table>\n",
       "</div>"
      ],
      "text/plain": [
       "     RACE_white  ETHNICITY_nonhispanic  GENDER_M  HEALTHCARE_EXPENSES  \\\n",
       "7             1                      1         0              26400.0   \n",
       "36            1                      1         0              39600.0   \n",
       "57            1                      1         0               6300.0   \n",
       "98            1                      0         0               5400.0   \n",
       "146           1                      1         0              56700.0   \n",
       "\n",
       "     HEALTHCARE_COVERAGE  Age  CITY_Encoded  COUNTRY_Encoded  \\\n",
       "7                 774.96    2      0.052632         0.052632   \n",
       "36               1033.28    3      0.052632         0.263158   \n",
       "57                258.32    1      0.157895         0.157895   \n",
       "98                258.32    1      0.157895         0.157895   \n",
       "146              1162.44    3      0.052632         0.263158   \n",
       "\n",
       "     BIRTHPLACE_Encoded  \n",
       "7              0.105263  \n",
       "36             0.105263  \n",
       "57             0.052632  \n",
       "98             0.052632  \n",
       "146            0.052632  "
      ]
     },
     "execution_count": 44,
     "metadata": {},
     "output_type": "execute_result"
    }
   ],
   "source": [
    "#### One Hot encoding on GENDER, ETHNICITY, RACE\n",
    "gender_encoded=pd.get_dummies(data=final_testing_dataset['GENDER'],prefix='GENDER',drop_first=True)\n",
    "final_testing_dataset.drop('GENDER',axis = 1,inplace=True)\n",
    "final_testing_dataset = pd.concat([gender_encoded,final_testing_dataset],axis = 1)\n",
    "\n",
    "ETHNICITY_encoded=pd.get_dummies(data=final_testing_dataset['ETHNICITY'],prefix='ETHNICITY',drop_first=True)\n",
    "final_testing_dataset.drop('ETHNICITY',axis = 1,inplace=True)\n",
    "final_testing_dataset = pd.concat([ETHNICITY_encoded,final_testing_dataset],axis = 1)\n",
    "\n",
    "RACE_encoded=pd.get_dummies(data=final_testing_dataset['RACE'],prefix='RACE',drop_first=True)\n",
    "final_testing_dataset.drop('RACE',axis = 1,inplace=True)\n",
    "final_testing_dataset = pd.concat([RACE_encoded,final_testing_dataset],axis = 1)\n",
    "final_testing_dataset.head()\n",
    "\n",
    "#### Frequency Encoding on CITY, COUNTRY, BIRTHPLACE\n",
    "\n",
    "fe = final_testing_dataset.groupby('CITY').size()/len(final_testing_dataset)\n",
    "final_testing_dataset['CITY_Encoded'] = final_testing_dataset['CITY'].map(fe)\n",
    "\n",
    "fe = final_testing_dataset.groupby('COUNTRY').size()/len(final_testing_dataset)\n",
    "final_testing_dataset['COUNTRY_Encoded'] = final_testing_dataset['COUNTRY'].map(fe)\n",
    "\n",
    "fe = final_testing_dataset.groupby('BIRTHPLACE').size()/len(final_testing_dataset)\n",
    "final_testing_dataset['BIRTHPLACE_Encoded'] = final_testing_dataset['BIRTHPLACE'].map(fe)\n",
    "\n",
    "final_testing_dataset.drop(['CITY','COUNTRY','BIRTHPLACE'],axis = 1,inplace=True)\n",
    "final_testing_dataset.head()"
   ]
  },
  {
   "cell_type": "markdown",
   "metadata": {},
   "source": [
    "#### Performance of X_test data set"
   ]
  },
  {
   "cell_type": "code",
<<<<<<< HEAD
   "execution_count": 47,
=======
   "execution_count": 45,
   "id": "e71acf7f",
>>>>>>> 2173f37ef736c8a39b2fb8f041f5c55cb05905c7
   "metadata": {},
   "outputs": [
    {
     "name": "stdout",
     "output_type": "stream",
     "text": [
      "0.7169811320754716\n"
     ]
    }
   ],
   "source": [
    "y_predict = dtc.predict(X_test)  \n",
    "print(accuracy_score(y_test, y_predict))"
   ]
  },
  {
   "cell_type": "markdown",
   "metadata": {},
   "source": [
    "#### Predicting values on final_testing_dataset"
   ]
  },
  {
   "cell_type": "code",
<<<<<<< HEAD
   "execution_count": 48,
=======
   "execution_count": 46,
   "id": "8b38df24",
>>>>>>> 2173f37ef736c8a39b2fb8f041f5c55cb05905c7
   "metadata": {},
   "outputs": [],
   "source": [
    "final_testing_dataset['Predicted_non_adherence'] = dtc.predict(final_testing_dataset)  "
   ]
  },
  {
   "cell_type": "code",
<<<<<<< HEAD
   "execution_count": 49,
=======
   "execution_count": 47,
   "id": "b89302c6",
>>>>>>> 2173f37ef736c8a39b2fb8f041f5c55cb05905c7
   "metadata": {},
   "outputs": [
    {
     "data": {
      "text/plain": [
       "7       0\n",
       "36      0\n",
       "57      0\n",
       "98      0\n",
       "146     0\n",
       "154     0\n",
       "162     0\n",
       "201     0\n",
       "213     0\n",
       "313     0\n",
       "430     0\n",
       "499     0\n",
       "528     0\n",
       "612     1\n",
       "678     0\n",
       "773     0\n",
       "849     0\n",
       "987     0\n",
       "1157    0\n",
       "Name: Predicted_non_adherence, dtype: int64"
      ]
     },
     "execution_count": 47,
     "metadata": {},
     "output_type": "execute_result"
    }
   ],
   "source": [
    "# Predicted values\n",
    "final_testing_dataset['Predicted_non_adherence']"
   ]
  },
  {
   "cell_type": "markdown",
   "metadata": {},
   "source": [
    "#### Dumping Model as .pickle"
   ]
  },
  {
   "cell_type": "code",
<<<<<<< HEAD
   "execution_count": 50,
=======
   "execution_count": 48,
   "id": "d02ad94e",
>>>>>>> 2173f37ef736c8a39b2fb8f041f5c55cb05905c7
   "metadata": {},
   "outputs": [],
   "source": [
    "# import pickle\n",
    "# pickle.dump(dtc, open('../Trained Model/AdherenceModel', 'wb'))"
   ]
  },
  {
   "cell_type": "markdown",
   "id": "84799759",
   "metadata": {},
   "source": [
    "#### User Example"
   ]
  },
  {
   "cell_type": "code",
   "execution_count": 49,
   "id": "062e3167",
   "metadata": {},
   "outputs": [],
   "source": [
    "#Taking an example \n",
    "# Name : Shivam\n",
    "# Age : 21\n",
    "# Race : Asian\n",
    "# ethnicity: nonhispanic\n",
    "# gender : Male\n",
    "# HEALTHCARE_EXPENSES : 200000\n",
    "# HEALTHCARE_COVERAGE : 10000\n",
    "#CITY :0.052632\n",
    "#COUNTRY : 0.052632\n",
    "#BIRTHPLACE : 0.105263"
   ]
  },
  {
   "cell_type": "code",
   "execution_count": 50,
   "id": "3940bc7e",
   "metadata": {},
   "outputs": [
    {
     "data": {
      "text/html": [
       "<div>\n",
       "<style scoped>\n",
       "    .dataframe tbody tr th:only-of-type {\n",
       "        vertical-align: middle;\n",
       "    }\n",
       "\n",
       "    .dataframe tbody tr th {\n",
       "        vertical-align: top;\n",
       "    }\n",
       "\n",
       "    .dataframe thead th {\n",
       "        text-align: right;\n",
       "    }\n",
       "</style>\n",
       "<table border=\"1\" class=\"dataframe\">\n",
       "  <thead>\n",
       "    <tr style=\"text-align: right;\">\n",
       "      <th></th>\n",
       "      <th>RACE_white</th>\n",
       "      <th>ETHNICITY_nonhispanic</th>\n",
       "      <th>GENDER_M</th>\n",
       "      <th>HEALTHCARE_EXPENSES</th>\n",
       "      <th>HEALTHCARE_COVERAGE</th>\n",
       "      <th>Age</th>\n",
       "      <th>CITY_Encoded</th>\n",
       "      <th>COUNTRY_Encoded</th>\n",
       "      <th>BIRTHPLACE_Encoded</th>\n",
       "    </tr>\n",
       "  </thead>\n",
       "  <tbody>\n",
       "    <tr>\n",
       "      <th>0</th>\n",
       "      <td>1</td>\n",
       "      <td>1</td>\n",
       "      <td>1</td>\n",
       "      <td>200000</td>\n",
       "      <td>10000</td>\n",
       "      <td>21</td>\n",
       "      <td>0.052632</td>\n",
       "      <td>0.052632</td>\n",
       "      <td>0.105263</td>\n",
       "    </tr>\n",
       "  </tbody>\n",
       "</table>\n",
       "</div>"
      ],
      "text/plain": [
       "   RACE_white  ETHNICITY_nonhispanic  GENDER_M  HEALTHCARE_EXPENSES  \\\n",
       "0           1                      1         1               200000   \n",
       "\n",
       "   HEALTHCARE_COVERAGE  Age  CITY_Encoded  COUNTRY_Encoded  BIRTHPLACE_Encoded  \n",
       "0                10000   21      0.052632         0.052632            0.105263  "
      ]
     },
     "execution_count": 50,
     "metadata": {},
     "output_type": "execute_result"
    }
   ],
   "source": [
    "df_user = pd.DataFrame({\"RACE_white\":[1],\"ETHNICITY_nonhispanic\":[1], \"GENDER_M\":[1],\"HEALTHCARE_EXPENSES\":[200000],\"HEALTHCARE_COVERAGE\":[10000],\"Age\":[21],\"CITY_Encoded\":[0.052632],\"COUNTRY_Encoded\":[0.052632],\"BIRTHPLACE_Encoded\":[0.105263]})\n",
    "df_user.head()"
   ]
  },
  {
   "cell_type": "code",
   "execution_count": 51,
   "id": "39188bfe",
   "metadata": {},
   "outputs": [
    {
     "data": {
      "text/plain": [
       "array([1], dtype=int64)"
      ]
     },
     "execution_count": 51,
     "metadata": {},
     "output_type": "execute_result"
    }
   ],
   "source": [
    "dtc.predict(df_user)  "
   ]
  }
 ],
 "metadata": {
  "kernelspec": {
   "display_name": "Python 3",
   "language": "python",
   "name": "python3"
  },
  "language_info": {
   "codemirror_mode": {
    "name": "ipython",
    "version": 3
   },
   "file_extension": ".py",
   "mimetype": "text/x-python",
   "name": "python",
   "nbconvert_exporter": "python",
   "pygments_lexer": "ipython3",
   "version": "3.7.6"
  }
 },
 "nbformat": 4,
 "nbformat_minor": 5
}
