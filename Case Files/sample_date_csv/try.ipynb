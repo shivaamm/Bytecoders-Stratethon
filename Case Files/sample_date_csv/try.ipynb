{
 "cells": [
  {
   "cell_type": "code",
   "execution_count": null,
   "id": "20822cdb",
   "metadata": {},
   "outputs": [],
   "source": [
    "## https://github.com/synthetichealth/synthea/wiki/CSV-File-Data-Dictionary\n",
    "\n",
    "import pandas as pd"
   ]
  },
  {
   "cell_type": "code",
   "execution_count": null,
   "id": "ba045543",
   "metadata": {},
   "outputs": [],
   "source": [
    "patients = pd.read_csv('patients.csv')\n",
    "patients.isnull().sum()"
   ]
  },
  {
   "cell_type": "code",
   "execution_count": null,
   "id": "b0cda5ba",
   "metadata": {
    "scrolled": true
   },
   "outputs": [],
   "source": [
    "allergies = pd.read_csv('allergies.csv')\n",
    "allergies.isnull().sum()\n",
    "#allergies.shape\n",
    "allergies.head()"
   ]
  },
  {
   "cell_type": "code",
   "execution_count": null,
   "id": "ff547f47",
   "metadata": {},
   "outputs": [],
   "source": [
    "medications = pd.read_csv('medications.csv')\n",
    "medications.isnull().sum()\n",
    "#medications.shape"
   ]
  },
  {
   "cell_type": "code",
   "execution_count": null,
   "id": "0542be38",
   "metadata": {},
   "outputs": [],
   "source": [
    "procedures = pd.read_csv('procedures.csv')\n",
    "procedures.head()\n",
    "procedures.isnull().sum()"
   ]
  },
  {
   "cell_type": "code",
   "execution_count": null,
   "id": "2c47d80e",
   "metadata": {},
   "outputs": [],
   "source": [
    "conditions = pd.read_csv('conditions.csv')\n",
    "conditions['PATIENT']"
   ]
  },
  {
   "cell_type": "code",
   "execution_count": null,
   "id": "0e7b9939",
   "metadata": {},
   "outputs": [],
   "source": [
    "conditions.head()"
   ]
  },
  {
   "cell_type": "code",
   "execution_count": null,
   "id": "ac1199fc",
   "metadata": {},
   "outputs": [],
   "source": [
    "encounter = pd.read_csv('encounters.csv')\n",
    "encounter.head()"
   ]
  },
  {
   "cell_type": "code",
   "execution_count": null,
   "id": "b2e6a118",
   "metadata": {},
   "outputs": [],
   "source": [
    "patients.shape"
   ]
  },
  {
   "cell_type": "code",
   "execution_count": null,
   "id": "d86a16ba",
   "metadata": {},
   "outputs": [],
   "source": [
    "1171-1152"
   ]
  },
  {
   "cell_type": "code",
   "execution_count": null,
   "id": "1df4af18",
   "metadata": {},
   "outputs": [],
   "source": [
    "df2 = conditions[conditions['STOP'].isnull()]\n",
    "df2.head()"
   ]
  },
  {
   "cell_type": "code",
   "execution_count": null,
   "id": "6184d26a",
   "metadata": {},
   "outputs": [],
   "source": [
    "df2.shape"
   ]
  },
  {
   "cell_type": "code",
   "execution_count": null,
   "id": "fe167234",
   "metadata": {},
   "outputs": [],
   "source": [
    "df2['PATIENT'].nunique()"
   ]
  },
  {
   "cell_type": "code",
   "execution_count": null,
   "id": "f1ac3c2a",
   "metadata": {},
   "outputs": [],
   "source": [
    "1171 - 922"
   ]
  },
  {
   "cell_type": "code",
   "execution_count": null,
   "id": "24698ea1",
   "metadata": {},
   "outputs": [],
   "source": [
    "df3 = conditions[conditions['STOP'].notnull()]\n",
    "df3.head()"
   ]
  },
  {
   "cell_type": "code",
   "execution_count": null,
   "id": "9cc19da3",
   "metadata": {},
   "outputs": [],
   "source": [
    "df3['PATIENT'].nunique()"
   ]
  },
  {
   "cell_type": "code",
   "execution_count": null,
   "id": "a850436f",
   "metadata": {},
   "outputs": [],
   "source": [
    "1119+922"
   ]
  },
  {
   "cell_type": "code",
   "execution_count": null,
   "id": "ac5ee85c",
   "metadata": {},
   "outputs": [],
   "source": [
    "allergies.isnull().sum()"
   ]
  },
  {
   "cell_type": "code",
   "execution_count": null,
   "id": "a57f3772",
   "metadata": {},
   "outputs": [],
   "source": [
    "allergies.shape"
   ]
  },
  {
   "cell_type": "code",
   "execution_count": null,
   "id": "d17b4baa",
   "metadata": {},
   "outputs": [],
   "source": [
    "597 - 533"
   ]
  },
  {
   "cell_type": "markdown",
   "id": "1cf2a4df",
   "metadata": {},
   "source": [
    "From allergies"
   ]
  },
  {
   "cell_type": "code",
   "execution_count": 25,
   "id": "2566d255",
   "metadata": {},
   "outputs": [],
   "source": [
    "import pandas as pd\n",
    "conditions = pd.read_csv('allergies.csv')"
   ]
  },
  {
   "cell_type": "code",
   "execution_count": 26,
   "id": "52f3fd33",
   "metadata": {},
   "outputs": [
    {
     "name": "stdout",
     "output_type": "stream",
     "text": [
      "Total unique patients in conditions.csv :  141\n",
      "Total unique patients whose condition was not resolved (non - adherent patients) :  137\n",
      "Total unique patients whose condition was resolved (adherent patients) :  4\n"
     ]
    }
   ],
   "source": [
    "total_patients_conditions = conditions['PATIENT'].nunique()\n",
    "total_patients_non_adherant = conditions[conditions['STOP'].isnull()]['PATIENT'].nunique()\n",
    "print('Total unique patients in conditions.csv : ',total_patients_conditions)\n",
    "print('Total unique patients whose condition was not resolved (non - adherent patients) : ',total_patients_non_adherant)\n",
    "print('Total unique patients whose condition was resolved (adherent patients) : ',total_patients_conditions-total_patients_non_adherant)"
   ]
  },
  {
   "cell_type": "code",
   "execution_count": 27,
   "id": "b04c7a7e",
   "metadata": {},
   "outputs": [
    {
     "data": {
      "text/html": [
       "<div>\n",
       "<style scoped>\n",
       "    .dataframe tbody tr th:only-of-type {\n",
       "        vertical-align: middle;\n",
       "    }\n",
       "\n",
       "    .dataframe tbody tr th {\n",
       "        vertical-align: top;\n",
       "    }\n",
       "\n",
       "    .dataframe thead th {\n",
       "        text-align: right;\n",
       "    }\n",
       "</style>\n",
       "<table border=\"1\" class=\"dataframe\">\n",
       "  <thead>\n",
       "    <tr style=\"text-align: right;\">\n",
       "      <th></th>\n",
       "      <th>START</th>\n",
       "      <th>STOP</th>\n",
       "      <th>PATIENT</th>\n",
       "      <th>ENCOUNTER</th>\n",
       "      <th>CODE</th>\n",
       "      <th>DESCRIPTION</th>\n",
       "      <th>isadherent</th>\n",
       "    </tr>\n",
       "  </thead>\n",
       "  <tbody>\n",
       "    <tr>\n",
       "      <th>0</th>\n",
       "      <td>25-10-1982</td>\n",
       "      <td>NaN</td>\n",
       "      <td>76982e06-f8b8-4509-9ca3-65a99c8650fe</td>\n",
       "      <td>b896bf40-8b72-42b7-b205-142ee3a56b55</td>\n",
       "      <td>300916003</td>\n",
       "      <td>Latex allergy</td>\n",
       "      <td>0</td>\n",
       "    </tr>\n",
       "    <tr>\n",
       "      <th>1</th>\n",
       "      <td>25-10-1982</td>\n",
       "      <td>NaN</td>\n",
       "      <td>76982e06-f8b8-4509-9ca3-65a99c8650fe</td>\n",
       "      <td>b896bf40-8b72-42b7-b205-142ee3a56b55</td>\n",
       "      <td>300913006</td>\n",
       "      <td>Shellfish allergy</td>\n",
       "      <td>0</td>\n",
       "    </tr>\n",
       "    <tr>\n",
       "      <th>2</th>\n",
       "      <td>25-01-2002</td>\n",
       "      <td>NaN</td>\n",
       "      <td>71ba0469-f0cc-4177-ac70-ea07cb01c8b8</td>\n",
       "      <td>7be1a590-4239-4826-9872-031327f3c368</td>\n",
       "      <td>419474003</td>\n",
       "      <td>Allergy to mould</td>\n",
       "      <td>0</td>\n",
       "    </tr>\n",
       "    <tr>\n",
       "      <th>3</th>\n",
       "      <td>25-01-2002</td>\n",
       "      <td>NaN</td>\n",
       "      <td>71ba0469-f0cc-4177-ac70-ea07cb01c8b8</td>\n",
       "      <td>7be1a590-4239-4826-9872-031327f3c368</td>\n",
       "      <td>232347008</td>\n",
       "      <td>Dander (animal) allergy</td>\n",
       "      <td>0</td>\n",
       "    </tr>\n",
       "    <tr>\n",
       "      <th>4</th>\n",
       "      <td>25-01-2002</td>\n",
       "      <td>NaN</td>\n",
       "      <td>71ba0469-f0cc-4177-ac70-ea07cb01c8b8</td>\n",
       "      <td>7be1a590-4239-4826-9872-031327f3c368</td>\n",
       "      <td>418689008</td>\n",
       "      <td>Allergy to grass pollen</td>\n",
       "      <td>0</td>\n",
       "    </tr>\n",
       "  </tbody>\n",
       "</table>\n",
       "</div>"
      ],
      "text/plain": [
       "        START STOP                               PATIENT  \\\n",
       "0  25-10-1982  NaN  76982e06-f8b8-4509-9ca3-65a99c8650fe   \n",
       "1  25-10-1982  NaN  76982e06-f8b8-4509-9ca3-65a99c8650fe   \n",
       "2  25-01-2002  NaN  71ba0469-f0cc-4177-ac70-ea07cb01c8b8   \n",
       "3  25-01-2002  NaN  71ba0469-f0cc-4177-ac70-ea07cb01c8b8   \n",
       "4  25-01-2002  NaN  71ba0469-f0cc-4177-ac70-ea07cb01c8b8   \n",
       "\n",
       "                              ENCOUNTER       CODE              DESCRIPTION  \\\n",
       "0  b896bf40-8b72-42b7-b205-142ee3a56b55  300916003            Latex allergy   \n",
       "1  b896bf40-8b72-42b7-b205-142ee3a56b55  300913006        Shellfish allergy   \n",
       "2  7be1a590-4239-4826-9872-031327f3c368  419474003         Allergy to mould   \n",
       "3  7be1a590-4239-4826-9872-031327f3c368  232347008  Dander (animal) allergy   \n",
       "4  7be1a590-4239-4826-9872-031327f3c368  418689008  Allergy to grass pollen   \n",
       "\n",
       "   isadherent  \n",
       "0           0  \n",
       "1           0  \n",
       "2           0  \n",
       "3           0  \n",
       "4           0  "
      ]
     },
     "execution_count": 27,
     "metadata": {},
     "output_type": "execute_result"
    }
   ],
   "source": [
    "conditions['isadherent'] = conditions['STOP'].notnull()*1\n",
    "conditions.head()"
   ]
  },
  {
   "cell_type": "code",
   "execution_count": 28,
   "id": "daf01498",
   "metadata": {},
   "outputs": [
    {
     "data": {
      "text/html": [
       "<div>\n",
       "<style scoped>\n",
       "    .dataframe tbody tr th:only-of-type {\n",
       "        vertical-align: middle;\n",
       "    }\n",
       "\n",
       "    .dataframe tbody tr th {\n",
       "        vertical-align: top;\n",
       "    }\n",
       "\n",
       "    .dataframe thead th {\n",
       "        text-align: right;\n",
       "    }\n",
       "</style>\n",
       "<table border=\"1\" class=\"dataframe\">\n",
       "  <thead>\n",
       "    <tr style=\"text-align: right;\">\n",
       "      <th></th>\n",
       "      <th>PATIENT</th>\n",
       "      <th>isadherent</th>\n",
       "    </tr>\n",
       "  </thead>\n",
       "  <tbody>\n",
       "    <tr>\n",
       "      <th>0</th>\n",
       "      <td>76982e06-f8b8-4509-9ca3-65a99c8650fe</td>\n",
       "      <td>0</td>\n",
       "    </tr>\n",
       "    <tr>\n",
       "      <th>1</th>\n",
       "      <td>76982e06-f8b8-4509-9ca3-65a99c8650fe</td>\n",
       "      <td>0</td>\n",
       "    </tr>\n",
       "    <tr>\n",
       "      <th>2</th>\n",
       "      <td>71ba0469-f0cc-4177-ac70-ea07cb01c8b8</td>\n",
       "      <td>0</td>\n",
       "    </tr>\n",
       "    <tr>\n",
       "      <th>3</th>\n",
       "      <td>71ba0469-f0cc-4177-ac70-ea07cb01c8b8</td>\n",
       "      <td>0</td>\n",
       "    </tr>\n",
       "    <tr>\n",
       "      <th>4</th>\n",
       "      <td>71ba0469-f0cc-4177-ac70-ea07cb01c8b8</td>\n",
       "      <td>0</td>\n",
       "    </tr>\n",
       "  </tbody>\n",
       "</table>\n",
       "</div>"
      ],
      "text/plain": [
       "                                PATIENT  isadherent\n",
       "0  76982e06-f8b8-4509-9ca3-65a99c8650fe           0\n",
       "1  76982e06-f8b8-4509-9ca3-65a99c8650fe           0\n",
       "2  71ba0469-f0cc-4177-ac70-ea07cb01c8b8           0\n",
       "3  71ba0469-f0cc-4177-ac70-ea07cb01c8b8           0\n",
       "4  71ba0469-f0cc-4177-ac70-ea07cb01c8b8           0"
      ]
     },
     "execution_count": 28,
     "metadata": {},
     "output_type": "execute_result"
    }
   ],
   "source": [
    "# Extracting patients and isadherent columns seperately\n",
    "patients_info = conditions[['PATIENT', 'isadherent']]\n",
    "patients_info.head()"
   ]
  },
  {
   "cell_type": "code",
   "execution_count": 29,
   "id": "7b8716f7",
   "metadata": {},
   "outputs": [
    {
     "data": {
      "text/plain": [
       "(160, 2)"
      ]
     },
     "execution_count": 29,
     "metadata": {},
     "output_type": "execute_result"
    }
   ],
   "source": [
    "#removing duplicates\n",
    "patients_info = patients_info.drop_duplicates()\n",
    "patients_info.shape"
   ]
  },
  {
   "cell_type": "code",
   "execution_count": 30,
   "id": "d832537f",
   "metadata": {},
   "outputs": [
    {
     "name": "stdout",
     "output_type": "stream",
     "text": [
      "But total unique patients in conditions.csv :  141\n"
     ]
    }
   ],
   "source": [
    "print('But total unique patients in conditions.csv : ',total_patients_conditions)"
   ]
  },
  {
   "cell_type": "code",
   "execution_count": 31,
   "id": "b4c8cdf1",
   "metadata": {},
   "outputs": [],
   "source": [
    "group = patients_info.groupby('PATIENT')\n",
    "patients_info = group.apply(lambda x : x['isadherent'].unique())\n",
    "patients_info = patients_info.reset_index() \n",
    "patients_info.rename(columns = {0:'isadherent'}, inplace = True)"
   ]
  },
  {
   "cell_type": "code",
   "execution_count": 32,
   "id": "cee7a9ad",
   "metadata": {},
   "outputs": [
    {
     "data": {
      "text/html": [
       "<div>\n",
       "<style scoped>\n",
       "    .dataframe tbody tr th:only-of-type {\n",
       "        vertical-align: middle;\n",
       "    }\n",
       "\n",
       "    .dataframe tbody tr th {\n",
       "        vertical-align: top;\n",
       "    }\n",
       "\n",
       "    .dataframe thead th {\n",
       "        text-align: right;\n",
       "    }\n",
       "</style>\n",
       "<table border=\"1\" class=\"dataframe\">\n",
       "  <thead>\n",
       "    <tr style=\"text-align: right;\">\n",
       "      <th></th>\n",
       "      <th>PATIENT</th>\n",
       "      <th>isadherent</th>\n",
       "    </tr>\n",
       "  </thead>\n",
       "  <tbody>\n",
       "    <tr>\n",
       "      <th>0</th>\n",
       "      <td>0288abb6-633c-40c3-ba0c-66c7d957727e</td>\n",
       "      <td>[0]</td>\n",
       "    </tr>\n",
       "    <tr>\n",
       "      <th>1</th>\n",
       "      <td>076688b0-f0d5-4c45-8bc6-b206684fa9ac</td>\n",
       "      <td>[0]</td>\n",
       "    </tr>\n",
       "    <tr>\n",
       "      <th>2</th>\n",
       "      <td>08ea9043-5f84-46ab-9815-81d90024169a</td>\n",
       "      <td>[0]</td>\n",
       "    </tr>\n",
       "    <tr>\n",
       "      <th>3</th>\n",
       "      <td>09616ead-22c8-4210-8cb9-2fdc28e043ca</td>\n",
       "      <td>[0]</td>\n",
       "    </tr>\n",
       "    <tr>\n",
       "      <th>4</th>\n",
       "      <td>097079b1-ff8f-4ee0-8ce3-0ea744ecfa21</td>\n",
       "      <td>[1, 0]</td>\n",
       "    </tr>\n",
       "  </tbody>\n",
       "</table>\n",
       "</div>"
      ],
      "text/plain": [
       "                                PATIENT isadherent\n",
       "0  0288abb6-633c-40c3-ba0c-66c7d957727e        [0]\n",
       "1  076688b0-f0d5-4c45-8bc6-b206684fa9ac        [0]\n",
       "2  08ea9043-5f84-46ab-9815-81d90024169a        [0]\n",
       "3  09616ead-22c8-4210-8cb9-2fdc28e043ca        [0]\n",
       "4  097079b1-ff8f-4ee0-8ce3-0ea744ecfa21     [1, 0]"
      ]
     },
     "execution_count": 32,
     "metadata": {},
     "output_type": "execute_result"
    }
   ],
   "source": [
    "patients_info.head()"
   ]
  },
  {
   "cell_type": "code",
   "execution_count": 33,
   "id": "93d0bdcf",
   "metadata": {},
   "outputs": [
    {
     "data": {
      "text/html": [
       "<div>\n",
       "<style scoped>\n",
       "    .dataframe tbody tr th:only-of-type {\n",
       "        vertical-align: middle;\n",
       "    }\n",
       "\n",
       "    .dataframe tbody tr th {\n",
       "        vertical-align: top;\n",
       "    }\n",
       "\n",
       "    .dataframe thead th {\n",
       "        text-align: right;\n",
       "    }\n",
       "</style>\n",
       "<table border=\"1\" class=\"dataframe\">\n",
       "  <thead>\n",
       "    <tr style=\"text-align: right;\">\n",
       "      <th></th>\n",
       "      <th>PATIENT</th>\n",
       "      <th>isadherent</th>\n",
       "      <th>freq_isadherent</th>\n",
       "    </tr>\n",
       "  </thead>\n",
       "  <tbody>\n",
       "    <tr>\n",
       "      <th>0</th>\n",
       "      <td>0288abb6-633c-40c3-ba0c-66c7d957727e</td>\n",
       "      <td>[0]</td>\n",
       "      <td>1</td>\n",
       "    </tr>\n",
       "    <tr>\n",
       "      <th>1</th>\n",
       "      <td>076688b0-f0d5-4c45-8bc6-b206684fa9ac</td>\n",
       "      <td>[0]</td>\n",
       "      <td>1</td>\n",
       "    </tr>\n",
       "    <tr>\n",
       "      <th>2</th>\n",
       "      <td>08ea9043-5f84-46ab-9815-81d90024169a</td>\n",
       "      <td>[0]</td>\n",
       "      <td>1</td>\n",
       "    </tr>\n",
       "    <tr>\n",
       "      <th>3</th>\n",
       "      <td>09616ead-22c8-4210-8cb9-2fdc28e043ca</td>\n",
       "      <td>[0]</td>\n",
       "      <td>1</td>\n",
       "    </tr>\n",
       "    <tr>\n",
       "      <th>4</th>\n",
       "      <td>097079b1-ff8f-4ee0-8ce3-0ea744ecfa21</td>\n",
       "      <td>[1, 0]</td>\n",
       "      <td>2</td>\n",
       "    </tr>\n",
       "  </tbody>\n",
       "</table>\n",
       "</div>"
      ],
      "text/plain": [
       "                                PATIENT isadherent  freq_isadherent\n",
       "0  0288abb6-633c-40c3-ba0c-66c7d957727e        [0]                1\n",
       "1  076688b0-f0d5-4c45-8bc6-b206684fa9ac        [0]                1\n",
       "2  08ea9043-5f84-46ab-9815-81d90024169a        [0]                1\n",
       "3  09616ead-22c8-4210-8cb9-2fdc28e043ca        [0]                1\n",
       "4  097079b1-ff8f-4ee0-8ce3-0ea744ecfa21     [1, 0]                2"
      ]
     },
     "execution_count": 33,
     "metadata": {},
     "output_type": "execute_result"
    }
   ],
   "source": [
    "patients_info1 = group.apply(lambda x : x['isadherent'].nunique())\n",
    "patients_info1 = patients_info1.reset_index() \n",
    "patients_info1.rename(columns = {0:'freq_isadherent'}, inplace = True)\n",
    "freq_isadherent = patients_info1['freq_isadherent']\n",
    "patients_info = pd.concat([patients_info, freq_isadherent], axis=1)\n",
    "patients_info.head()"
   ]
  },
  {
   "cell_type": "code",
   "execution_count": 34,
   "id": "381f1218",
   "metadata": {},
   "outputs": [
    {
     "name": "stdout",
     "output_type": "stream",
     "text": [
      "[0]    118\n",
      "0       19\n",
      "[1]      4\n",
      "Name: isadherent, dtype: int64\n"
     ]
    }
   ],
   "source": [
    "patients_info.loc[patients_info['freq_isadherent'] > 1, 'isadherent'] = 0\n",
    "patients_info.drop('freq_isadherent',axis = 1,inplace = True)\n",
    "print(patients_info['isadherent'].value_counts())"
   ]
  },
  {
   "cell_type": "code",
   "execution_count": 35,
   "id": "a32bcf65",
   "metadata": {},
   "outputs": [
    {
     "data": {
      "text/plain": [
       "0    137\n",
       "1      4\n",
       "Name: isadherent, dtype: int64"
      ]
     },
     "execution_count": 35,
     "metadata": {},
     "output_type": "execute_result"
    }
   ],
   "source": [
    "# converting [0] -> 0 and [1] -> 1\n",
    "patients_info.loc[patients_info['isadherent'] == 0, 'isadherent'] = 0\n",
    "patients_info.loc[patients_info['isadherent'] == 1, 'isadherent'] = 1\n",
    "patients_info['isadherent'].value_counts()"
   ]
  },
  {
   "cell_type": "code",
   "execution_count": 36,
   "id": "ec625931",
   "metadata": {},
   "outputs": [
    {
     "data": {
      "text/html": [
       "<div>\n",
       "<style scoped>\n",
       "    .dataframe tbody tr th:only-of-type {\n",
       "        vertical-align: middle;\n",
       "    }\n",
       "\n",
       "    .dataframe tbody tr th {\n",
       "        vertical-align: top;\n",
       "    }\n",
       "\n",
       "    .dataframe thead th {\n",
       "        text-align: right;\n",
       "    }\n",
       "</style>\n",
       "<table border=\"1\" class=\"dataframe\">\n",
       "  <thead>\n",
       "    <tr style=\"text-align: right;\">\n",
       "      <th></th>\n",
       "      <th>PATIENT</th>\n",
       "      <th>isadherent</th>\n",
       "    </tr>\n",
       "  </thead>\n",
       "  <tbody>\n",
       "    <tr>\n",
       "      <th>0</th>\n",
       "      <td>0288abb6-633c-40c3-ba0c-66c7d957727e</td>\n",
       "      <td>0</td>\n",
       "    </tr>\n",
       "    <tr>\n",
       "      <th>1</th>\n",
       "      <td>076688b0-f0d5-4c45-8bc6-b206684fa9ac</td>\n",
       "      <td>0</td>\n",
       "    </tr>\n",
       "    <tr>\n",
       "      <th>2</th>\n",
       "      <td>08ea9043-5f84-46ab-9815-81d90024169a</td>\n",
       "      <td>0</td>\n",
       "    </tr>\n",
       "    <tr>\n",
       "      <th>3</th>\n",
       "      <td>09616ead-22c8-4210-8cb9-2fdc28e043ca</td>\n",
       "      <td>0</td>\n",
       "    </tr>\n",
       "    <tr>\n",
       "      <th>4</th>\n",
       "      <td>097079b1-ff8f-4ee0-8ce3-0ea744ecfa21</td>\n",
       "      <td>0</td>\n",
       "    </tr>\n",
       "    <tr>\n",
       "      <th>...</th>\n",
       "      <td>...</td>\n",
       "      <td>...</td>\n",
       "    </tr>\n",
       "    <tr>\n",
       "      <th>136</th>\n",
       "      <td>f23e12d9-2ec6-4006-b041-ea78d374e9c9</td>\n",
       "      <td>0</td>\n",
       "    </tr>\n",
       "    <tr>\n",
       "      <th>137</th>\n",
       "      <td>f36775e8-bf5a-40a2-a223-679c05b46004</td>\n",
       "      <td>0</td>\n",
       "    </tr>\n",
       "    <tr>\n",
       "      <th>138</th>\n",
       "      <td>f504b982-e99b-4064-ad25-9e5480e769cd</td>\n",
       "      <td>0</td>\n",
       "    </tr>\n",
       "    <tr>\n",
       "      <th>139</th>\n",
       "      <td>f7d7b580-e670-4921-bc67-550ec468d506</td>\n",
       "      <td>0</td>\n",
       "    </tr>\n",
       "    <tr>\n",
       "      <th>140</th>\n",
       "      <td>f830d725-640c-4c94-972a-61207b748347</td>\n",
       "      <td>0</td>\n",
       "    </tr>\n",
       "  </tbody>\n",
       "</table>\n",
       "<p>141 rows × 2 columns</p>\n",
       "</div>"
      ],
      "text/plain": [
       "                                  PATIENT isadherent\n",
       "0    0288abb6-633c-40c3-ba0c-66c7d957727e          0\n",
       "1    076688b0-f0d5-4c45-8bc6-b206684fa9ac          0\n",
       "2    08ea9043-5f84-46ab-9815-81d90024169a          0\n",
       "3    09616ead-22c8-4210-8cb9-2fdc28e043ca          0\n",
       "4    097079b1-ff8f-4ee0-8ce3-0ea744ecfa21          0\n",
       "..                                    ...        ...\n",
       "136  f23e12d9-2ec6-4006-b041-ea78d374e9c9          0\n",
       "137  f36775e8-bf5a-40a2-a223-679c05b46004          0\n",
       "138  f504b982-e99b-4064-ad25-9e5480e769cd          0\n",
       "139  f7d7b580-e670-4921-bc67-550ec468d506          0\n",
       "140  f830d725-640c-4c94-972a-61207b748347          0\n",
       "\n",
       "[141 rows x 2 columns]"
      ]
     },
     "execution_count": 36,
     "metadata": {},
     "output_type": "execute_result"
    }
   ],
   "source": [
    "patients_info"
   ]
  },
  {
   "cell_type": "code",
   "execution_count": 37,
   "id": "dc298b1f",
   "metadata": {},
   "outputs": [
    {
     "name": "stdout",
     "output_type": "stream",
     "text": [
      "Total shape :  (1171, 25)\n",
      "<class 'pandas.core.frame.DataFrame'>\n",
      "RangeIndex: 1171 entries, 0 to 1170\n",
      "Data columns (total 25 columns):\n",
      " #   Column               Non-Null Count  Dtype  \n",
      "---  ------               --------------  -----  \n",
      " 0   Id                   1171 non-null   object \n",
      " 1   BIRTHDATE            1171 non-null   object \n",
      " 2   DEATHDATE            171 non-null    object \n",
      " 3   SSN                  1171 non-null   object \n",
      " 4   DRIVERS              958 non-null    object \n",
      " 5   PASSPORT             898 non-null    object \n",
      " 6   PREFIX               927 non-null    object \n",
      " 7   FIRST                1171 non-null   object \n",
      " 8   LAST                 1171 non-null   object \n",
      " 9   SUFFIX               12 non-null     object \n",
      " 10  MAIDEN               331 non-null    object \n",
      " 11  MARITAL              791 non-null    object \n",
      " 12  RACE                 1171 non-null   object \n",
      " 13  ETHNICITY            1171 non-null   object \n",
      " 14  GENDER               1171 non-null   object \n",
      " 15  BIRTHPLACE           1171 non-null   object \n",
      " 16  ADDRESS              1171 non-null   object \n",
      " 17  CITY                 1171 non-null   object \n",
      " 18  STATE                1171 non-null   object \n",
      " 19  COUNTY               1171 non-null   object \n",
      " 20  ZIP                  628 non-null    float64\n",
      " 21  LAT                  1171 non-null   float64\n",
      " 22  LON                  1171 non-null   float64\n",
      " 23  HEALTHCARE_EXPENSES  1171 non-null   float64\n",
      " 24  HEALTHCARE_COVERAGE  1171 non-null   float64\n",
      "dtypes: float64(5), object(20)\n",
      "memory usage: 228.8+ KB\n"
     ]
    }
   ],
   "source": [
    "patients = pd.read_csv('patients.csv')\n",
    "print('Total shape : ',patients.shape)\n",
    "patients.info()"
   ]
  },
  {
   "cell_type": "code",
   "execution_count": 38,
   "id": "fe6ccead",
   "metadata": {},
   "outputs": [
    {
     "data": {
      "text/html": [
       "<div>\n",
       "<style scoped>\n",
       "    .dataframe tbody tr th:only-of-type {\n",
       "        vertical-align: middle;\n",
       "    }\n",
       "\n",
       "    .dataframe tbody tr th {\n",
       "        vertical-align: top;\n",
       "    }\n",
       "\n",
       "    .dataframe thead th {\n",
       "        text-align: right;\n",
       "    }\n",
       "</style>\n",
       "<table border=\"1\" class=\"dataframe\">\n",
       "  <thead>\n",
       "    <tr style=\"text-align: right;\">\n",
       "      <th></th>\n",
       "      <th>Id</th>\n",
       "      <th>BIRTHDATE</th>\n",
       "      <th>SSN</th>\n",
       "      <th>FIRST</th>\n",
       "      <th>LAST</th>\n",
       "      <th>RACE</th>\n",
       "      <th>ETHNICITY</th>\n",
       "      <th>GENDER</th>\n",
       "      <th>BIRTHPLACE</th>\n",
       "      <th>ADDRESS</th>\n",
       "      <th>CITY</th>\n",
       "      <th>STATE</th>\n",
       "      <th>HEALTHCARE_EXPENSES</th>\n",
       "      <th>HEALTHCARE_COVERAGE</th>\n",
       "    </tr>\n",
       "  </thead>\n",
       "  <tbody>\n",
       "    <tr>\n",
       "      <th>0</th>\n",
       "      <td>1d604da9-9a81-4ba9-80c2-de3375d59b40</td>\n",
       "      <td>1989-05-25</td>\n",
       "      <td>999-76-6866</td>\n",
       "      <td>José Eduardo181</td>\n",
       "      <td>Gómez206</td>\n",
       "      <td>white</td>\n",
       "      <td>hispanic</td>\n",
       "      <td>M</td>\n",
       "      <td>Marigot  Saint Andrew Parish  DM</td>\n",
       "      <td>427 Balistreri Way Unit 19</td>\n",
       "      <td>Chicopee</td>\n",
       "      <td>Massachusetts</td>\n",
       "      <td>271227.08</td>\n",
       "      <td>1334.88</td>\n",
       "    </tr>\n",
       "    <tr>\n",
       "      <th>1</th>\n",
       "      <td>034e9e3b-2def-4559-bb2a-7850888ae060</td>\n",
       "      <td>1983-11-14</td>\n",
       "      <td>999-73-5361</td>\n",
       "      <td>Milo271</td>\n",
       "      <td>Feil794</td>\n",
       "      <td>white</td>\n",
       "      <td>nonhispanic</td>\n",
       "      <td>M</td>\n",
       "      <td>Danvers  Massachusetts  US</td>\n",
       "      <td>422 Farrell Path Unit 69</td>\n",
       "      <td>Somerville</td>\n",
       "      <td>Massachusetts</td>\n",
       "      <td>793946.01</td>\n",
       "      <td>3204.49</td>\n",
       "    </tr>\n",
       "    <tr>\n",
       "      <th>2</th>\n",
       "      <td>10339b10-3cd1-4ac3-ac13-ec26728cb592</td>\n",
       "      <td>1992-06-02</td>\n",
       "      <td>999-27-3385</td>\n",
       "      <td>Jayson808</td>\n",
       "      <td>Fadel536</td>\n",
       "      <td>white</td>\n",
       "      <td>nonhispanic</td>\n",
       "      <td>M</td>\n",
       "      <td>Springfield  Massachusetts  US</td>\n",
       "      <td>1056 Harris Lane Suite 70</td>\n",
       "      <td>Chicopee</td>\n",
       "      <td>Massachusetts</td>\n",
       "      <td>574111.90</td>\n",
       "      <td>2606.40</td>\n",
       "    </tr>\n",
       "    <tr>\n",
       "      <th>3</th>\n",
       "      <td>8d4c4326-e9de-4f45-9a4c-f8c36bff89ae</td>\n",
       "      <td>1978-05-27</td>\n",
       "      <td>999-85-4926</td>\n",
       "      <td>Mariana775</td>\n",
       "      <td>Rutherford999</td>\n",
       "      <td>white</td>\n",
       "      <td>nonhispanic</td>\n",
       "      <td>F</td>\n",
       "      <td>Yarmouth  Massachusetts  US</td>\n",
       "      <td>999 Kuhn Forge</td>\n",
       "      <td>Lowell</td>\n",
       "      <td>Massachusetts</td>\n",
       "      <td>935630.30</td>\n",
       "      <td>8756.19</td>\n",
       "    </tr>\n",
       "    <tr>\n",
       "      <th>4</th>\n",
       "      <td>f5dcd418-09fe-4a2f-baa0-3da800bd8c3a</td>\n",
       "      <td>1996-10-18</td>\n",
       "      <td>999-60-7372</td>\n",
       "      <td>Gregorio366</td>\n",
       "      <td>Auer97</td>\n",
       "      <td>white</td>\n",
       "      <td>nonhispanic</td>\n",
       "      <td>M</td>\n",
       "      <td>Patras  Achaea  GR</td>\n",
       "      <td>1050 Lindgren Extension Apt 38</td>\n",
       "      <td>Boston</td>\n",
       "      <td>Massachusetts</td>\n",
       "      <td>598763.07</td>\n",
       "      <td>3772.20</td>\n",
       "    </tr>\n",
       "  </tbody>\n",
       "</table>\n",
       "</div>"
      ],
      "text/plain": [
       "                                     Id   BIRTHDATE          SSN  \\\n",
       "0  1d604da9-9a81-4ba9-80c2-de3375d59b40  1989-05-25  999-76-6866   \n",
       "1  034e9e3b-2def-4559-bb2a-7850888ae060  1983-11-14  999-73-5361   \n",
       "2  10339b10-3cd1-4ac3-ac13-ec26728cb592  1992-06-02  999-27-3385   \n",
       "3  8d4c4326-e9de-4f45-9a4c-f8c36bff89ae  1978-05-27  999-85-4926   \n",
       "4  f5dcd418-09fe-4a2f-baa0-3da800bd8c3a  1996-10-18  999-60-7372   \n",
       "\n",
       "             FIRST           LAST   RACE    ETHNICITY GENDER  \\\n",
       "0  José Eduardo181       Gómez206  white     hispanic      M   \n",
       "1          Milo271        Feil794  white  nonhispanic      M   \n",
       "2        Jayson808       Fadel536  white  nonhispanic      M   \n",
       "3       Mariana775  Rutherford999  white  nonhispanic      F   \n",
       "4      Gregorio366         Auer97  white  nonhispanic      M   \n",
       "\n",
       "                         BIRTHPLACE                         ADDRESS  \\\n",
       "0  Marigot  Saint Andrew Parish  DM      427 Balistreri Way Unit 19   \n",
       "1        Danvers  Massachusetts  US        422 Farrell Path Unit 69   \n",
       "2    Springfield  Massachusetts  US       1056 Harris Lane Suite 70   \n",
       "3       Yarmouth  Massachusetts  US                  999 Kuhn Forge   \n",
       "4                Patras  Achaea  GR  1050 Lindgren Extension Apt 38   \n",
       "\n",
       "         CITY          STATE  HEALTHCARE_EXPENSES  HEALTHCARE_COVERAGE  \n",
       "0    Chicopee  Massachusetts            271227.08              1334.88  \n",
       "1  Somerville  Massachusetts            793946.01              3204.49  \n",
       "2    Chicopee  Massachusetts            574111.90              2606.40  \n",
       "3      Lowell  Massachusetts            935630.30              8756.19  \n",
       "4      Boston  Massachusetts            598763.07              3772.20  "
      ]
     },
     "execution_count": 38,
     "metadata": {},
     "output_type": "execute_result"
    }
   ],
   "source": [
    "# Droping unnecessary columns\n",
    "patients.drop(['DEATHDATE','DRIVERS','PASSPORT','PREFIX','SUFFIX','MAIDEN','MARITAL','COUNTY','ZIP','LAT','LON'],axis = 1,inplace = True)\n",
    "patients.head()"
   ]
  },
  {
   "cell_type": "code",
   "execution_count": 39,
   "id": "5ecc7e59",
   "metadata": {},
   "outputs": [
    {
     "data": {
      "text/html": [
       "<div>\n",
       "<style scoped>\n",
       "    .dataframe tbody tr th:only-of-type {\n",
       "        vertical-align: middle;\n",
       "    }\n",
       "\n",
       "    .dataframe tbody tr th {\n",
       "        vertical-align: top;\n",
       "    }\n",
       "\n",
       "    .dataframe thead th {\n",
       "        text-align: right;\n",
       "    }\n",
       "</style>\n",
       "<table border=\"1\" class=\"dataframe\">\n",
       "  <thead>\n",
       "    <tr style=\"text-align: right;\">\n",
       "      <th></th>\n",
       "      <th>Id</th>\n",
       "      <th>isadherent</th>\n",
       "    </tr>\n",
       "  </thead>\n",
       "  <tbody>\n",
       "    <tr>\n",
       "      <th>0</th>\n",
       "      <td>0288abb6-633c-40c3-ba0c-66c7d957727e</td>\n",
       "      <td>0</td>\n",
       "    </tr>\n",
       "    <tr>\n",
       "      <th>1</th>\n",
       "      <td>076688b0-f0d5-4c45-8bc6-b206684fa9ac</td>\n",
       "      <td>0</td>\n",
       "    </tr>\n",
       "    <tr>\n",
       "      <th>2</th>\n",
       "      <td>08ea9043-5f84-46ab-9815-81d90024169a</td>\n",
       "      <td>0</td>\n",
       "    </tr>\n",
       "    <tr>\n",
       "      <th>3</th>\n",
       "      <td>09616ead-22c8-4210-8cb9-2fdc28e043ca</td>\n",
       "      <td>0</td>\n",
       "    </tr>\n",
       "    <tr>\n",
       "      <th>4</th>\n",
       "      <td>097079b1-ff8f-4ee0-8ce3-0ea744ecfa21</td>\n",
       "      <td>0</td>\n",
       "    </tr>\n",
       "  </tbody>\n",
       "</table>\n",
       "</div>"
      ],
      "text/plain": [
       "                                     Id isadherent\n",
       "0  0288abb6-633c-40c3-ba0c-66c7d957727e          0\n",
       "1  076688b0-f0d5-4c45-8bc6-b206684fa9ac          0\n",
       "2  08ea9043-5f84-46ab-9815-81d90024169a          0\n",
       "3  09616ead-22c8-4210-8cb9-2fdc28e043ca          0\n",
       "4  097079b1-ff8f-4ee0-8ce3-0ea744ecfa21          0"
      ]
     },
     "execution_count": 39,
     "metadata": {},
     "output_type": "execute_result"
    }
   ],
   "source": [
    "patients_info.rename(columns = {'PATIENT':'Id'}, inplace = True)\n",
    "patients_info.head()"
   ]
  },
  {
   "cell_type": "code",
   "execution_count": 40,
   "id": "99a4cb48",
   "metadata": {},
   "outputs": [
    {
     "data": {
      "text/html": [
       "<div>\n",
       "<style scoped>\n",
       "    .dataframe tbody tr th:only-of-type {\n",
       "        vertical-align: middle;\n",
       "    }\n",
       "\n",
       "    .dataframe tbody tr th {\n",
       "        vertical-align: top;\n",
       "    }\n",
       "\n",
       "    .dataframe thead th {\n",
       "        text-align: right;\n",
       "    }\n",
       "</style>\n",
       "<table border=\"1\" class=\"dataframe\">\n",
       "  <thead>\n",
       "    <tr style=\"text-align: right;\">\n",
       "      <th></th>\n",
       "      <th>Id</th>\n",
       "      <th>BIRTHDATE</th>\n",
       "      <th>SSN</th>\n",
       "      <th>FIRST</th>\n",
       "      <th>LAST</th>\n",
       "      <th>RACE</th>\n",
       "      <th>ETHNICITY</th>\n",
       "      <th>GENDER</th>\n",
       "      <th>BIRTHPLACE</th>\n",
       "      <th>ADDRESS</th>\n",
       "      <th>CITY</th>\n",
       "      <th>STATE</th>\n",
       "      <th>HEALTHCARE_EXPENSES</th>\n",
       "      <th>HEALTHCARE_COVERAGE</th>\n",
       "      <th>isadherent</th>\n",
       "    </tr>\n",
       "  </thead>\n",
       "  <tbody>\n",
       "    <tr>\n",
       "      <th>0</th>\n",
       "      <td>1d604da9-9a81-4ba9-80c2-de3375d59b40</td>\n",
       "      <td>1989-05-25</td>\n",
       "      <td>999-76-6866</td>\n",
       "      <td>José Eduardo181</td>\n",
       "      <td>Gómez206</td>\n",
       "      <td>white</td>\n",
       "      <td>hispanic</td>\n",
       "      <td>M</td>\n",
       "      <td>Marigot  Saint Andrew Parish  DM</td>\n",
       "      <td>427 Balistreri Way Unit 19</td>\n",
       "      <td>Chicopee</td>\n",
       "      <td>Massachusetts</td>\n",
       "      <td>271227.08</td>\n",
       "      <td>1334.88</td>\n",
       "      <td>NaN</td>\n",
       "    </tr>\n",
       "    <tr>\n",
       "      <th>1</th>\n",
       "      <td>034e9e3b-2def-4559-bb2a-7850888ae060</td>\n",
       "      <td>1983-11-14</td>\n",
       "      <td>999-73-5361</td>\n",
       "      <td>Milo271</td>\n",
       "      <td>Feil794</td>\n",
       "      <td>white</td>\n",
       "      <td>nonhispanic</td>\n",
       "      <td>M</td>\n",
       "      <td>Danvers  Massachusetts  US</td>\n",
       "      <td>422 Farrell Path Unit 69</td>\n",
       "      <td>Somerville</td>\n",
       "      <td>Massachusetts</td>\n",
       "      <td>793946.01</td>\n",
       "      <td>3204.49</td>\n",
       "      <td>NaN</td>\n",
       "    </tr>\n",
       "    <tr>\n",
       "      <th>2</th>\n",
       "      <td>10339b10-3cd1-4ac3-ac13-ec26728cb592</td>\n",
       "      <td>1992-06-02</td>\n",
       "      <td>999-27-3385</td>\n",
       "      <td>Jayson808</td>\n",
       "      <td>Fadel536</td>\n",
       "      <td>white</td>\n",
       "      <td>nonhispanic</td>\n",
       "      <td>M</td>\n",
       "      <td>Springfield  Massachusetts  US</td>\n",
       "      <td>1056 Harris Lane Suite 70</td>\n",
       "      <td>Chicopee</td>\n",
       "      <td>Massachusetts</td>\n",
       "      <td>574111.90</td>\n",
       "      <td>2606.40</td>\n",
       "      <td>NaN</td>\n",
       "    </tr>\n",
       "    <tr>\n",
       "      <th>3</th>\n",
       "      <td>8d4c4326-e9de-4f45-9a4c-f8c36bff89ae</td>\n",
       "      <td>1978-05-27</td>\n",
       "      <td>999-85-4926</td>\n",
       "      <td>Mariana775</td>\n",
       "      <td>Rutherford999</td>\n",
       "      <td>white</td>\n",
       "      <td>nonhispanic</td>\n",
       "      <td>F</td>\n",
       "      <td>Yarmouth  Massachusetts  US</td>\n",
       "      <td>999 Kuhn Forge</td>\n",
       "      <td>Lowell</td>\n",
       "      <td>Massachusetts</td>\n",
       "      <td>935630.30</td>\n",
       "      <td>8756.19</td>\n",
       "      <td>NaN</td>\n",
       "    </tr>\n",
       "    <tr>\n",
       "      <th>4</th>\n",
       "      <td>f5dcd418-09fe-4a2f-baa0-3da800bd8c3a</td>\n",
       "      <td>1996-10-18</td>\n",
       "      <td>999-60-7372</td>\n",
       "      <td>Gregorio366</td>\n",
       "      <td>Auer97</td>\n",
       "      <td>white</td>\n",
       "      <td>nonhispanic</td>\n",
       "      <td>M</td>\n",
       "      <td>Patras  Achaea  GR</td>\n",
       "      <td>1050 Lindgren Extension Apt 38</td>\n",
       "      <td>Boston</td>\n",
       "      <td>Massachusetts</td>\n",
       "      <td>598763.07</td>\n",
       "      <td>3772.20</td>\n",
       "      <td>NaN</td>\n",
       "    </tr>\n",
       "  </tbody>\n",
       "</table>\n",
       "</div>"
      ],
      "text/plain": [
       "                                     Id   BIRTHDATE          SSN  \\\n",
       "0  1d604da9-9a81-4ba9-80c2-de3375d59b40  1989-05-25  999-76-6866   \n",
       "1  034e9e3b-2def-4559-bb2a-7850888ae060  1983-11-14  999-73-5361   \n",
       "2  10339b10-3cd1-4ac3-ac13-ec26728cb592  1992-06-02  999-27-3385   \n",
       "3  8d4c4326-e9de-4f45-9a4c-f8c36bff89ae  1978-05-27  999-85-4926   \n",
       "4  f5dcd418-09fe-4a2f-baa0-3da800bd8c3a  1996-10-18  999-60-7372   \n",
       "\n",
       "             FIRST           LAST   RACE    ETHNICITY GENDER  \\\n",
       "0  José Eduardo181       Gómez206  white     hispanic      M   \n",
       "1          Milo271        Feil794  white  nonhispanic      M   \n",
       "2        Jayson808       Fadel536  white  nonhispanic      M   \n",
       "3       Mariana775  Rutherford999  white  nonhispanic      F   \n",
       "4      Gregorio366         Auer97  white  nonhispanic      M   \n",
       "\n",
       "                         BIRTHPLACE                         ADDRESS  \\\n",
       "0  Marigot  Saint Andrew Parish  DM      427 Balistreri Way Unit 19   \n",
       "1        Danvers  Massachusetts  US        422 Farrell Path Unit 69   \n",
       "2    Springfield  Massachusetts  US       1056 Harris Lane Suite 70   \n",
       "3       Yarmouth  Massachusetts  US                  999 Kuhn Forge   \n",
       "4                Patras  Achaea  GR  1050 Lindgren Extension Apt 38   \n",
       "\n",
       "         CITY          STATE  HEALTHCARE_EXPENSES  HEALTHCARE_COVERAGE  \\\n",
       "0    Chicopee  Massachusetts            271227.08              1334.88   \n",
       "1  Somerville  Massachusetts            793946.01              3204.49   \n",
       "2    Chicopee  Massachusetts            574111.90              2606.40   \n",
       "3      Lowell  Massachusetts            935630.30              8756.19   \n",
       "4      Boston  Massachusetts            598763.07              3772.20   \n",
       "\n",
       "  isadherent  \n",
       "0        NaN  \n",
       "1        NaN  \n",
       "2        NaN  \n",
       "3        NaN  \n",
       "4        NaN  "
      ]
     },
     "execution_count": 40,
     "metadata": {},
     "output_type": "execute_result"
    }
   ],
   "source": [
    "df = (pd.merge(patients, patients_info,how='outer',on = 'Id'))\n",
    "df.head()"
   ]
  },
  {
   "cell_type": "code",
   "execution_count": 41,
   "id": "b51199e0",
   "metadata": {},
   "outputs": [
    {
     "data": {
      "text/plain": [
       "Id                        0\n",
       "BIRTHDATE                 0\n",
       "SSN                       0\n",
       "FIRST                     0\n",
       "LAST                      0\n",
       "RACE                      0\n",
       "ETHNICITY                 0\n",
       "GENDER                    0\n",
       "BIRTHPLACE                0\n",
       "ADDRESS                   0\n",
       "CITY                      0\n",
       "STATE                     0\n",
       "HEALTHCARE_EXPENSES       0\n",
       "HEALTHCARE_COVERAGE       0\n",
       "isadherent             1030\n",
       "dtype: int64"
      ]
     },
     "execution_count": 41,
     "metadata": {},
     "output_type": "execute_result"
    }
   ],
   "source": [
    "df.isnull().sum()"
   ]
  },
  {
   "cell_type": "code",
   "execution_count": 42,
   "id": "30b61047",
   "metadata": {},
   "outputs": [
    {
     "data": {
      "text/plain": [
       "(1171, 15)"
      ]
     },
     "execution_count": 42,
     "metadata": {},
     "output_type": "execute_result"
    }
   ],
   "source": [
    "df.shape"
   ]
  },
  {
   "cell_type": "code",
   "execution_count": 24,
   "id": "0343a035",
   "metadata": {},
   "outputs": [
    {
     "data": {
      "text/plain": [
       "141"
      ]
     },
     "execution_count": 24,
     "metadata": {},
     "output_type": "execute_result"
    }
   ],
   "source": [
    "1171 - 1030"
   ]
  },
  {
   "cell_type": "code",
   "execution_count": null,
   "id": "abeaa07e",
   "metadata": {},
   "outputs": [],
   "source": []
  }
 ],
 "metadata": {
  "kernelspec": {
   "display_name": "Python 3",
   "language": "python",
   "name": "python3"
  },
  "language_info": {
   "codemirror_mode": {
    "name": "ipython",
    "version": 3
   },
   "file_extension": ".py",
   "mimetype": "text/x-python",
   "name": "python",
   "nbconvert_exporter": "python",
   "pygments_lexer": "ipython3",
   "version": "3.8.8"
  }
 },
 "nbformat": 4,
 "nbformat_minor": 5
}
