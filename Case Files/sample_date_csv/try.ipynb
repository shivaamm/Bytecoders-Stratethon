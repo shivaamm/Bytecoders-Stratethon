{
 "cells": [
  {
   "cell_type": "markdown",
   "id": "18edcdff",
   "metadata": {},
   "source": [
    "## https://github.com/synthetichealth/synthea/wiki/CSV-File-Data-Dictionary"
   ]
  },
  {
   "cell_type": "code",
   "execution_count": 1,
   "id": "20822cdb",
   "metadata": {},
   "outputs": [],
   "source": [
    "import pandas as pd"
   ]
  },
  {
   "cell_type": "code",
   "execution_count": 24,
   "id": "ba045543",
   "metadata": {
    "collapsed": true
   },
   "outputs": [
    {
     "data": {
      "text/plain": [
       "Id                        0\n",
       "BIRTHDATE                 0\n",
       "DEATHDATE              1000\n",
       "SSN                       0\n",
       "DRIVERS                 213\n",
       "PASSPORT                273\n",
       "PREFIX                  244\n",
       "FIRST                     0\n",
       "LAST                      0\n",
       "SUFFIX                 1159\n",
       "MAIDEN                  840\n",
       "MARITAL                 380\n",
       "RACE                      0\n",
       "ETHNICITY                 0\n",
       "GENDER                    0\n",
       "BIRTHPLACE                0\n",
       "ADDRESS                   0\n",
       "CITY                      0\n",
       "STATE                     0\n",
       "COUNTY                    0\n",
       "ZIP                     543\n",
       "LAT                       0\n",
       "LON                       0\n",
       "HEALTHCARE_EXPENSES       0\n",
       "HEALTHCARE_COVERAGE       0\n",
       "dtype: int64"
      ]
     },
     "execution_count": 24,
     "metadata": {},
     "output_type": "execute_result"
    }
   ],
   "source": [
    "patients = pd.read_csv('patients.csv')\n",
    "patients.isnull().sum()"
   ]
  },
  {
   "cell_type": "code",
   "execution_count": 28,
   "id": "b0cda5ba",
   "metadata": {
    "scrolled": true
   },
   "outputs": [
    {
     "data": {
      "text/html": [
       "<div>\n",
       "<style scoped>\n",
       "    .dataframe tbody tr th:only-of-type {\n",
       "        vertical-align: middle;\n",
       "    }\n",
       "\n",
       "    .dataframe tbody tr th {\n",
       "        vertical-align: top;\n",
       "    }\n",
       "\n",
       "    .dataframe thead th {\n",
       "        text-align: right;\n",
       "    }\n",
       "</style>\n",
       "<table border=\"1\" class=\"dataframe\">\n",
       "  <thead>\n",
       "    <tr style=\"text-align: right;\">\n",
       "      <th></th>\n",
       "      <th>START</th>\n",
       "      <th>STOP</th>\n",
       "      <th>PATIENT</th>\n",
       "      <th>ENCOUNTER</th>\n",
       "      <th>CODE</th>\n",
       "      <th>DESCRIPTION</th>\n",
       "    </tr>\n",
       "  </thead>\n",
       "  <tbody>\n",
       "    <tr>\n",
       "      <th>0</th>\n",
       "      <td>25-10-1982</td>\n",
       "      <td>NaN</td>\n",
       "      <td>76982e06-f8b8-4509-9ca3-65a99c8650fe</td>\n",
       "      <td>b896bf40-8b72-42b7-b205-142ee3a56b55</td>\n",
       "      <td>300916003</td>\n",
       "      <td>Latex allergy</td>\n",
       "    </tr>\n",
       "    <tr>\n",
       "      <th>1</th>\n",
       "      <td>25-10-1982</td>\n",
       "      <td>NaN</td>\n",
       "      <td>76982e06-f8b8-4509-9ca3-65a99c8650fe</td>\n",
       "      <td>b896bf40-8b72-42b7-b205-142ee3a56b55</td>\n",
       "      <td>300913006</td>\n",
       "      <td>Shellfish allergy</td>\n",
       "    </tr>\n",
       "    <tr>\n",
       "      <th>2</th>\n",
       "      <td>25-01-2002</td>\n",
       "      <td>NaN</td>\n",
       "      <td>71ba0469-f0cc-4177-ac70-ea07cb01c8b8</td>\n",
       "      <td>7be1a590-4239-4826-9872-031327f3c368</td>\n",
       "      <td>419474003</td>\n",
       "      <td>Allergy to mould</td>\n",
       "    </tr>\n",
       "    <tr>\n",
       "      <th>3</th>\n",
       "      <td>25-01-2002</td>\n",
       "      <td>NaN</td>\n",
       "      <td>71ba0469-f0cc-4177-ac70-ea07cb01c8b8</td>\n",
       "      <td>7be1a590-4239-4826-9872-031327f3c368</td>\n",
       "      <td>232347008</td>\n",
       "      <td>Dander (animal) allergy</td>\n",
       "    </tr>\n",
       "    <tr>\n",
       "      <th>4</th>\n",
       "      <td>25-01-2002</td>\n",
       "      <td>NaN</td>\n",
       "      <td>71ba0469-f0cc-4177-ac70-ea07cb01c8b8</td>\n",
       "      <td>7be1a590-4239-4826-9872-031327f3c368</td>\n",
       "      <td>418689008</td>\n",
       "      <td>Allergy to grass pollen</td>\n",
       "    </tr>\n",
       "  </tbody>\n",
       "</table>\n",
       "</div>"
      ],
      "text/plain": [
       "        START STOP                               PATIENT  \\\n",
       "0  25-10-1982  NaN  76982e06-f8b8-4509-9ca3-65a99c8650fe   \n",
       "1  25-10-1982  NaN  76982e06-f8b8-4509-9ca3-65a99c8650fe   \n",
       "2  25-01-2002  NaN  71ba0469-f0cc-4177-ac70-ea07cb01c8b8   \n",
       "3  25-01-2002  NaN  71ba0469-f0cc-4177-ac70-ea07cb01c8b8   \n",
       "4  25-01-2002  NaN  71ba0469-f0cc-4177-ac70-ea07cb01c8b8   \n",
       "\n",
       "                              ENCOUNTER       CODE              DESCRIPTION  \n",
       "0  b896bf40-8b72-42b7-b205-142ee3a56b55  300916003            Latex allergy  \n",
       "1  b896bf40-8b72-42b7-b205-142ee3a56b55  300913006        Shellfish allergy  \n",
       "2  7be1a590-4239-4826-9872-031327f3c368  419474003         Allergy to mould  \n",
       "3  7be1a590-4239-4826-9872-031327f3c368  232347008  Dander (animal) allergy  \n",
       "4  7be1a590-4239-4826-9872-031327f3c368  418689008  Allergy to grass pollen  "
      ]
     },
     "execution_count": 28,
     "metadata": {},
     "output_type": "execute_result"
    }
   ],
   "source": [
    "allergies = pd.read_csv('allergies.csv')\n",
    "allergies.isnull().sum()\n",
    "#allergies.shape\n",
    "allergies.head()"
   ]
  },
  {
   "cell_type": "code",
   "execution_count": 31,
   "id": "ff547f47",
   "metadata": {},
   "outputs": [
    {
     "data": {
      "text/plain": [
       "START                    0\n",
       "STOP                  1895\n",
       "PATIENT                  0\n",
       "PAYER                    0\n",
       "ENCOUNTER                0\n",
       "CODE                     0\n",
       "DESCRIPTION              0\n",
       "BASE_COST                0\n",
       "PAYER_COVERAGE           0\n",
       "DISPENSES                0\n",
       "TOTALCOST                0\n",
       "REASONCODE           11117\n",
       "REASONDESCRIPTION    11117\n",
       "dtype: int64"
      ]
     },
     "execution_count": 31,
     "metadata": {},
     "output_type": "execute_result"
    }
   ],
   "source": [
    "medications = pd.read_csv('medications.csv')\n",
    "medications.isnull().sum()\n",
    "#medications.shape"
   ]
  },
  {
   "cell_type": "code",
   "execution_count": 32,
   "id": "0542be38",
   "metadata": {},
   "outputs": [
    {
     "data": {
      "text/plain": [
       "DATE                     0\n",
       "PATIENT                  0\n",
       "ENCOUNTER                0\n",
       "CODE                     0\n",
       "DESCRIPTION              0\n",
       "BASE_COST                0\n",
       "REASONCODE           15544\n",
       "REASONDESCRIPTION    15544\n",
       "dtype: int64"
      ]
     },
     "execution_count": 32,
     "metadata": {},
     "output_type": "execute_result"
    }
   ],
   "source": [
    "procedures = pd.read_csv('procedures.csv')\n",
    "procedures.head()\n",
    "procedures.isnull().sum()"
   ]
  },
  {
   "cell_type": "code",
   "execution_count": 48,
   "id": "2c47d80e",
   "metadata": {},
   "outputs": [],
   "source": [
    "conditions = pd.read_csv('conditions.csv')\n",
    "conditions['PATIENT']"
   ]
  },
  {
   "cell_type": "code",
   "execution_count": 34,
   "id": "0e7b9939",
   "metadata": {},
   "outputs": [
    {
     "data": {
      "text/html": [
       "<div>\n",
       "<style scoped>\n",
       "    .dataframe tbody tr th:only-of-type {\n",
       "        vertical-align: middle;\n",
       "    }\n",
       "\n",
       "    .dataframe tbody tr th {\n",
       "        vertical-align: top;\n",
       "    }\n",
       "\n",
       "    .dataframe thead th {\n",
       "        text-align: right;\n",
       "    }\n",
       "</style>\n",
       "<table border=\"1\" class=\"dataframe\">\n",
       "  <thead>\n",
       "    <tr style=\"text-align: right;\">\n",
       "      <th></th>\n",
       "      <th>START</th>\n",
       "      <th>STOP</th>\n",
       "      <th>PATIENT</th>\n",
       "      <th>ENCOUNTER</th>\n",
       "      <th>CODE</th>\n",
       "      <th>DESCRIPTION</th>\n",
       "    </tr>\n",
       "  </thead>\n",
       "  <tbody>\n",
       "    <tr>\n",
       "      <th>0</th>\n",
       "      <td>2001-05-01</td>\n",
       "      <td>NaN</td>\n",
       "      <td>1d604da9-9a81-4ba9-80c2-de3375d59b40</td>\n",
       "      <td>8f104aa7-4ca9-4473-885a-bba2437df588</td>\n",
       "      <td>40055000</td>\n",
       "      <td>Chronic sinusitis (disorder)</td>\n",
       "    </tr>\n",
       "    <tr>\n",
       "      <th>1</th>\n",
       "      <td>2011-08-09</td>\n",
       "      <td>2011-08-16</td>\n",
       "      <td>8d4c4326-e9de-4f45-9a4c-f8c36bff89ae</td>\n",
       "      <td>9d35ec9f-352a-4629-92ef-38eae38437e7</td>\n",
       "      <td>444814009</td>\n",
       "      <td>Viral sinusitis (disorder)</td>\n",
       "    </tr>\n",
       "    <tr>\n",
       "      <th>2</th>\n",
       "      <td>2011-11-16</td>\n",
       "      <td>2011-11-26</td>\n",
       "      <td>8d4c4326-e9de-4f45-9a4c-f8c36bff89ae</td>\n",
       "      <td>ae7555a9-eaff-4c09-98a7-21bc6ed1b1fd</td>\n",
       "      <td>195662009</td>\n",
       "      <td>Acute viral pharyngitis (disorder)</td>\n",
       "    </tr>\n",
       "    <tr>\n",
       "      <th>3</th>\n",
       "      <td>2011-05-13</td>\n",
       "      <td>2011-05-27</td>\n",
       "      <td>10339b10-3cd1-4ac3-ac13-ec26728cb592</td>\n",
       "      <td>e1ab4933-07a1-49f0-b4bd-05500919061d</td>\n",
       "      <td>10509002</td>\n",
       "      <td>Acute bronchitis (disorder)</td>\n",
       "    </tr>\n",
       "    <tr>\n",
       "      <th>4</th>\n",
       "      <td>2011-02-06</td>\n",
       "      <td>2011-02-14</td>\n",
       "      <td>f5dcd418-09fe-4a2f-baa0-3da800bd8c3a</td>\n",
       "      <td>b8f76eba-7795-4dcd-a544-f27ac2ef3d46</td>\n",
       "      <td>195662009</td>\n",
       "      <td>Acute viral pharyngitis (disorder)</td>\n",
       "    </tr>\n",
       "  </tbody>\n",
       "</table>\n",
       "</div>"
      ],
      "text/plain": [
       "        START        STOP                               PATIENT  \\\n",
       "0  2001-05-01         NaN  1d604da9-9a81-4ba9-80c2-de3375d59b40   \n",
       "1  2011-08-09  2011-08-16  8d4c4326-e9de-4f45-9a4c-f8c36bff89ae   \n",
       "2  2011-11-16  2011-11-26  8d4c4326-e9de-4f45-9a4c-f8c36bff89ae   \n",
       "3  2011-05-13  2011-05-27  10339b10-3cd1-4ac3-ac13-ec26728cb592   \n",
       "4  2011-02-06  2011-02-14  f5dcd418-09fe-4a2f-baa0-3da800bd8c3a   \n",
       "\n",
       "                              ENCOUNTER       CODE  \\\n",
       "0  8f104aa7-4ca9-4473-885a-bba2437df588   40055000   \n",
       "1  9d35ec9f-352a-4629-92ef-38eae38437e7  444814009   \n",
       "2  ae7555a9-eaff-4c09-98a7-21bc6ed1b1fd  195662009   \n",
       "3  e1ab4933-07a1-49f0-b4bd-05500919061d   10509002   \n",
       "4  b8f76eba-7795-4dcd-a544-f27ac2ef3d46  195662009   \n",
       "\n",
       "                          DESCRIPTION  \n",
       "0        Chronic sinusitis (disorder)  \n",
       "1          Viral sinusitis (disorder)  \n",
       "2  Acute viral pharyngitis (disorder)  \n",
       "3         Acute bronchitis (disorder)  \n",
       "4  Acute viral pharyngitis (disorder)  "
      ]
     },
     "execution_count": 34,
     "metadata": {},
     "output_type": "execute_result"
    }
   ],
   "source": [
    "conditions.head()"
   ]
  },
  {
   "cell_type": "code",
   "execution_count": 38,
   "id": "ac1199fc",
   "metadata": {
    "collapsed": true
   },
   "outputs": [
    {
     "data": {
      "text/html": [
       "<div>\n",
       "<style scoped>\n",
       "    .dataframe tbody tr th:only-of-type {\n",
       "        vertical-align: middle;\n",
       "    }\n",
       "\n",
       "    .dataframe tbody tr th {\n",
       "        vertical-align: top;\n",
       "    }\n",
       "\n",
       "    .dataframe thead th {\n",
       "        text-align: right;\n",
       "    }\n",
       "</style>\n",
       "<table border=\"1\" class=\"dataframe\">\n",
       "  <thead>\n",
       "    <tr style=\"text-align: right;\">\n",
       "      <th></th>\n",
       "      <th>Id</th>\n",
       "      <th>START</th>\n",
       "      <th>STOP</th>\n",
       "      <th>PATIENT</th>\n",
       "      <th>ORGANIZATION</th>\n",
       "      <th>PROVIDER</th>\n",
       "      <th>PAYER</th>\n",
       "      <th>ENCOUNTERCLASS</th>\n",
       "      <th>CODE</th>\n",
       "      <th>DESCRIPTION</th>\n",
       "      <th>BASE_ENCOUNTER_COST</th>\n",
       "      <th>TOTAL_CLAIM_COST</th>\n",
       "      <th>PAYER_COVERAGE</th>\n",
       "      <th>REASONCODE</th>\n",
       "      <th>REASONDESCRIPTION</th>\n",
       "    </tr>\n",
       "  </thead>\n",
       "  <tbody>\n",
       "    <tr>\n",
       "      <th>0</th>\n",
       "      <td>d0c40d10-8d87-447e-836e-99d26ad52ea5</td>\n",
       "      <td>2010-01-23T17:45:28Z</td>\n",
       "      <td>2010-01-23T18:10:28Z</td>\n",
       "      <td>034e9e3b-2def-4559-bb2a-7850888ae060</td>\n",
       "      <td>e002090d-4e92-300e-b41e-7d1f21dee4c6</td>\n",
       "      <td>e6283e46-fd81-3611-9459-0edb1c3da357</td>\n",
       "      <td>6e2f1a2d-27bd-3701-8d08-dae202c58632</td>\n",
       "      <td>ambulatory</td>\n",
       "      <td>185345009</td>\n",
       "      <td>Encounter for symptom</td>\n",
       "      <td>129.16</td>\n",
       "      <td>129.16</td>\n",
       "      <td>54.16</td>\n",
       "      <td>10509002.0</td>\n",
       "      <td>Acute bronchitis (disorder)</td>\n",
       "    </tr>\n",
       "    <tr>\n",
       "      <th>1</th>\n",
       "      <td>e88bc3a9-007c-405e-aabc-792a38f4aa2b</td>\n",
       "      <td>2012-01-23T17:45:28Z</td>\n",
       "      <td>2012-01-23T18:00:28Z</td>\n",
       "      <td>034e9e3b-2def-4559-bb2a-7850888ae060</td>\n",
       "      <td>772ee193-bb9f-30eb-9939-21e86c8e4da5</td>\n",
       "      <td>6f1d59a7-a5bd-3cf9-9671-5bad2f351c28</td>\n",
       "      <td>6e2f1a2d-27bd-3701-8d08-dae202c58632</td>\n",
       "      <td>wellness</td>\n",
       "      <td>162673000</td>\n",
       "      <td>General examination of patient (procedure)</td>\n",
       "      <td>129.16</td>\n",
       "      <td>129.16</td>\n",
       "      <td>129.16</td>\n",
       "      <td>NaN</td>\n",
       "      <td>NaN</td>\n",
       "    </tr>\n",
       "    <tr>\n",
       "      <th>2</th>\n",
       "      <td>8f104aa7-4ca9-4473-885a-bba2437df588</td>\n",
       "      <td>2001-05-01T15:02:18Z</td>\n",
       "      <td>2001-05-01T15:17:18Z</td>\n",
       "      <td>1d604da9-9a81-4ba9-80c2-de3375d59b40</td>\n",
       "      <td>5d4b9df1-93ae-3bc9-b680-03249990e558</td>\n",
       "      <td>af01a385-31d3-3c77-8fdb-2867fe88df2f</td>\n",
       "      <td>b1c428d6-4f07-31e0-90f0-68ffa6ff8c76</td>\n",
       "      <td>ambulatory</td>\n",
       "      <td>185345009</td>\n",
       "      <td>Encounter for symptom</td>\n",
       "      <td>129.16</td>\n",
       "      <td>129.16</td>\n",
       "      <td>0.00</td>\n",
       "      <td>36971009.0</td>\n",
       "      <td>Sinusitis (disorder)</td>\n",
       "    </tr>\n",
       "    <tr>\n",
       "      <th>3</th>\n",
       "      <td>b85c339a-6076-43ed-b9d0-9cf013dec49d</td>\n",
       "      <td>2011-07-28T15:02:18Z</td>\n",
       "      <td>2011-07-28T15:17:18Z</td>\n",
       "      <td>1d604da9-9a81-4ba9-80c2-de3375d59b40</td>\n",
       "      <td>3dc9bb2d-5d66-3e61-bf9a-e234c6433577</td>\n",
       "      <td>bb17e691-262b-3546-93d5-d88e7de93246</td>\n",
       "      <td>b1c428d6-4f07-31e0-90f0-68ffa6ff8c76</td>\n",
       "      <td>wellness</td>\n",
       "      <td>162673000</td>\n",
       "      <td>General examination of patient (procedure)</td>\n",
       "      <td>129.16</td>\n",
       "      <td>129.16</td>\n",
       "      <td>0.00</td>\n",
       "      <td>NaN</td>\n",
       "      <td>NaN</td>\n",
       "    </tr>\n",
       "    <tr>\n",
       "      <th>4</th>\n",
       "      <td>dae2b7cb-1316-4b78-954f-fa610a6c6d0e</td>\n",
       "      <td>2010-07-27T12:58:08Z</td>\n",
       "      <td>2010-07-27T13:28:08Z</td>\n",
       "      <td>10339b10-3cd1-4ac3-ac13-ec26728cb592</td>\n",
       "      <td>b03dba4f-892f-365c-bfd1-bfcfa7a98d5d</td>\n",
       "      <td>7ed6b84a-b847-3744-9d42-15c42297a0c2</td>\n",
       "      <td>d47b3510-2895-3b70-9897-342d681c769d</td>\n",
       "      <td>wellness</td>\n",
       "      <td>162673000</td>\n",
       "      <td>General examination of patient (procedure)</td>\n",
       "      <td>129.16</td>\n",
       "      <td>129.16</td>\n",
       "      <td>129.16</td>\n",
       "      <td>NaN</td>\n",
       "      <td>NaN</td>\n",
       "    </tr>\n",
       "  </tbody>\n",
       "</table>\n",
       "</div>"
      ],
      "text/plain": [
       "                                     Id                 START  \\\n",
       "0  d0c40d10-8d87-447e-836e-99d26ad52ea5  2010-01-23T17:45:28Z   \n",
       "1  e88bc3a9-007c-405e-aabc-792a38f4aa2b  2012-01-23T17:45:28Z   \n",
       "2  8f104aa7-4ca9-4473-885a-bba2437df588  2001-05-01T15:02:18Z   \n",
       "3  b85c339a-6076-43ed-b9d0-9cf013dec49d  2011-07-28T15:02:18Z   \n",
       "4  dae2b7cb-1316-4b78-954f-fa610a6c6d0e  2010-07-27T12:58:08Z   \n",
       "\n",
       "                   STOP                               PATIENT  \\\n",
       "0  2010-01-23T18:10:28Z  034e9e3b-2def-4559-bb2a-7850888ae060   \n",
       "1  2012-01-23T18:00:28Z  034e9e3b-2def-4559-bb2a-7850888ae060   \n",
       "2  2001-05-01T15:17:18Z  1d604da9-9a81-4ba9-80c2-de3375d59b40   \n",
       "3  2011-07-28T15:17:18Z  1d604da9-9a81-4ba9-80c2-de3375d59b40   \n",
       "4  2010-07-27T13:28:08Z  10339b10-3cd1-4ac3-ac13-ec26728cb592   \n",
       "\n",
       "                           ORGANIZATION                              PROVIDER  \\\n",
       "0  e002090d-4e92-300e-b41e-7d1f21dee4c6  e6283e46-fd81-3611-9459-0edb1c3da357   \n",
       "1  772ee193-bb9f-30eb-9939-21e86c8e4da5  6f1d59a7-a5bd-3cf9-9671-5bad2f351c28   \n",
       "2  5d4b9df1-93ae-3bc9-b680-03249990e558  af01a385-31d3-3c77-8fdb-2867fe88df2f   \n",
       "3  3dc9bb2d-5d66-3e61-bf9a-e234c6433577  bb17e691-262b-3546-93d5-d88e7de93246   \n",
       "4  b03dba4f-892f-365c-bfd1-bfcfa7a98d5d  7ed6b84a-b847-3744-9d42-15c42297a0c2   \n",
       "\n",
       "                                  PAYER ENCOUNTERCLASS       CODE  \\\n",
       "0  6e2f1a2d-27bd-3701-8d08-dae202c58632     ambulatory  185345009   \n",
       "1  6e2f1a2d-27bd-3701-8d08-dae202c58632       wellness  162673000   \n",
       "2  b1c428d6-4f07-31e0-90f0-68ffa6ff8c76     ambulatory  185345009   \n",
       "3  b1c428d6-4f07-31e0-90f0-68ffa6ff8c76       wellness  162673000   \n",
       "4  d47b3510-2895-3b70-9897-342d681c769d       wellness  162673000   \n",
       "\n",
       "                                  DESCRIPTION  BASE_ENCOUNTER_COST  \\\n",
       "0                       Encounter for symptom               129.16   \n",
       "1  General examination of patient (procedure)               129.16   \n",
       "2                       Encounter for symptom               129.16   \n",
       "3  General examination of patient (procedure)               129.16   \n",
       "4  General examination of patient (procedure)               129.16   \n",
       "\n",
       "   TOTAL_CLAIM_COST  PAYER_COVERAGE  REASONCODE            REASONDESCRIPTION  \n",
       "0            129.16           54.16  10509002.0  Acute bronchitis (disorder)  \n",
       "1            129.16          129.16         NaN                          NaN  \n",
       "2            129.16            0.00  36971009.0         Sinusitis (disorder)  \n",
       "3            129.16            0.00         NaN                          NaN  \n",
       "4            129.16          129.16         NaN                          NaN  "
      ]
     },
     "execution_count": 38,
     "metadata": {},
     "output_type": "execute_result"
    }
   ],
   "source": [
    "encounter = pd.read_csv('encounters.csv')\n",
    "encounter.head()"
   ]
  },
  {
   "cell_type": "code",
   "execution_count": 39,
   "id": "b2e6a118",
   "metadata": {},
   "outputs": [
    {
     "data": {
      "text/plain": [
       "(1171, 25)"
      ]
     },
     "execution_count": 39,
     "metadata": {},
     "output_type": "execute_result"
    }
   ],
   "source": [
    "patients.shape"
   ]
  },
  {
   "cell_type": "code",
   "execution_count": 47,
   "id": "d86a16ba",
   "metadata": {},
   "outputs": [
    {
     "data": {
      "text/plain": [
       "19"
      ]
     },
     "execution_count": 47,
     "metadata": {},
     "output_type": "execute_result"
    }
   ],
   "source": [
    "1171-1152"
   ]
  },
  {
   "cell_type": "code",
   "execution_count": 52,
   "id": "1df4af18",
   "metadata": {},
   "outputs": [
    {
     "data": {
      "text/html": [
       "<div>\n",
       "<style scoped>\n",
       "    .dataframe tbody tr th:only-of-type {\n",
       "        vertical-align: middle;\n",
       "    }\n",
       "\n",
       "    .dataframe tbody tr th {\n",
       "        vertical-align: top;\n",
       "    }\n",
       "\n",
       "    .dataframe thead th {\n",
       "        text-align: right;\n",
       "    }\n",
       "</style>\n",
       "<table border=\"1\" class=\"dataframe\">\n",
       "  <thead>\n",
       "    <tr style=\"text-align: right;\">\n",
       "      <th></th>\n",
       "      <th>START</th>\n",
       "      <th>STOP</th>\n",
       "      <th>PATIENT</th>\n",
       "      <th>ENCOUNTER</th>\n",
       "      <th>CODE</th>\n",
       "      <th>DESCRIPTION</th>\n",
       "    </tr>\n",
       "  </thead>\n",
       "  <tbody>\n",
       "    <tr>\n",
       "      <th>0</th>\n",
       "      <td>2001-05-01</td>\n",
       "      <td>NaN</td>\n",
       "      <td>1d604da9-9a81-4ba9-80c2-de3375d59b40</td>\n",
       "      <td>8f104aa7-4ca9-4473-885a-bba2437df588</td>\n",
       "      <td>40055000</td>\n",
       "      <td>Chronic sinusitis (disorder)</td>\n",
       "    </tr>\n",
       "    <tr>\n",
       "      <th>17</th>\n",
       "      <td>2013-11-15</td>\n",
       "      <td>NaN</td>\n",
       "      <td>b1e9b0b9-da6e-4f68-b603-bd896a50ca86</td>\n",
       "      <td>09e946c1-67fd-4234-93e0-a560373f8b08</td>\n",
       "      <td>40055000</td>\n",
       "      <td>Chronic sinusitis (disorder)</td>\n",
       "    </tr>\n",
       "    <tr>\n",
       "      <th>23</th>\n",
       "      <td>2004-07-31</td>\n",
       "      <td>NaN</td>\n",
       "      <td>b58731cc-2d8b-4c2d-b327-4cab771af3ef</td>\n",
       "      <td>c855eddb-1301-493b-b1b1-7f5c3c5a934f</td>\n",
       "      <td>162864005</td>\n",
       "      <td>Body mass index 30+ - obesity (finding)</td>\n",
       "    </tr>\n",
       "    <tr>\n",
       "      <th>26</th>\n",
       "      <td>2016-03-20</td>\n",
       "      <td>NaN</td>\n",
       "      <td>b58731cc-2d8b-4c2d-b327-4cab771af3ef</td>\n",
       "      <td>d870177c-5819-4ca7-b802-545ef9ba5f11</td>\n",
       "      <td>196416002</td>\n",
       "      <td>Impacted molars</td>\n",
       "    </tr>\n",
       "    <tr>\n",
       "      <th>34</th>\n",
       "      <td>2010-09-01</td>\n",
       "      <td>NaN</td>\n",
       "      <td>bfb6537b-535a-4f31-9a56-073220f96a17</td>\n",
       "      <td>22661173-a731-43e8-b308-7d144af2fb0e</td>\n",
       "      <td>40055000</td>\n",
       "      <td>Chronic sinusitis (disorder)</td>\n",
       "    </tr>\n",
       "  </tbody>\n",
       "</table>\n",
       "</div>"
      ],
      "text/plain": [
       "         START STOP                               PATIENT  \\\n",
       "0   2001-05-01  NaN  1d604da9-9a81-4ba9-80c2-de3375d59b40   \n",
       "17  2013-11-15  NaN  b1e9b0b9-da6e-4f68-b603-bd896a50ca86   \n",
       "23  2004-07-31  NaN  b58731cc-2d8b-4c2d-b327-4cab771af3ef   \n",
       "26  2016-03-20  NaN  b58731cc-2d8b-4c2d-b327-4cab771af3ef   \n",
       "34  2010-09-01  NaN  bfb6537b-535a-4f31-9a56-073220f96a17   \n",
       "\n",
       "                               ENCOUNTER       CODE  \\\n",
       "0   8f104aa7-4ca9-4473-885a-bba2437df588   40055000   \n",
       "17  09e946c1-67fd-4234-93e0-a560373f8b08   40055000   \n",
       "23  c855eddb-1301-493b-b1b1-7f5c3c5a934f  162864005   \n",
       "26  d870177c-5819-4ca7-b802-545ef9ba5f11  196416002   \n",
       "34  22661173-a731-43e8-b308-7d144af2fb0e   40055000   \n",
       "\n",
       "                                DESCRIPTION  \n",
       "0              Chronic sinusitis (disorder)  \n",
       "17             Chronic sinusitis (disorder)  \n",
       "23  Body mass index 30+ - obesity (finding)  \n",
       "26                          Impacted molars  \n",
       "34             Chronic sinusitis (disorder)  "
      ]
     },
     "execution_count": 52,
     "metadata": {},
     "output_type": "execute_result"
    }
   ],
   "source": [
    "df2 = conditions[conditions['STOP'].isnull()]\n",
    "df2.head()"
   ]
  },
  {
   "cell_type": "code",
   "execution_count": 53,
   "id": "6184d26a",
   "metadata": {},
   "outputs": [
    {
     "data": {
      "text/plain": [
       "(3811, 6)"
      ]
     },
     "execution_count": 53,
     "metadata": {},
     "output_type": "execute_result"
    }
   ],
   "source": [
    "df2.shape"
   ]
  },
  {
   "cell_type": "code",
   "execution_count": 55,
   "id": "fe167234",
   "metadata": {},
   "outputs": [
    {
     "data": {
      "text/plain": [
       "922"
      ]
     },
     "execution_count": 55,
     "metadata": {},
     "output_type": "execute_result"
    }
   ],
   "source": [
    "df2['PATIENT'].nunique()"
   ]
  },
  {
   "cell_type": "code",
   "execution_count": 57,
   "id": "f1ac3c2a",
   "metadata": {},
   "outputs": [
    {
     "data": {
      "text/plain": [
       "249"
      ]
     },
     "execution_count": 57,
     "metadata": {},
     "output_type": "execute_result"
    }
   ],
   "source": [
    "1171 - 922"
   ]
  },
  {
   "cell_type": "code",
   "execution_count": 58,
   "id": "24698ea1",
   "metadata": {},
   "outputs": [
    {
     "data": {
      "text/html": [
       "<div>\n",
       "<style scoped>\n",
       "    .dataframe tbody tr th:only-of-type {\n",
       "        vertical-align: middle;\n",
       "    }\n",
       "\n",
       "    .dataframe tbody tr th {\n",
       "        vertical-align: top;\n",
       "    }\n",
       "\n",
       "    .dataframe thead th {\n",
       "        text-align: right;\n",
       "    }\n",
       "</style>\n",
       "<table border=\"1\" class=\"dataframe\">\n",
       "  <thead>\n",
       "    <tr style=\"text-align: right;\">\n",
       "      <th></th>\n",
       "      <th>START</th>\n",
       "      <th>STOP</th>\n",
       "      <th>PATIENT</th>\n",
       "      <th>ENCOUNTER</th>\n",
       "      <th>CODE</th>\n",
       "      <th>DESCRIPTION</th>\n",
       "    </tr>\n",
       "  </thead>\n",
       "  <tbody>\n",
       "    <tr>\n",
       "      <th>1</th>\n",
       "      <td>2011-08-09</td>\n",
       "      <td>2011-08-16</td>\n",
       "      <td>8d4c4326-e9de-4f45-9a4c-f8c36bff89ae</td>\n",
       "      <td>9d35ec9f-352a-4629-92ef-38eae38437e7</td>\n",
       "      <td>444814009</td>\n",
       "      <td>Viral sinusitis (disorder)</td>\n",
       "    </tr>\n",
       "    <tr>\n",
       "      <th>2</th>\n",
       "      <td>2011-11-16</td>\n",
       "      <td>2011-11-26</td>\n",
       "      <td>8d4c4326-e9de-4f45-9a4c-f8c36bff89ae</td>\n",
       "      <td>ae7555a9-eaff-4c09-98a7-21bc6ed1b1fd</td>\n",
       "      <td>195662009</td>\n",
       "      <td>Acute viral pharyngitis (disorder)</td>\n",
       "    </tr>\n",
       "    <tr>\n",
       "      <th>3</th>\n",
       "      <td>2011-05-13</td>\n",
       "      <td>2011-05-27</td>\n",
       "      <td>10339b10-3cd1-4ac3-ac13-ec26728cb592</td>\n",
       "      <td>e1ab4933-07a1-49f0-b4bd-05500919061d</td>\n",
       "      <td>10509002</td>\n",
       "      <td>Acute bronchitis (disorder)</td>\n",
       "    </tr>\n",
       "    <tr>\n",
       "      <th>4</th>\n",
       "      <td>2011-02-06</td>\n",
       "      <td>2011-02-14</td>\n",
       "      <td>f5dcd418-09fe-4a2f-baa0-3da800bd8c3a</td>\n",
       "      <td>b8f76eba-7795-4dcd-a544-f27ac2ef3d46</td>\n",
       "      <td>195662009</td>\n",
       "      <td>Acute viral pharyngitis (disorder)</td>\n",
       "    </tr>\n",
       "    <tr>\n",
       "      <th>5</th>\n",
       "      <td>2011-04-18</td>\n",
       "      <td>2011-04-28</td>\n",
       "      <td>f5dcd418-09fe-4a2f-baa0-3da800bd8c3a</td>\n",
       "      <td>640837d9-845a-433c-9fad-47426664a69d</td>\n",
       "      <td>195662009</td>\n",
       "      <td>Acute viral pharyngitis (disorder)</td>\n",
       "    </tr>\n",
       "  </tbody>\n",
       "</table>\n",
       "</div>"
      ],
      "text/plain": [
       "        START        STOP                               PATIENT  \\\n",
       "1  2011-08-09  2011-08-16  8d4c4326-e9de-4f45-9a4c-f8c36bff89ae   \n",
       "2  2011-11-16  2011-11-26  8d4c4326-e9de-4f45-9a4c-f8c36bff89ae   \n",
       "3  2011-05-13  2011-05-27  10339b10-3cd1-4ac3-ac13-ec26728cb592   \n",
       "4  2011-02-06  2011-02-14  f5dcd418-09fe-4a2f-baa0-3da800bd8c3a   \n",
       "5  2011-04-18  2011-04-28  f5dcd418-09fe-4a2f-baa0-3da800bd8c3a   \n",
       "\n",
       "                              ENCOUNTER       CODE  \\\n",
       "1  9d35ec9f-352a-4629-92ef-38eae38437e7  444814009   \n",
       "2  ae7555a9-eaff-4c09-98a7-21bc6ed1b1fd  195662009   \n",
       "3  e1ab4933-07a1-49f0-b4bd-05500919061d   10509002   \n",
       "4  b8f76eba-7795-4dcd-a544-f27ac2ef3d46  195662009   \n",
       "5  640837d9-845a-433c-9fad-47426664a69d  195662009   \n",
       "\n",
       "                          DESCRIPTION  \n",
       "1          Viral sinusitis (disorder)  \n",
       "2  Acute viral pharyngitis (disorder)  \n",
       "3         Acute bronchitis (disorder)  \n",
       "4  Acute viral pharyngitis (disorder)  \n",
       "5  Acute viral pharyngitis (disorder)  "
      ]
     },
     "execution_count": 58,
     "metadata": {},
     "output_type": "execute_result"
    }
   ],
   "source": [
    "df3 = conditions[conditions['STOP'].notnull()]\n",
    "df3.head()"
   ]
  },
  {
   "cell_type": "code",
   "execution_count": 60,
   "id": "9cc19da3",
   "metadata": {},
   "outputs": [
    {
     "data": {
      "text/plain": [
       "1119"
      ]
     },
     "execution_count": 60,
     "metadata": {},
     "output_type": "execute_result"
    }
   ],
   "source": [
    "df3['PATIENT'].nunique()"
   ]
  },
  {
   "cell_type": "code",
   "execution_count": 61,
   "id": "a850436f",
   "metadata": {},
   "outputs": [
    {
     "data": {
      "text/plain": [
       "2041"
      ]
     },
     "execution_count": 61,
     "metadata": {},
     "output_type": "execute_result"
    }
   ],
   "source": [
    "1119+922"
   ]
  },
  {
   "cell_type": "code",
   "execution_count": null,
   "id": "ac5ee85c",
   "metadata": {},
   "outputs": [],
   "source": []
  }
 ],
 "metadata": {
  "kernelspec": {
   "display_name": "Python 3",
   "language": "python",
   "name": "python3"
  },
  "language_info": {
   "codemirror_mode": {
    "name": "ipython",
    "version": 3
   },
   "file_extension": ".py",
   "mimetype": "text/x-python",
   "name": "python",
   "nbconvert_exporter": "python",
   "pygments_lexer": "ipython3",
   "version": "3.8.8"
  }
 },
 "nbformat": 4,
 "nbformat_minor": 5
}
